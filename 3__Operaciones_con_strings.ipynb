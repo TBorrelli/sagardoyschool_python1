{
 "cells": [
  {
   "cell_type": "markdown",
   "metadata": {},
   "source": [
    "# Operaciones con strings"
   ]
  },
  {
   "cell_type": "markdown",
   "metadata": {},
   "source": [
    "El siguiente ejemplo muestra una <code>string</code> contenida entre 2 comillas:"
   ]
  },
  {
   "cell_type": "code",
   "execution_count": 1,
   "metadata": {
    "collapsed": false,
    "jupyter": {
     "outputs_hidden": false
    }
   },
   "outputs": [
    {
     "data": {
      "text/plain": [
       "'Tiziano Borrelli'"
      ]
     },
     "execution_count": 1,
     "metadata": {},
     "output_type": "execute_result"
    }
   ],
   "source": [
    "# Utilizar comillas para definir la string\n",
    "\n",
    "\"Tiziano Borrelli\""
   ]
  },
  {
   "cell_type": "markdown",
   "metadata": {},
   "source": [
    "También podemos utilizar comillas simples:"
   ]
  },
  {
   "cell_type": "code",
   "execution_count": 2,
   "metadata": {
    "collapsed": false,
    "jupyter": {
     "outputs_hidden": false
    }
   },
   "outputs": [
    {
     "data": {
      "text/plain": [
       "'Tiziano Borrelli'"
      ]
     },
     "execution_count": 2,
     "metadata": {},
     "output_type": "execute_result"
    }
   ],
   "source": [
    "# Utilice comillas simples para definir la string\n",
    "'Tiziano Borrelli'"
   ]
  },
  {
   "cell_type": "markdown",
   "metadata": {},
   "source": [
    "Una <code>string</code> puede ser una combinación de espacios y dígitos:"
   ]
  },
  {
   "cell_type": "code",
   "execution_count": 3,
   "metadata": {
    "collapsed": false,
    "jupyter": {
     "outputs_hidden": false
    }
   },
   "outputs": [
    {
     "data": {
      "text/plain": [
       "'1 2 3 4 5 6 '"
      ]
     },
     "execution_count": 3,
     "metadata": {},
     "output_type": "execute_result"
    }
   ],
   "source": [
    "# Numeros y espacios en la string\n",
    "'1 2 3 4 5 6 '"
   ]
  },
  {
   "cell_type": "markdown",
   "metadata": {},
   "source": [
    "Una string también puede ser una combinación de caracteres especiales:"
   ]
  },
  {
   "cell_type": "code",
   "execution_count": 4,
   "metadata": {
    "collapsed": false,
    "jupyter": {
     "outputs_hidden": false
    }
   },
   "outputs": [
    {
     "data": {
      "text/plain": [
       "'@#2_#]&*^%$'"
      ]
     },
     "execution_count": 4,
     "metadata": {},
     "output_type": "execute_result"
    }
   ],
   "source": [
    "# Caracteres especiales en la string\n",
    "'@#2_#]&*^%$'"
   ]
  },
  {
   "cell_type": "markdown",
   "metadata": {},
   "source": [
    "Podemos imprimir nuestra <code>string</code> utilizando <code>print</code>:"
   ]
  },
  {
   "cell_type": "code",
   "execution_count": 5,
   "metadata": {
    "collapsed": false,
    "jupyter": {
     "outputs_hidden": false
    }
   },
   "outputs": [
    {
     "name": "stdout",
     "output_type": "stream",
     "text": [
      "¡hola!\n"
     ]
    }
   ],
   "source": [
    "# Imprimir la string\n",
    "print(\"¡hola!\")"
   ]
  },
  {
   "cell_type": "markdown",
   "metadata": {},
   "source": [
    "Podemos vincular o asignar una <code>string</code> a otra variable:\n"
   ]
  },
  {
   "cell_type": "code",
   "execution_count": 6,
   "metadata": {
    "collapsed": false,
    "jupyter": {
     "outputs_hidden": false
    }
   },
   "outputs": [
    {
     "data": {
      "text/plain": [
       "'Tiziano Borrelli'"
      ]
     },
     "execution_count": 6,
     "metadata": {},
     "output_type": "execute_result"
    }
   ],
   "source": [
    "# Asignar Name a string\n",
    "Nombre = \"Tiziano Borrelli\"\n",
    "Nombre\n"
   ]
  },
  {
   "cell_type": "markdown",
   "metadata": {},
   "source": [
    "<hr>"
   ]
  },
  {
   "cell_type": "markdown",
   "metadata": {},
   "source": [
    "<h2 id=\"index\">Indexing</h2>"
   ]
  },
  {
   "cell_type": "markdown",
   "metadata": {},
   "source": [
    "Es útil considerar una string como una secuencia ordenada. Se puede acceder a cada elemento de la secuencia utilizando un índice representado por la matriz de números:"
   ]
  },
  {
   "cell_type": "markdown",
   "metadata": {},
   "source": [
    "<img src=\"data:image/png;base64, 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\" width=\"600\" align=\"center\" />"
   ]
  },
  {
   "cell_type": "markdown",
   "metadata": {},
   "source": [
    "Se puede acceder al primer índice de la siguiente manera:"
   ]
  },
  {
   "cell_type": "markdown",
   "metadata": {},
   "source": [
    "<hr/>\n",
    "<div class=\"alert alert-success alertsuccess\" style=\"margin-top: 20px\">\n",
    "[Consejo]: Como la indexación empieza en 0, significa que el primer índice está en el índice 0.\n",
    "</div>\n",
    "</hr>"
   ]
  },
  {
   "cell_type": "code",
   "execution_count": 7,
   "metadata": {
    "collapsed": false,
    "jupyter": {
     "outputs_hidden": false
    }
   },
   "outputs": [
    {
     "name": "stdout",
     "output_type": "stream",
     "text": [
      "T\n"
     ]
    }
   ],
   "source": [
    "# Imprime el primer elemento de la string\n",
    "print(Nombre[0])"
   ]
  },
  {
   "cell_type": "markdown",
   "metadata": {},
   "source": [
    "Podemos acceder al índice 6:"
   ]
  },
  {
   "cell_type": "code",
   "execution_count": 8,
   "metadata": {
    "collapsed": false,
    "jupyter": {
     "outputs_hidden": false
    }
   },
   "outputs": [
    {
     "name": "stdout",
     "output_type": "stream",
     "text": [
      "o\n"
     ]
    }
   ],
   "source": [
    "# Imprime el elemento en el índice 6 de la string\n",
    "print(Nombre[6])"
   ]
  },
  {
   "cell_type": "markdown",
   "metadata": {},
   "source": [
    "Además, podemos acceder al índice 13:"
   ]
  },
  {
   "cell_type": "code",
   "execution_count": 9,
   "metadata": {
    "collapsed": false,
    "jupyter": {
     "outputs_hidden": false
    }
   },
   "outputs": [
    {
     "name": "stdout",
     "output_type": "stream",
     "text": [
      "l\n"
     ]
    }
   ],
   "source": [
    "# Imprime el elemento en el índice 13 de la string\n",
    "print(Nombre[13])"
   ]
  },
  {
   "cell_type": "markdown",
   "metadata": {},
   "source": [
    "<h3 id=\"neg\">Indexación negativa</h3>"
   ]
  },
  {
   "cell_type": "markdown",
   "metadata": {},
   "source": [
    "También podemos utilizar la indexación negativa con <code>string</code>:"
   ]
  },
  {
   "cell_type": "markdown",
   "metadata": {},
   "source": [
    "<img src=\"data:image/png;base64, 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\" width=\"600\" align=\"center\" />"
   ]
  },
  {
   "cell_type": "markdown",
   "metadata": {},
   "source": [
    "El índice negativo puede ayudarnos a contar el elemento desde el final de la <code>string</code>"
   ]
  },
  {
   "cell_type": "markdown",
   "metadata": {},
   "source": [
    "El último elemento viene dado por el índice -1:"
   ]
  },
  {
   "cell_type": "code",
   "execution_count": 10,
   "metadata": {
    "collapsed": false,
    "jupyter": {
     "outputs_hidden": false
    }
   },
   "outputs": [
    {
     "name": "stdout",
     "output_type": "stream",
     "text": [
      "i\n"
     ]
    }
   ],
   "source": [
    "# Imprime el último elemento de la string\n",
    "print(Nombre[-1])"
   ]
  },
  {
   "cell_type": "markdown",
   "metadata": {},
   "source": [
    "El primer elemento puede obtenerse mediante el índice -15:"
   ]
  },
  {
   "cell_type": "code",
   "execution_count": 11,
   "metadata": {
    "collapsed": false,
    "jupyter": {
     "outputs_hidden": false
    }
   },
   "outputs": [
    {
     "name": "stdout",
     "output_type": "stream",
     "text": [
      "T\n"
     ]
    }
   ],
   "source": [
    "# Imprime el primer elemento de la string\n",
    "print(Nombre[-16])"
   ]
  },
  {
   "cell_type": "markdown",
   "metadata": {},
   "source": [
    "Podemos hallar el número de caracteres de una <code>string</code> utilizando <code>len</code>, corto por largo:"
   ]
  },
  {
   "cell_type": "code",
   "execution_count": 12,
   "metadata": {
    "collapsed": false,
    "jupyter": {
     "outputs_hidden": false
    }
   },
   "outputs": [
    {
     "data": {
      "text/plain": [
       "16"
      ]
     },
     "execution_count": 12,
     "metadata": {},
     "output_type": "execute_result"
    }
   ],
   "source": [
    "# Encuentra la longitud de la string\n",
    "len(\"Tiziano Borrelli\")"
   ]
  },
  {
   "cell_type": "markdown",
   "metadata": {},
   "source": [
    "<h3 id=\"slice\">Slicing</h3>"
   ]
  },
  {
   "cell_type": "markdown",
   "metadata": {},
   "source": [
    "Podemos obtener múltiples caracteres de una <code>string</code> utilizando slicing, podemos obtener del 0 al 4º y del 8º al 12º elemento:"
   ]
  },
  {
   "cell_type": "markdown",
   "metadata": {},
   "source": [
    "<img src=\"data:image/png;base64, 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\" width=\"600\" align=\"center\" />"
   ]
  },
  {
   "cell_type": "markdown",
   "metadata": {},
   "source": [
    "<hr/>\n",
    "<div class=\"alert alert-success alertsuccess\" style=\"margin-top: 20px\">\n",
    "[Consejo] El slicing empieza en 0 y utiliza dos valores: el índice inicial y el índice final (no incluidos)\n",
    "</div>\n",
    "<hr/>"
   ]
  },
  {
   "cell_type": "code",
   "execution_count": 13,
   "metadata": {
    "collapsed": false,
    "jupyter": {
     "outputs_hidden": false
    }
   },
   "outputs": [
    {
     "data": {
      "text/plain": [
       "'Tiziano'"
      ]
     },
     "execution_count": 13,
     "metadata": {},
     "output_type": "execute_result"
    }
   ],
   "source": [
    "# Tomar la slice en la variable Nombre con sólo índice 0 a índice 3\n",
    "Nombre[0:7]\n",
    "#o\n",
    "Nombre[:7]"
   ]
  },
  {
   "cell_type": "code",
   "execution_count": 14,
   "metadata": {
    "collapsed": false,
    "jupyter": {
     "outputs_hidden": false
    }
   },
   "outputs": [
    {
     "data": {
      "text/plain": [
       "'Borrelli'"
      ]
     },
     "execution_count": 14,
     "metadata": {},
     "output_type": "execute_result"
    }
   ],
   "source": [
    "# Tomar la slice en la variable Nombre con sólo índice 8 a índice 13\n",
    "Nombre[8:16]\n",
    "#o\n",
    "Nombre[8:]"
   ]
  },
  {
   "cell_type": "markdown",
   "metadata": {},
   "source": [
    "<h3 id=\"stride\">Stride</h3>"
   ]
  },
  {
   "cell_type": "markdown",
   "metadata": {},
   "source": [
    "También podemos introducir un valor de slice de la siguiente manera, con el '2' indicando que estamos seleccionando cada segunda variable:"
   ]
  },
  {
   "cell_type": "markdown",
   "metadata": {},
   "source": [
    "<img src=\"data:image/png;base64, iVBORw0KGgoAAAANSUhEUgAAArEAAADeCAYAAAAq51iLAAAAAXNSR0IArs4c6QAAAARnQU1BAACxjwv8YQUAAAAJcEhZcwAADsMAAA7DAcdvqGQAADYbSURBVHhe7d0NvF3jnejxld6rOi0q3qbx0ksiHUUbkqBEqKgRop2W5CZUp9GkKqiqq94zHRUvUaNKJaLxcuslMaHtqBAUJV6KRMVbXSEMKh0NQc1MtfdO7vk9ez3HOit7n7P3yTl7r3Xy+34+66y1135b+znr5b+e9X+e1W9Vm0SSJEkqkQ+kY0mSJKk0DGIlSZJUOgaxkiRJKh2DWEmSJJWOQawkSZJKxyBWkiRJpWMQK0mSpNIxiJUkSVLpGMRKkiSpdAxiJUmSVDoGsZIkSSodg1hJkiSVjkGsJEmSSscgVpIkSaVjECtJkqTSMYiVJElS6RjESpIkqXQMYiVJklQ6BrGS+rQ33ngjOfroo5NZs2alc5Lk1ltvTXbZZZfwXHe9suKt5MaHngzj7lr8wu/CZ6hvu3PJ0jBkse6NHj066devXzJ37twwj/Vyo402Srbddts1WjeltUW/VW3SaUmdOP/885OTTz456d+/f7J06dJk4403Tp9Z3f3335+MHDky2X///ZMFCxakc4sl/p7p06cnJ510Ujq3b4mBAmbPnp0MGTIkBAyHHnpoh9+92RFnhXE9Ju27S3Lu4aOTQ75/bbLwmReTkdtvk9z0ncPTZxszcMr05N0//Tn51pgRyeljR6Vzy4lg/OjLf54+6mhA//WTnQdukRw0bLtk7O6fSueWU1xXXr9qahhHo8+6Inls2WvJjCO/2OE3Erx++aJKkHrd8ROS/YYMDtNxH4G4n2Bdvf3228O8yy67LPnGN74RpiVVZ02s1KCVK1cmxxxzTPpIRXbFFVckixYtCgECASyolZ0yZUqHwH3owM07DIMHbBLmr/ehD672HAEZNu+/QRh/In1tdwxo+wy+Y/ONKp/VF+TLjLJcvvKPya2Lnw1B7sXzH0hfuXbYaL0PhzJhvWE62nPPPUPwmnXccceFk2RJdaImVlLXpk+fzlWL9uGyyy5Ln1ndwoULw2vaDlLpnOKJv4dxX0X5twUF7b8x/l8GDRq06vHHHw/zqpn34BOrNp34vVX7f292Okdd6azMXv7DylVfveSfw/MMPC6r+Bvy+N3MpxzqtWLFirB+tp1UpXNWrZozZ05YRztbPyVVWBMrNWj48OFhfOqppyZLliwJ0youas5Jm8j+r1544YUwT82x1SYbJlcfOy7USOLhpa+E8dqMVJepUyspCSeeeGIYs45ypWD8+PHtVw4k1WYQKzVo3Lhx4SBDcDR58uR0bmPIh5swYUJoxEHDDgby4WjYUU1sAML7ONDx3vg+GoFkGy2R80mjpfg8010F2xxQOXjG5WHM42qNS7LLEhtIxccR7zv99NPDsmWXgzzcap/ZW4YNGxbGXKLdcsstk09+8pPtl2vjc9116rULQn4k44i8UOZ1NmQbcpFHmZ8XMY+8W/Jm43tHnDazw/dlZT+LPMzse4eccFHN96Had/F5V929KH1Fz/jE5p2nXpBqEH8HA8vDcuUbRUXxdeD38TvjY2TLhN9C+cXHEZ898UfzVvvtPZn2ED83i1SXO+64I7nnnnuSgQMHhnn77LNP2LYvvfTS8FhS5wxipW7gIDNo0KCQb0lg1giCTBp03HDDDcmuu+4a8uIYaNAxZsyYEDzWcv311yc77bRT+F7eQ60wtYpHHXVUCCh5L42WwPNxGTk4Llu2LMzPe+mll5LBgweH5YrLg5kzZ4aAtVbQedttt4Xl5fP5nvXXr+SK8vrddtstOeecc0LASAOq0047rb1GtLPPjCjTGPx2NWSD57yzzz47WbhwYXtDPAaWl3k819M++uEPdcgHzeaFRrymKwRQ5I/ScIwGUTQmGz9iSLJ85TvJFXc9GoKsWm5Z/Gzyjct+mvxm2e9C0Mj3k5PK+6oFstnviq9noJHSydfcFgK8nkAvDnwmttlsozDO4num3Xh38txrK9qXgZxhlouGUZ0Fld+cfXP4ffzObFlH9z79YvgtS5evCLmp8X9AMEtZka8by/nAYduFZWBZeuq3VzNp0qTk+eef71Djyro5Y8aMThuNSspI0wokdSGfQxrzKxmYzorPtQWE6ZyKtoCz5nt4jlxNniMvLovPie/L5+LG5WIgvy7/ufG9cbmj7PvIySM/L2K6LUBufy4ruyx8RvZ9iM/nfwP4rPi+zvBePqeeoTdyB+vJiT3lmtvCaxh3ZY9TZ1R9ba08ym2OOi/Mv/KuR9M5FeSSfvrbPwjP3fH4c+ncivhZDNPm3ZXOreAx8/ncrEXPv9r+nvwy8Fz8rh/ecn86t7Z6c2IPPv+adO77+Hye4/v43qz4uQz55+J8fle1ZcyWCWWfzcVlmvcx5MuS5+L/LF8u8fPyav0vUes9ktaMNbFSN9G6uC0YC9MTJ06s6zI5lxBBzSTvz+KS4sUXXxymzzjjjDDOq9btztixY9OpSk1O/nO/9KUvhfHdd98dxnltgeBqtT9Mn3nmmWE69mGZx7LQwj/7Pmp7qVGmhpjLonlnnVW5pHreeeeFcS28lx4F6hmKnjtI7Sc1gNQs0jVXV+g7lm63qDE8YlQl/zoit5QaQzxSI6+0Wndd8TGfy+dHV9+zOIyp5c13fTVs0BbJ8QdV1iVqOetFLSY1xdlh2HcuCbWdfM9FRxyUvvJ9NzzwRBjzfXxvFsvF+3DJbQ+Gcd6sow5Ojmv73bVQJpQ95Rf97OGnQ3mMGfbJ9m6vIl43+XO7hOk595v3LhWVQay0Bgji4iX9errdIgcOBxxwQBjnHXjggWHM51W7/L/DDjukU++L+XTITkfV3pM1alT1/knjspAGUO+yPPvss+lUJSUgP8Qgns9cG3C5mgCQBk0/nnJIOrdzBHH0QbrkwuPTOe/L5oYSgFXzN1tsmk51FC+zv/j6m2GMx5ZVAtq9d9gmjPNiEM1l+mzw2xmWi7SB7BDd98yyZMaCX6ePKkgzIMhHPmiP4vKRIlFNPgjNq1YmS5dXTjpfW/lOONHID/c+82J4/t//9F4YSyoeg1hpDZHbSu4n41q1lhE1pV2JvR+89tr7B/9Wq3dZnnrqqTDmd5L/Wm2oBwFvtfzXakNnObGtRHB20k8qDfWmjtu3Qy1gPcgBpVFTbKzEQG4oNZrdsf5fVXoGyIrBY2eqBb+docaZIDw7LP7+N5PpXzmgLZhfNwT1/K6onp4Kdhu8VRgTTPeUpcv/EMbk3LJM+aG75SypeQxipTVE7ee5554bpmlYVasB1dqEdIlVq1Z1OnTm4x//eEhzqGeIDcqK5uszbwq1klwKr1XDWA3BL63oaVj0fFuQeeDQ7UIAyJ2gGGh4VDYE8JTB3BMODbXSBI493fNBd1G2+aA7OyyYOil9paSiMYiVegB5qrHbrc56F4i1rJ2JtbWbb755GBdBvcuy4447hvHixZVcy2qoOe2q9rTsObFcjuYyOrWYl0z+Qjq3Puf//L5QQ8rtbEkpIJeTAJDcUIYBG/Zc0F6tJX9erK2t1qNAowhmYzdb5M4i1rJ2JtbWxrul9YTBAyopBnE58jiZIB2kVvdeklrPIFbqIXS7RVoBDZumTZuWzu2IvlJB91TVxH5i6bKqWn5rb6CLrWrisvCb6l0WutYCZVCrRpruxeI94/uibB7sxZMaC2ARL3MfVKPG9bk6UgDqNTgNKOmCqppYW0rwmG9w1V0xJSAGpAS2cbpW7WxcvtiorSeQ9oBbH6ueNkDgTNdj/3TzfemcjmrlCL/25jvplKTeZhAr9RBa6d98881hmiCumnhnHvpQzd+AgKDvu9/9bpiuFQT3BvqDJQc1i2XhPu445ZRTwrgelMGUKVPCdLWbJcSbMpAG0Bfl82C7E/h9rP8GYRwbFkV8Nv2Wcim+p3zzgD3C+IYHlqxW40iQNvuXlV4J6D91TfF55MISxBLgj9hu6/SZ9z//olvuD78zi5OC+Yt/G6bj8vYEarcJnlke+pnNi70S7LxNx/9hrL1+4l+Xh3EUa3ZjgzFJvc8gVupBdG9FPmgt1GjOmTMnTHPTAjr+585WjEk1IJWAILBa91S9hTQIurzi7losBwM1wfSQwDLRKXsj6EaL9xHIUzNLMMtvpBaamzLEGyD0RcdfdUt7rwEEhvmuphiqBUxZXx65UxjTsIjXk5pA8Lf31FnJ0tdWtHc31RMIss9Iu9+i0VhcPsbjLrg2pBKQg9tZ91V51brY4m5YB0y7sj0Az3elxefzPQSU/E7eE5eD2lDKlOXsqdrg6IKvjgkBNf8r8pD5Tk4UaEzHshKwHj36M+mrK/bavtJTwlnz7grLF4P/2INC/L/35B2/JFVnECv1MO4E1VnuKwHqwoULQ/D4yCOPhFpZAj7ulkWAS5+tzTR06NBw68sYeDIQxBJoknOa7Qe2Hrye9/F+AlZqevmN5AsToBOo99X7wme7Y8p3MxWHmC5QC91FXXf8hJATy+tJTfh9W3BH8PrAOVNC0NWTCCBpMMb3EYAShPG95K4SOF597Lj0lfWp1sUW8wgICVRvO+NrVYNivofv43t5D8vB8rBcLF8jgXS9KOt5Jx4eluvdtv8d38nJA70oUDtMQ7R8rxIEtfFEguV8+z/+FKbJV6Y/Wmp3md+TPSlIqq7fqq6aCUuSJEkFY02sJEmSSscgVpIkSaVjECtJkqTSMYiVJElS6RjESpIkqXQMYiVJklQ6BrGSJEkqHYNYSZIklY5BrCRJkkrHIFaSJEmlYxArSZKk0jGIlSRJUukYxEqSJKl0DGIlSZJUOgaxkiRJKh2DWEmSJJWOQawkSZJKxyBWkiRJpWMQK0mSpNIxiJUkSVLpGMRKkiSpdAxiJUmSVDoGsZIkSSodg1hJkiSVTr9VbdLpnnVvv3SioPbunZ+9Riyz+llWjbG8GmeZNcbyapxl1j1FLLeillUft9YGsetMHpZOFcdfZi9Op4qpSGVmWTXG8mqcZdYYy6txlln3FLHcCltWSxelU31T7wexw5e0/flvlemW+39JsmhIZbLIZ+WWWdcsq8ZYXo2zzBpjeTXOMmvIOoOHV4KywpRbsdev9vLqwz6QjntR2wr2gXWLMRRmJ9EVy6x+llVjLK/GWWaNsbwaZ5l1T4vLrVRl1Tc1IYiVJEmSepZBrCRJkkrHIFaSJEmlYxArSZKk0jGIlSRJUukYxEqSJKl0DGIlSZJUOgaxa+DGh55MFr/wu/SRunLnkqVhkCRJHb2y4q0QVzBWfZpwx66n2kJlOgWuz24nX5pOdW3cHp9KTvy7vdJHdfiv95Jk0Y6V6TW8u8bZN96d/HD+A8l6H/pgsmzmyencNdTNMutVPVRmBK9fvmhumL7u+AnJfkMGh+lu68Nl1Sssr8Z1s8y+dum85OmXX08fdbTDxzdLhg/aMvnSbjskA/pvkM5tgOtYY/roOtareqjMCMaOvvznydCBmycLpk5K566Z1e/Y1Xi5LfjN/0m+O/eXYVu88phx6dxu6uH165DvX5ssfObFZOT22yQ3fefwdG73eceuFmDFyg5bb9Y/zP/wuuus9txmH/1IeK4VNt+ocgD6xOabhLE6t9F6Hw4B/4D+64dpqa9j35XdX7EPI7j93/c8lhx/5S3J8pXvpK+UpLa4Ij2x/cQA44p6FS6I5cwoOxwxaliYv81f91/tub//bOW5Vjhi1PDk9aum9tgZZl83bNAWocZ6yYXHh2mpr2Pfld1f3fO9I5MzJ3wuBLMvvb4y+fGdj6avlKQkuWTyF0Jcce7ho9M56oo5sZLUJKN3/puQBoWX/vBmGEuSuscgtpvI99nsiLOS0Wddkc5pHXJ8yCXubOA1rUZ5MRQBl3Iv+Jf7kvH/dH17Ge3zD5cnx8z+l+SBZ19KX9Vcp167IJQPYxL7J/5oXjLkhIvCvIFTpofHrUz4/8mvFod8z6KUV1kN/OuN0qnWYN9F7h3rVNwm2Y9ddXfrc+fivoz1jG305GtuC+sZj1spu7+P2ybl1+r9/4wFD3XYh33+nKtDmT318r+lr1CZZI8Bqo9BbB+w/l+t2yH3Lg4xnxi8RhUcHMlJnPfgk8l/vPfnZMyw7ULtGCkri5a+mpxw1fyWBv3PLV+RHNR2MLp18bMhh5iGEeDx12feFKabjQPjpbf9Onnx31a2r1+bfXS99vIiwFV9HmkrM2y6wXph3EwXz38gNLah8Qj5/KxbDI8tey38jwnOioJt9FdPLWvbRv+SbL1pawP/rAkXzgnb4rt/+nMyeMCm6dzm4wSS/OrsPuzD634wlNk3PbnUWsIgtg8Ysd3WHXLv4hCxc+M1qvjZw0+HnEQCscunHJz8w//cN/RyQZl9dZ+h4TW/aDtItQoBxs4Dt0gWf/+bIeeaYdZRB4fnCDaa3U0ZASoHRhpSXjL579rXrxv+12EhxxMEuNb+dI2To3ueeiFMf2GXT4Zxs9Ad4LQb7w7TM478Yvu6xXDbGV8LJ0wEZwS6rRZ7d2D9enj6MWEbLQK2P1B+5C6Sw9gKXEXiBPKzOw5MfnHaxPZ9GNvkMQd8JgT+V9xlzrX6PoPYPoqdXAzUGuqGbC3wr3+oXJL/7A4DV+vmaK/tB4bxMy0MyOhe5epjxyVbbbJhOicJXZLFGtnfvlq9+6beMn9xpVZ64j7Dkh0//tdhOiLHk1ogXHPvY2GsiqvurqRfxIFLvXTtQy8dBGfNPrG8+p5Kbfn4EUOSsbtX8nIjGlsef9CeYboIwQ8nTBd97aCwfhUJgf7cEw5drfya7d6nl4Xx8QeNCOMsGjxzFY4TAWtj1dcZxPZB1PZwqZxW0Gcftn86V9H0rxwQanfyvVuQZvDqG5UAl5qMVqnVvUq8dLl85R/DuBkoE06GcEiNA/eug7cM42desSY2i3IjkIjD62//e5jPmJr+ZgcYjy2r3Jhl7x22CeM8elwB61erb+KyaVsQ261+dHsZQWz25LIV2CZZh9i/X3ff46HCIj+QYoA//ud7YSz1VQaxfQw7uOk/uzdMH3vA7oU8EBQBl76/9893hRqy2Cjii+ddE2rKiooavGZb8tLydKq2IVsPCOMYpKkiXgrPDhceMSak98Rc4mYGskuXr0inahucnkC9+Lo9JxRV3CY50aayotrgtqi1hUFsH3P69beHnRuXeGvVnK3tyPGcdOmNyfzFz4bGNeTBEnDEQeotpBCQ3hO72bp4/oNhLDWKlIH8SVJ+KFo6htTTDGL7EC4jcdmSnVtRGkIUDTXVNEICtWKkFhw9evews4+D3hdrWTsTa4ZaeQe9som5xTFVoxliLWtnYm3tNpsVpzcAdRS3yc7WHWr4SStjfyf1ZQaxfUQ2D3bqOAPYWmLARaBfrWGNDSE6Ih0lBqc3PfRkGOfFLqO236pjoy/V9vrb74ZxMwP/wektsu99+sUwzov9xJL36V31iottMnafWKtrOxrnkRpVTzpQb2tmDn8j/mDKRZ9gENsH5PNg8y3I9b4tN640yqAWI98lFCcCZ1x/R/pIUbz0Tev2fM0OZRa7jPrK3pXuydQ5Ag96LsAu224Vxs3wzQP2COMbHliyWjdtNOSa/ctKrwST9t0ljFVcY4ZVrhixHuX3Y5yIc0WOCo16rqT0lt0GV9ZtgthW3qQlL5vDb011+RnE9gHTbrqnvTX9/Mee7dCtTxxoxKTKZdzhaWt6OgSnXBi46w01F9zvXh3RiwP9UbLTP+wHc9vXJ8aUGesefVN68tRRvouteGcl0lkoM2rTvr5f8wJGalfPGDsqTH/5ornhblPfnH1zGI+74NqQSnDgsO2S48as3m2TiiVuk6xH7Me48QHpZKxnNBgE+7JWNuylF4fYLSA3b2n13c0iyoSuJ3HkzJ+GMlN5GcT2Af+ZdqeCbJc+2cH7tL/v0sl/F2oXae1P4y5qEjf56EdCjmy+2y1VkDtMoMpdzVifKDfu3sUJAY3hLLfV5bvY4jG1YxxAKUs6pm92kEGASkf99EX83GsrQq0sHfhz9y4CXPonVjlkt0l6uyCdrGjb5NmHjQ7rGrWx8UYRRXDC5/cK5cSJOdumyqvfqjbpdM+6t19lPPyptlC5ILc8/a/3kmTRjpXpvXvnZ68Ry6x+llVjLK/GWWaNsbwaZ5k1ZJ3Bw5O/LF1UnHIr+PrVXl59mDWxkiRJKh2DWEmSJJWOQawkSZJKxyBWkiRJpWMQK0mSpNIxiJUkSVLpGMRKkiSpdAxiJUmSVDoGsZIkSSodg1hJkiSVTq/fdnbIP2yfvPd/ixErr/vf/ytZ8r1nwvQ6k4t3r/e/zF4cxpZZ1yyrxlhejbPMGmN5Nc4y656ilFspyqqP33a214NY7wndAMusfpZVYyyvxllmjbG8GmeZNWSdwcMrQVlRyq3g61d7efVhxTj1kyRJkhpgECtJkqTSMYiVJElS6RjESpIkqXQMYiVJklQ6BrGSJEkqHYNYSZIklY5BrCRJkkrHIFaSJEmlU9gg9q233kq++93vJvvuu28yePDgMBx//PHJokXFufvE0UcfnfTr1y8ZPXp0Oqd1qpXXwQcfnPz4xz8Oz7XKsmXLQjltu+22oawYdtlll+T0009P3njjjfRVxUBZxbJrlVhGtYbzzz8/fWXzsR5RRtl17Gtf+1pyyy23pK9ormrlU2tohWeffTZsk8OHDy9EeUX3339/MmHChGSjjTYKZcOYx0uWLElf0RyUTyybrvbrvJb9f3w9Y8r2lVdeSV/Rc9gvsY+ibBrZ3nr7eMD2xz6d38922Jl8efX2ulfvb8+ve/E9s2bNSl/Rs1hH4m9vFO/p7nu7Uk95UVaxjGoNvGZtV8gglo31kEMOSa6//vrk5ZdfTkaOHJl8/OMfT+bPn58ceuihLT8IsJNjQ5w5c2Y6p7XYYX3uc59rL69PfepTYXjyySfDTpiNsBWBLAdFdqKU0wsvvJDsv//+YeCAdc4554QdRLMPnLVQhq0MEBHLYtCgQe1llR/YDlohrmOUUdwmWccWLlyYfPvb3w4HC73vV7/6VfL5z38+bJMf/ehHQ3kxtLq85s6dG5bjhhtuCIEE6xRjHu+0007h+WagfA4//PDk7bffTufUxv6C17L/B8sPyvZLX/pSWDd7CtsggUUjlSXNOB7wG9mPs0/vCsdH1j3Ki/KlvNhv9Ma618hvz657YN3j+HD77bcnRx11VDhx6KmKDY53BPGsI93BslJePa2R8nr66afDmDLKHgOyw/rrrx9eszYrZBB7wgkntAdjjz76aHLllVcmd911V3LSSSeF5//xH/+xV87Au8IOjhpEgi82xP79+6fPtBaBRdxZUV4//elPw3D33XeHnRc7vnnz5qWvbh5ORFauXJlMmTIlWbFiRbJgwYIwMD1+/Pjw3Lnnnpu+unXY4Z122mkh2GilP/7xj2F85JFHtpdVfmAH2AqUD+vYmDFj2rdJ1rFf/OIXodw4WDT7KsmqVas6HaZPnx5ex/rXbGeddVYYs89i30V5MWTLqyeDr3pQa0MlAObMmZM8//zzYZ1ifNlll4X5PM/Vk97AdkaARTD29a9/PZ3bOd5DgMO6d9hhh4V1jHL85S9/GdZF5rNurqlbb7011I4RyPMd9ezbm3E8INgn6CQoZT/e1T6K8uL4CNb7pUuXth8/+Z+jJ7bVRn8761Rc91jX3nzzzbDusS+hgoMTd5bpxhtvDK/pLrapCy+8MJxwE8R3Z5/OZ1xwwQU9ejzozrrCuo0f/OAHHY4B2WHIkCHhNWuzwgWxBKfxDOiHP/xhsuGGG4ZpsOMjUOOfyz+w2U4++eRQg0jwxY7zlFNOSZ9pHXZasbzYeLPltdVWW4Uzb9x2221h3CzstNg5YcaMGcnGG28cpsH0scceG6bvuOOOMG4ldvIcIE488cR0jrIIPCgfTog4QGbXse222679oHnttdeGcRFQ43HeeeeF6Vb8XzkJRz5Yo7wIxtAbNT2dibVSBDf5k6FvfOMb7cE+B/DeQLDM/ojfzbpUz/pC4M3+ntefeeaZ6dwkrIOsdwQarJtrGpQREFM7RnBBsLfrrrumz9TWjOMB6w//N34nwcynP/3p9JnqHn/88VBeVABRGZRFjV5c9+67774w7q5Gf/sjjzwSxtQesq5lDRw4MJy445577gnj7qJCh/8jZcD6nP+uesQT9p7cbxQxdugrChfEPvDAA2FMsEoQlkdOEJodlGHUqFHhLJLg7Oyzz07nthYHBrDTygYX0cc+9rEwZkffTOyYYo1YZ+o5WPQmDn7s9FjfWlXLGb366qvpVLFQ6wUOqNXWsYMOOijU+Fx00UXpnNa74oorwgGDAxnrYhE1+1JgrGHl/1VNPGj3VkrBeuutF/4f5HNSM0hA35W47lXbNlkXCT6xpkEZy0Xwynpc736gGccDgk6CV8qh1v8ti+XHnnvuGcZ5W265ZRg/9dRTYdxdjf52ypRjQVeVT0OHDk2numf33XcPV0G4CpkP4uvBusmxkisotOPoKd1ZV1566aV0Sp0pXBD761//OoxZGatpVVAGVmzO7Ip0UOTsmh0Xl3Y7Q01GUVBLFmuIjzvuuDBuBWqxOUOmliNby9MqsfZujz32COOiiNtaT+7Ue1sra2HBSRHy+Ydcqow1a73VAKgrG2ywQTrVUdyvEfxz+bOnEbQSWHz2s59N53QtNlzZeeedwzivp4IyrhYRaGWvGHWlGccD9ksEr9VOHqvhRJPjQVcBXLUKokb05G9nXWN7pRZ87Nix6dzu4ffzf+zO72PbpCaXCqH8FZQ11Z3yiiedtU5IVFG4IPadd95Jp6ojaIsIQtQ5cvDQ6g2BHRUHbYZNNtkkHCjJWTrwwAPTVzQfaQQEjgQ6a7pT70lsA+Tn5VuPt6olagyuCWLJ0aPBBLldDPRUQKBWpG2RmsRW18KS2kMgS8BKGZEHylUkchsJYLmUXm9g0tMefPDBdKojTi7JTUTMz241Lut2Jga3HgvqE2vZaUTVSiwHxwKWgzxkrsiRStCq7RVc5geX/YuEYyf7/9gjAfthjg+9lbteNoVs2IVaZ95Z8VK6quNSeaz1mTx5cjq3NTgo0gqVIerqhKU3EYyRRsDlSHYQRRAvH7FM5AqzYyeHLLYeJyjqrUu99eCyJjUUBNMsCwMBLusYQVpRAokzzjgjjLuTD9eTuJrEtkcZkQcaa7Sp6fnIRz4Spptp4sSJYUytV/6EiMcEFTGPvWiylRfVtOLKXNlwqZx1kfWvntSE3sRycCzI5jK38sSJk07WIVIR6klzaYYY3xDks13GHgloFMexi22iN66YlE1hg1itGS6N0KoXNIBodU0jNcExR5YaWC4d0VqVFpvNRrBF7SsBRmyUVAR77bVXaFFPwMMOLLZAZZp8KlBmrdpx8X8jkOXAQy02A62LOShyAOC5ViPIjzv8VrXcZf0iqOfSJOs9+Xlc4qWsOEgSMPZ011D14GQt9grCCQi1YASu1OzwGF0FiyonGmeyPrLPK0JNI5fXORbQUw25yDT8Yh2kl4hmK1K7iCwau3E8YH/GviMeD9iXcJWJ7XifffZJX732KmwQ+5vf/Cadqq1MOXrNxMEx9sFIYNHqs+48UgjYGAlk2aE2+7IIgStlQyvsVl3SrYYdKDv3aqkf1Cqy40K2NruZuASeX5cov5jXTJDbarEWNo5bgXWboJ6DIo3d4gkkZcX/OK5/8fJlMxHkc2AkWOXgzboUW+RzoOTAWETZGrtqOJFSdQSwtEGIaSxFqWkEOchsEzfffHN43Ow2EpxwFqldRBbHAoZ8igVlRg43qT9sr61KMyuKwgWxtRodRNmdWZECkKKIHV0XNYCN2BBjzwR33nlnGDcDaQQEW1yyb6SBSRFsvfXWYUzNXjOxg0etS+CxHLvKX+xt2VrYVuaAx27jYk8qeXGbbNUlcA6MBKzxygjTsQYqphNsvvnmYdxqcd2rJVZ2eCyojnz1ogawWXF7Zf1r5pWmoraLqEesxKuV4762KFwQ+5nPfCaMH3rooTDO+/3vfx/GnnmvLnvGTYOuVgawXLoiCZ1xV5oZ/PzkJz8JY3ZcXPLND1H+cW/jbJry4vJuV5p9wI4HmFoHl6LlwrayFjaLLqXKJF7KpYanlQ1ssuK6V+vKXOyWbscddwxjvY8Alnx1jpV00dXKAJb9Gvu3emoNm5kbSxoBOPHMHgcYYtrFE088ER6TN9ssjRw/uzrR6+sKF8SOGDEijMkLrHZXrtiV1AEHHBDGqmADK9IZd+zSq7M7hcXE9VZ0KUUtGOtYfojyj3tbrPni8m6tWy/GGthm50Fx9xtQa1FNPDC1shu3otTCItbo1Oq4vatL472F2lYOjLUaB8YTvNjxfBHEda/aMnPyFFNYyCdXRczJjgEs222ra6rjSVGt/t2zKWWt2H6zx4A4xCslVLLweE27cWtEV8dPjhHxBhKx4m9tVbgglgNAbGTwrW99q0MtD60rWZkI1OqpsVpbcMbNGWURzrij/fbbL+TaccCmO5BsYMY08wg6qPVp5k6LHTqJ8dWGeFtGxHnNwk6eAAys2/k84VmzZrXnL1K2zUSNPjtVdur57rTIv46N4+Il6VaIta+xBX4rkc4Dgoh88MWJeazhiXdPapYvfvGLYcy2l69VZ168HeakSZPSua3HvoH9PVdOWPci1sGYW8x+zwZpFTGA5TjJ+kWlTxFSLeK6zrrPviyLfR0NDhHz/pslu//PD6TdgHiEx7VO4ntDV8fPqVOnhnxY1vu1/dazhWzYRa1iPGjSgpaNkr4WY9U6O6+y5a/0Fg6SHCwjOrmmvKoNpBs0CzmvJOuzIRJg06cowRkD08zjuZtuuil9h6677rr2BjcE97G86GIr9jRBQn8rLvVeeumlIZhgXaN2jPUp9ntKIMFBqqc7CK9XrIWlzFoZSEf8D+MBkINNtp9Y7tzDfo3AK97wo1kom9iqmW57Yu8ErF9xe6T2uJEO/3sbARg9c8R1j7KlLLP3xi9Ca/ui4NgYaxA5YYr7/mpDM3vH4GQk9rDCvox8zrh/Y7tln8f/lt47VDl+si1WO37Sz3rcXmfPnp2+Y+1VyCCWHRfBDQdGglnOKjkTpzEOtWVFbazUCtn8IXZelFWtYfny5ekrm4MdFzsnDpwcKKlJZGCaeTy3tp9FZrHjomU7O3t26PnyIlBrVZBG7T61/CwHgQPrUwzGaEDYypa9sRZ22rRpYVwEBPTsq9hnxcuRlBe1OpRXq2rIOAliuaj1Z/srw/bItkCKFGUJyhIcH372s58VtrFSK2T73o77/VrDu+++m76yOehhhe+l1pW+TuP+jf8vPWaw7yvSCVSrsS2yTdKLSfb4GcuL2mGPn0nSbxXNU3vDvf0q4+FPtYXK61amW+2/3kuSRWkDgL1752evEcusfpZVYyyvxllmjbG8GmeZNWSdwcOTvyxdVJxyK/j61V5efVgha2IlSZKkzhjESpIkqXQMYiVJklQ6BrGSJEkqHYNYSZIklY5BrCRJkkrHIFaSJEmlYxArSZKk0mlCEPv/Kh0CF2FgWUrBMqufZdUYy6txllljLK/GWWbd0+JyK1VZ9U29f8euoiry3VuKqkhlZlk1xvJqnGXWGMurcZZZQ1a7Y1eRFHD9Whvu2LXWBrHrTB6WThXHX2YvTqeKqUhlZlk1xvJqnGXWGMurcZZZ9xSx3ApbVgaxkiRJUrF8IB1LkiRJpWEQK0mSpNIxiJUkSVLpGMRKkiSpdAxiJUmSVDoGsZIkSSodg1hJkiSVjkGsJEmSSscgVpIkSaVjECtJkqTSMYiVJElS6RjESpIkqXQMYiVJklQ6BrGSJEkqHYNYSZIklY5BrCRJkkrHIFaSJEmlYxArSZKk0jGIlSRJUukYxEqSJKl0DGIlSZJUOgaxkiRJKh2DWEmSJJWOQawkSZJKxyBWkiRJpWMQK0mSpNIxiJUkSVLpGMRKkiSpdAxiJUmSVDoGsZIkSSodg1hJkiSVjkGsJEmSSscgVpIkSaVjECtJkqTSMYiVJElS6RjESpIkqXQMYiVJklQ6BrGSJEkqHYPYPuT+++9P+vXr12E4//zz02ebh+/MLwfL1ix8/9FHH50+SpIlS5Yko0ePbuoyqKPTTz89rAfx/7Js2bJk2223TTbaaCP/L5Kkbum3qk063TQczDB9+vTkpJNOCtO1EHzcfvvtycKFC5M999wznVss8fe0oCg7IBgYOXJk0r9//2TXXXcN8yZOnJhMmDAhTK+JN954I5k6dWpyxx13JC+88EKYN3z48GTcuHHJpEmTko033jjMw9y5c5Orr746TD/yyCPJypUrm/b/I0ji+6+99trkwAMPDAHsPvvsk/zt3/5tcumll4blHH3WFcljy15L39G5oQM3TxZMnZQ+Kp7NjjgrnepovQ99MNl54BbJ3ttvkxw3ZkQ6t3edeu2C5Iq7Hk0m7btLcu7ho9O5FXEbAdsJJxonn3xyeDx+/PjwP5MkqREtrYnlIEaQoZ5FALtgwYIw9EQAy/9o8ODBycyZM0MAS/DKsGjRovA/5ESDIDfiO+P3x2C6GQjiWcYYwOLcc88NtX0ESTHQHjxg0xCcZocoP5/XlkF+ud/905+Thc+8mEy78e5k4o/mpa9qHU5Ys8aOHZsMGjQofSRJUuNank5wyCGHdAiAVDwEqtSm7r///smKFSuSRx99NAwEtAQiBLNXXHFF+urWefDBB8P4lltuaV+nbrjhhuTNN9/sUNN3yeQvhNrV7BDl5/PaMsgv9+tXTU2+ldbA3rr42eSquxeF6VbhigvrTwxcBw4cGGr1QU25JEmNamkQS20egRCXqVVMBIOkc+C6667rkDZAIDJt2rQwPW9e62v7Impjb7zxxvRREgLwQw89NH209jh97Khk5PbbhOnnXlsRxq0ya9assB5dfPHF4THrFWkEBLXUykqS1KiWBrGzZ88OY4KOW2+9NUw3ggMhuXW77LJLyLljoLEIeZG1anfj68B3Zt/LdGxkEj+bz4vPc5m81udG1T6z1m+Lr0H2u7K4lM/v4ZJ4fD2X77uTQ8h7eD+fRcOarFrP/fa3vw1jTjiyAWy05ZZbhjG1sa224447plNJssMOO4QxtX9g+buLXE9yTzsb8m586MnkkO9fmwycMr39NSNOmxk+q5ZXVrwVnud18T1DTrgopAPwXHd8YsAm6VRHLB+fT34wn813sKw8zjr7xrurLs/iF36XvqJrbFOnnnpqMmfOnPY0j2OOOSaMqY2ttl5JktSVlgaxQ4YMSS677LIwffjhh3cZIGbxWoK57KXuGLAQFJPD2Vm+LYHhmDFjwnS8zEkg9oUvfCG8L342gSXP01iKS9PMr4UW2NnPjHmjzOss6OR9fFfMN404+HOpld9DwyTyCqdMmRIaS1GzGFt61ys2tqK8+IysWs/RGIuGOKQPdGZN8xtjgN7V0Fn5EyA9/vjjoRxjIzJqj2lURn5udw3ov/5qOacMzAeNqLIunv9AcvTlPw85qTSuoqHT+BFDkuUr3wkNn/KBIggkJ1w4Jzz/7p/ea/8OkA6w99RZyZ1LlobHjbivbRkQl7UavpfvII82mwNMEP7Dtt/C8rD8/I71PrRueO24C66te3n4XyxdurRDfvY555wT1ilq8yVJ6hZ6J2g2vjb71W0BX3jMOC8+1xaIpHMq2oK5MH/8+PGrVqxYkc6taAv2wnNtgVU6533MZ2gLSlf7zPhdDG3B5Kq2YCh9ZlX4Dt7Dc/n3dfaZc+bMaX8++3nIvo/XZcXvY2gLzNK5FTzH8vHe7Pcxzbxq5Yj58+eHz6Nc8mXW2XOdif8HxtXU+v/l8bp6htNOOy19R8/adOL3wlCvRc+/umqbo84L75n34BPp3Io4/8q7Hk3nVLz8h5WrPv3tH4Tn7nj8uXRuxVcv+ecw/+DzrwmvyzrlmtvCc7w3j/kM1Uybd1f7+/KfyTLH9+5x6ozVfkP8TpYr74e33B+e2/97s9M5FfE9jCVJ6m0tb9gFasvaAqiQM0fuXFeohaV2ErHbpCwakVCjSY1crRrQe+65Z7Uun+iOCtQq5muJ+A5qQxEbEOXdfPPNq30mtU+xdvXOO+8M4zyWJd+LAK+lVpSaV2qss1iWM888M0z/6Ec/CuN6UFNJI6fnn39+tTLr7LlaYm8A/O9OPPHEdG73xN4MuhrOPvvs9B2tdfr1C0LNJbWTY3f/VDo3CZfZmU/N5xGjOqYwbLXJhqFmFo8sfSWMQS0stZu46IiDwuuy6K5q8IBNkuUr/xhqeauhdjc7kBpALSq1uVceM261z4xYzrknHNrhN+DWxyrLc9aE/cI4iy67WB66KetO7bAkST2hEEEsQRPdIuGoo47qstuthx9+OIz333//mgEX/ZfivvvuC+O8fGCImN9JCkE1Q4cOTaeqywewUVyWWr+r2rI8+eSTYUwgTr5sfqAFPt56q3u5kmuK30LqBWbMmLFWXRYmb5UAjgAx3x/qsEFbhJ4Bllx4fDrnfdmAj0A3+uUTz4cxn1cr2NwrbaD12IvV+7dlebJD/HwadF1y24M1c2oJYvPfyWsJmEmTmLHg1+H35gdSDPD2f/wpjCVJarZCBLGgJvC0004L05MnT+40P/app55Kp2qLjXzyDZhaqZFlWbx4cRiTh0u+bH6INdGtQABLri41xTTWydcid0e1/NdqQ2c5sc1AgyjyVgnwzj6s9rJQY0pOKQ2hYqOoL180t73GNauengM+sXmlgdbvV74TxnkEzvlhxpFfDDW/fOdB51xdM5DNezitJSYQ5rdWGwhyJUlqpcIEsTjhhBPaG1hdeOGF6dy12/z580PDqloDl9ibifSMnXbaqUcDWFCrXs8wbNiw9B3NRxB40k8qPU1MHbdvqHXN4zW05ucmA88vX5EcOHS7ZPpXDggBJcOBw7ZLX9n7SBG46TuHhxpegs7zf179qkQtpAxUC46zQz4NQZKkZilUEEtqwE033RSmab0cu7vKy3alVEusrS3SZe5GliUGa7Vqnamppny6Sr3oSQSw9IpADiy9APRUAIt87mutoZU5sV+feVOonaSlfj7fNSJQXNoWvNI/KykFpBvwWoI9hgEbrt5LQKxl7Uysrf1Y/w3CuBE7b1MJtpcu/0MYd2W3wVuFMb+jFlIjqJWut3ZXkqSeVqggFuSHxltUknNZLa1gu+0qtVk0BKuVdhA7399rr73CuBlqpQvEZamW+1rLiBGVuy1dfvnlYZxH/60jR44MqQXNQDdgMYClIVojv6UvIA+UXFNqJzu7i1cMFA+qUeP6XJXA8NP/Y0AY8/m1gsLYVdbQbd6/RW69lr9VufRfbwBMjiy/E7Uakv3TzfeFbsRi6kFW/D5JknpT4YJYxFtUcsm6Wif61GjSah+x0/QsejjgfaQm9GRtYVe4A1G+ZpRGWCwLwV8jdyYiR5jlp2EXAWRe7JVg1KhRYVyPWjc0QGfP0R8tNeP0skB/n2tbAJvNg714Uue3oY2B4r1p0BkRnHKTAPqOzSMtIaYZHH9VpcFeFjccoFaURlj0DFAvvpPgO+bh7p02DqvH+BGfDuOLbrl/tRsbUAtLwE15xFpbxBrlpS2+O5gkae3QbxWJlU1GsITOvppAiqCJQBYLFy7s0PqfGlga+cRgldcSgNE1Vgwaq9UYdvbdXJ6ndpMAmkvXeQSk1HxSU0ygHcXPJLCmwRXvB91VEYSiWv5oV+WQbUDF76OLL6a5yxGfyzyWM/bQ0NXyU17xFrL55an1HCcE9BgBvq+z7rfooiz/G+Pn5v9/RUPDK5DnmUd3VaQRELTVuvRP7isBJgEeDbhALiqX8ql9/c2y37UFoRu0zdsiueGBJaFrrmzPBgSc3HQgBqvbDtgkWf+v1g0BIfP47llHHZzsN2Rw+o6KuNx8VxY5sNnGVwTJVx9b6SUDBObUpPK+BVMnpXM7IugmAOa7aSDG3b9+8+LvQgCLM8aO6hBU8xu4KQNlRU0uv7WzWmtJktZEIWtiQW1r7HarGoIpAjUCSgJWWvETQBLkEUwSyDa7xpCuplgeglcCNwJNamcJ4LpTI8zy8zv4PfwuakNjv6x8TzaArcdxxx0X3kvQv99+Hfv/rPXc22+/nU5Vbi3L76o1vPzyy+kr+5bYXRVjArhqQwwYCTKvO35CyIllPjW4v297jjzaB86ZEgLCariET3+t8a5Y1NgSQNKVFQHovBMPXy2Azaq2PATDLAcNyrIBbL14D4EqgTvLw28hNzd+Zr5WmN9w/t8fGAJYAu96c3AlSeqOltTEqnd0VRPbCmWpiZUkSeVS2JpYSZIkqRaD2D7okUceCTWgDLVuu9ub+M74/SyLJElSTzOI7YPIn21lnirfGb+fZZEkSepp5sRKkiSpdKyJlSRJUukYxEqSJKl0DGIlSZJUOgaxkiRJKh2DWEmSJJWOQawkSZJKxyBWkiRJpWMQK0mSpNIxiJUkSVLpGMRKkiSpdAxiJUmSVDoGsZIkSSodg1hJkiSVjkGsJEmSSscgVpIkSaVjECtJkqTSMYiVJElS6RjESpIkqXQMYiVJklQ6BrGSJEkqHYNYSZIklY5BrCRJkkomSf4/jIkiYUuwvPEAAAAASUVORK5CYII=\" width=\"600\" align=\"center\" />"
   ]
  },
  {
   "cell_type": "code",
   "execution_count": 15,
   "metadata": {
    "collapsed": false,
    "jupyter": {
     "outputs_hidden": false
    }
   },
   "outputs": [
    {
     "data": {
      "text/plain": [
       "'TzaoBrel'"
      ]
     },
     "execution_count": 15,
     "metadata": {},
     "output_type": "execute_result"
    }
   ],
   "source": [
    "# Obtener cada segundo elemento. Los elementos en el índice 1, 3, 5 ...\n",
    "Nombre[::2]"
   ]
  },
  {
   "cell_type": "markdown",
   "metadata": {},
   "source": [
    "También podemos incorporar el slicing con la stride. En este caso, seleccionamos los cinco primeros elementos y luego utilizamos el stride:"
   ]
  },
  {
   "cell_type": "code",
   "execution_count": 16,
   "metadata": {
    "collapsed": false,
    "jupyter": {
     "outputs_hidden": false
    }
   },
   "outputs": [
    {
     "data": {
      "text/plain": [
       "'Tza'"
      ]
     },
     "execution_count": 16,
     "metadata": {},
     "output_type": "execute_result"
    }
   ],
   "source": [
    "# Obtener cada segundo elemento en el rango de índice 0 a índice 4\n",
    "Nombre[0:5:2]"
   ]
  },
  {
   "cell_type": "markdown",
   "metadata": {},
   "source": [
    "<h3 id=\"concat\">Concatenar strings</h3>"
   ]
  },
  {
   "cell_type": "markdown",
   "metadata": {},
   "source": [
    "Podemos concatenar o combinar <code>string</code> utilizando los símbolos de suma, y el resultado es una nueva <code>string</code> que es una combinación de ambas:"
   ]
  },
  {
   "cell_type": "code",
   "execution_count": 17,
   "metadata": {
    "collapsed": false,
    "jupyter": {
     "outputs_hidden": false
    }
   },
   "outputs": [
    {
     "data": {
      "text/plain": [
       "'Tiziano Borrelli curso Python'"
      ]
     },
     "execution_count": 17,
     "metadata": {},
     "output_type": "execute_result"
    }
   ],
   "source": [
    "# Concatenar dos strings\n",
    "profesor_y_curso = Nombre + \" curso Python\"\n",
    "profesor_y_curso"
   ]
  },
  {
   "cell_type": "markdown",
   "metadata": {},
   "source": [
    "Para replicar valores de una <code>string</code> simplemente multiplicamos la <code>string</code> por el número de veces que queremos replicarla. En este caso, el número es tres. El resultado es una nueva <code>string</code>, y esta nueva <code>string</code> consta de tres copias de la <code>string</code> original:"
   ]
  },
  {
   "cell_type": "code",
   "execution_count": 18,
   "metadata": {
    "collapsed": false,
    "jupyter": {
     "outputs_hidden": false
    }
   },
   "outputs": [
    {
     "data": {
      "text/plain": [
       "'Tiziano Borrelli curso PythonTiziano Borrelli curso PythonTiziano Borrelli curso Python'"
      ]
     },
     "execution_count": 18,
     "metadata": {},
     "output_type": "execute_result"
    }
   ],
   "source": [
    "# Imprime la string 3 veces\n",
    "3 * profesor_y_curso"
   ]
  },
  {
   "cell_type": "markdown",
   "metadata": {},
   "source": [
    "Puede crear una nueva <code>string</code> estableciéndola en la variable original. Concatenada con una nueva <code>string</code>, el resultado es una nueva <code>string</code> que cambia de Michael Jackson a \"Michael Jackson es el mejor\"."
   ]
  },
  {
   "cell_type": "code",
   "execution_count": 19,
   "metadata": {
    "collapsed": false,
    "jupyter": {
     "outputs_hidden": false
    }
   },
   "outputs": [
    {
     "data": {
      "text/plain": [
       "'Tiziano curso Python'"
      ]
     },
     "execution_count": 19,
     "metadata": {},
     "output_type": "execute_result"
    }
   ],
   "source": [
    "# Concatenar string\n",
    "Nombre = \"Tiziano Borrelli\"\n",
    "Nombre = Nombre[0:7] + \" curso Python\"\n",
    "Nombre"
   ]
  },
  {
   "cell_type": "markdown",
   "metadata": {},
   "source": [
    "<hr>"
   ]
  },
  {
   "cell_type": "markdown",
   "metadata": {},
   "source": [
    "<h2 id=\"escape\">Secuencias de escape</h2>"
   ]
  },
  {
   "cell_type": "markdown",
   "metadata": {},
   "source": [
    "Las barras invertidas representan el comienzo de secuencias de escape. Las secuencias de escape representan <code>string</code> que pueden ser difíciles de introducir. Por ejemplo, la barra invertida \"n\" representa una nueva línea. La salida viene dada por una nueva línea después de encontrar la barra invertida \"n\":"
   ]
  },
  {
   "cell_type": "code",
   "execution_count": 20,
   "metadata": {
    "collapsed": false,
    "jupyter": {
     "outputs_hidden": false
    }
   },
   "outputs": [
    {
     "name": "stdout",
     "output_type": "stream",
     "text": [
      " Tiziano Borrelli \n",
      " curso Python\n"
     ]
    }
   ],
   "source": [
    "# Nueva secuencia de escape de línea\n",
    "print(\" Tiziano Borrelli \\n curso Python\" )"
   ]
  },
  {
   "cell_type": "markdown",
   "metadata": {},
   "source": [
    "Del mismo modo, la barra invertida \"t\" representa un tabulador:"
   ]
  },
  {
   "cell_type": "code",
   "execution_count": 21,
   "metadata": {
    "collapsed": false,
    "jupyter": {
     "outputs_hidden": false
    }
   },
   "outputs": [
    {
     "name": "stdout",
     "output_type": "stream",
     "text": [
      " Tiziano Borrelli \t curso Python\n"
     ]
    }
   ],
   "source": [
    "# Secuencia de escape del tabulador\n",
    "print(\" Tiziano Borrelli \\t curso Python\" )"
   ]
  },
  {
   "cell_type": "markdown",
   "metadata": {},
   "source": [
    "Si desea colocar una barra diagonal inversa en su <code>string</code>, utilice una barra diagonal inversa doble:"
   ]
  },
  {
   "cell_type": "code",
   "execution_count": 22,
   "metadata": {
    "collapsed": false,
    "jupyter": {
     "outputs_hidden": false
    }
   },
   "outputs": [
    {
     "name": "stdout",
     "output_type": "stream",
     "text": [
      "Tiziano Borrelli \\ curso Python\n"
     ]
    }
   ],
   "source": [
    "# Incluir barra invertida en la string\n",
    "print(\"Tiziano Borrelli \\\\ curso Python\")"
   ]
  },
  {
   "cell_type": "markdown",
   "metadata": {},
   "source": [
    "También podemos colocar una \"r\" delante de la <code>string</code> para mostrar la barra invertida:"
   ]
  },
  {
   "cell_type": "code",
   "execution_count": 23,
   "metadata": {
    "collapsed": false,
    "jupyter": {
     "outputs_hidden": false
    }
   },
   "outputs": [
    {
     "name": "stdout",
     "output_type": "stream",
     "text": [
      " Tiziano Borrelli \\ curso Python\n"
     ]
    }
   ],
   "source": [
    "# r le dirá a python que la string se mostrará como string sin procesar\n",
    "print(r\" Tiziano Borrelli \\ curso Python\")"
   ]
  },
  {
   "cell_type": "markdown",
   "metadata": {},
   "source": [
    "<hr>"
   ]
  },
  {
   "cell_type": "markdown",
   "metadata": {},
   "source": [
    "<h2 id=\"operaciones\">Operaciones con <code>string</code></h2>"
   ]
  },
  {
   "cell_type": "markdown",
   "metadata": {},
   "source": [
    "Hay muchos métodos de operación de <code>string</code> en Python que se pueden utilizar para manipular los datos. Vamos a utilizar algunas operaciones básicas de <code>string</code> sobre los datos. Hay muchos métodos de operación de <code>string</code> en Python que se pueden utilizar para manipular los datos. "
   ]
  },
  {
   "cell_type": "markdown",
   "metadata": {},
   "source": [
    "Probemos con el método <code>upper</code> este método convierte los caracteres en minúsculas en caracteres en mayúsculas:"
   ]
  },
  {
   "cell_type": "code",
   "execution_count": 24,
   "metadata": {
    "collapsed": false,
    "jupyter": {
     "outputs_hidden": false
    }
   },
   "outputs": [
    {
     "name": "stdout",
     "output_type": "stream",
     "text": [
      "ante upper: Tiziano Borrelli\n",
      "después upper: TIZIANO BORRELLI\n"
     ]
    }
   ],
   "source": [
    "# Convierte todos los caracteres de la string a mayúsculas\n",
    "A = \"Tiziano Borrelli\"\n",
    "print(\"ante upper:\", A)\n",
    "B = A.upper()\n",
    "print(\"después upper:\", B)"
   ]
  },
  {
   "cell_type": "markdown",
   "metadata": {},
   "source": [
    "Probemos con el método <code>lower</code> este método convierte los caracteres en mayúsculas en caracteres en minúsculas:"
   ]
  },
  {
   "cell_type": "code",
   "execution_count": 25,
   "metadata": {
    "collapsed": false,
    "jupyter": {
     "outputs_hidden": false
    }
   },
   "outputs": [
    {
     "name": "stdout",
     "output_type": "stream",
     "text": [
      "ante lower: TIZIANO BORRELLI\n",
      "después lower: tiziano borrelli\n"
     ]
    }
   ],
   "source": [
    "# Convierte todos los caracteres de la string a mayúsculas\n",
    "A = \"TIZIANO BORRELLI\"\n",
    "print(\"ante lower:\", A)\n",
    "B = A.lower()\n",
    "print(\"después lower:\", B)"
   ]
  },
  {
   "cell_type": "markdown",
   "metadata": {},
   "source": [
    "El método <code>replace</code>reemplaza un segmento de la <code>string</code>, es decir.es decir, una <code>sub-string</code> por una nueva string. Introducimos la parte de la <code>string</code> que queremos cambiar. El segundo argumento es aquello por lo que nos gustaría cambiar el segmento, y el resultado es una nueva string con el segmento cambiado:\n",
    "\n"
   ]
  },
  {
   "cell_type": "code",
   "execution_count": 26,
   "metadata": {
    "collapsed": false,
    "jupyter": {
     "outputs_hidden": false
    }
   },
   "outputs": [
    {
     "data": {
      "text/plain": [
       "'Ted Borrell'"
      ]
     },
     "execution_count": 26,
     "metadata": {},
     "output_type": "execute_result"
    }
   ],
   "source": [
    "# Reemplazar la antigua sub-string con la nueva sub-string de destino es el segmento se ha encontrado en la string\n",
    "A = \"Tiziano Borrell\"\n",
    "B = A.replace('Tiziano', 'Ted')\n",
    "B"
   ]
  },
  {
   "cell_type": "markdown",
   "metadata": {},
   "source": [
    "El método <code>find</code> encuentra una <code>sub-string</code>. El argumento es la <code>sub-string</code> que quieres encontrar, y la salida es el primer índice de la secuencia. Podemos encontrar la <code>sub-string</code> <code>jack</code> o <code>el</code>."
   ]
  },
  {
   "cell_type": "markdown",
   "metadata": {},
   "source": [
    "<img src=\"data:image/png;base64, iVBORw0KGgoAAAANSUhEUgAAA1kAAAGaCAYAAAD94okAAAAAAXNSR0IArs4c6QAAAARnQU1BAACxjwv8YQUAAAAJcEhZcwAADsMAAA7DAcdvqGQAAGumSURBVHhe7d0JuBTVnf//438mGTPjBiYuEQwuKEYJKgIKLuC+j2tcx3GLiibGuOEadcB9iTEuuDsGRcd14r7jAooIEZeIOwHcEhVFMzHJ73n438+59b0ciqrqvt3V3VX3vl/PU09VV1d3V1dXn3O+55w6tdj8Ng4AAAAAkIv/L5oDAAAAAHJAkAUAAAAAOSLIAgAAAIAcEWQBAAAAQI4IsgAAAAAgRwRZAAAAAJAjgiwAAAAAyBFBFgAAAADkiCALAAAAAHJEkAUAAAAAOSLIAgAAAIAcEWQBAAAAQI4IsgAAAAAgRwRZAAAAAJAjgiwAAAAAyBFBFgAAAADkiCALAAAAAHJEkAUAAAAAOSLIAgAAAIAcEWQBAAAAQI4IsgAAAAAgRwRZAAAAAJAjgiwAAAAAyBFBFgAAAADkiCALAAAAAHJEkAUAAAAAOSLIAgAAAIAcEWQBAAAAQI4IsgAAAAAgRwRZAAAAAJAjgiwAAAAAyBFBFgAAAADkiCALAAAAAHJEkAUAAAAAOVpsfptoGQAAJLjsgYnuwWkzXN8Vv+d+c+jO0dra5f1+6L5mf/qFO+bG+91fvvmbO27nTd1WA/pGzwBoJYIsAKWw2GKL+XmPHj3cU0895QYMGOAfZ7ngggvcqFGj/HKZkzr77ueff7478cQT/TKc++yzz9wll1zi5s6d66688sporXPPPfecO/DAA92jjz7qVl11VXfn86+6I6+5N3q2eodsMcidu/+2fnm5g0b7ufzpxtOjpdrl/X5lUc1vsf6q33ebrLWKO2D4+q73d5eJ1nZtJ4972F3/xBS/nHQ+bDv6ejftvQ/9sXn49EOite3C14bnrHnwwQfd/vvv75fHjRvntt9+e7+87bbbukceecRts8027uGHH/brAOSH7oIASkUF6kMPPTR6hO5KAZYKieecc47r06dPtNa52267zW2yySY+GP/qq6+itfVT4VU2+eEqfl6vvN+vK1Ew8esHJrrNTr/aPTb97Wgt0uyxUX+3Yo8l3RKLf9sNXG2laO0Cl112mU83NZ1xxhl+nSoiFGCJ5grEAOSLliwApWCtOaaaVh1asrquI4880l111VVu/Pjxbu+99/br3nvvPbfaaqu5DTbYwNfML7vssn69ulNNfnu2Xw796r7n3NsffeqXrzxsFz8PrbJcz8RCK2oXtmRtP7Cf27FtCn3117+5p//wvntw6gz/WIHD06MP7/ItWvW0ZFWi/8ftt98ePWpPC6dPn+7WXXfdaA1pC9AItGQBKCUFTyoooPtRK5YCLAVTFmDJRRdd5OdnnXVWR4AlKqCrtj8+Lfmdb0dbtLcGxCcCrMZacZklFznmB22+gbvpp3t2tPR9/c3f3c0Tpvll1OaKK65wI0eO9MvqGijqbv3AAw/4SgkZOnSonwPID0EWgFLZa6+9oiVHt8Fu6o033vDzl156yQ0aNMgHXaKWLNlhhx18t0GU15HbbhgtOTft/Q+jJdRCFQ52Devmm2/u5zJkyBA/V9fatdZayy8DyA9BFoBSWX/99X3XFlEhW10C66XCubqfrb766r5rniYta50V3JPomiBtq7nY+/Ts2bPjfdTSEra4KSDQPoefpUChM9dE6HoKva+9vtK+anvbVsvah/D7xtk+ar/sdfpO+ky9vkh0Dtx5553RowX0/fKk7loarELzkLp5aX2lKf66tPcLTX33A/ez637nhp1y1SLvdfadT0ZbLSrcJ1F3Sa0L30fLWe9htA8HXn6HG3DspR2v1bLW6blGCbsHatS8LBqp0Y6nTXqs9VlsWx0bCY+RujWaareTpGO96sjz3e4Xjltk27zofe2zkj5DacvJJ5/sW34POaS9q6H+40cddZR79913/aAxYcsvgHwQZAEoHV07YN1e6u02qBYPdZlR9zMVOIyWtU7PVdMqEr6PLjA3uhZixIgRPgBSgNK3b1+/z+FnKVBQ60s1gZaCBw3sEF5jYfuqQlSlYzFv3jwfFMa/r9HrbR+1X0bfSZ+pz7766qujta2hWnfVvpu1117bzwcOHOjnsvXWW0dL5XTjky+5PS8a526fON1fN6aBDXQ9jq5RsoEhVJCvRANH7HjOTf56H7v+TLSs97DAIYmClO3G3OCvj/po7oJBRLSsdXquUiBTqzCAW2+V5G6bCmh0DMa0BYs6JiE91no9r+0qUdAYP0ZJsrbTsdZgHfHn1eXx2T+8769FqyawzZP+z0pblDaF1ykqwNL/ObymEUC+CLIAlJJqX62grW6D1mWsMxTU7LPPPn5Z3RAVdOiicE0vv/xyR9dEbZMVAL344ot+GwU5us5Br//000/d2LFj/fMKUPReClDUIqSCjZ7XdtrevsfRRx/t52muueYaHxzF91Xvp/fQ5+y+++7R1sk0lLOCJ12joc9+9tlno2faa7f1er2Pvoues8/Q/loL4hFHHFF1y1vYilbtVKm1TAVFDeOv/dE+brzxxn792Wef7Y+5Jl2H0gwaLlsDFSRNew1bcJuBQ7ccHC1VpqBg9B1P+MJ53xW/6wflmH7JMX7Ag/euGuV+vsMwv50K8llBkhw+9m4/mMRpe2zuHjrtYL9ftxyzt39fUUCQ1CKlIE9BimgERHutvd5GRdQ22jZvv3loUrTUfr1ckr0vGe+PgQJPfT/bv6kX/sw/1no9r+2yKJBV0KggVq/T8R7St3f07AJZ2+k3O/6/H1joNwv3x64xU2DbiOOVxq69mjJlykKtVWrZUhpCgAU0DkEWgFLS/Y/OPfdcv6ygQfdL6iwLatQqppYovadR4UTrrMXM7jOTREGJghYVZOweNCrQHH744R0XnGsfFbhMnjzZF2yswKPt7R5PKvRktUTpeQUQ8X3V+4XvUanlTYGJttdnW4Ai6nan1ytgUy13+Jz2Vy2I9n0qBYSNpt9H+xPuo+iYawoLlK2gblsqlIuCrbRAIck9k1/3hXW57JCdF3ntqW0FfAtynvnD+36eZsUeS/nR+Y5uC8xsIA/drPYXOy04bhNnzIyWFrj0/vZAVwHFXSfsv9AgIHq91uk5UUBYi4+++Mofp3BSAKKudTa6oIKZxGHJ24IVay264IDt/fcz6mqox1ov2i6rBUnHWoGrgli9Tsc7aTTDrO00OIda+BTYxX8zbaNgXKMpih3bZrE0KaT/T5iGAMgfQRaA0lJh2oIg3S+pM9cLqSVGAYVkBQynnXaanyuQSmu9UfBkQU5ceA+nsLtOKLzoPOveTvqu+s5JFGjZSGH33pt+s1ftZzwwMdddd52fK5BKK4DZ51cKCI2+m4K6zkxlvwhfrRon3tx+rqhV4zeH7uyXq2Vd8/TatBEO14haoizQSHPbsfskBgxhEBB2BRQFOrYubI2Ls9Y5BR+1tM4okFIXunAa9duHfNc6BSvn/8d2CwVPodsnvuLnOkbxINRovQWCD05708+TKPhR4FpJ1nb2/jsMXCv1N9tvk/Yh03Vsuf8X0PURZAEoNQUN1t3uwAMPrLrb4GuvvRYtJdf0mjAgmTgx+fqTrFaTcGjkL7/8MlpamI38JXPmzImWFhWODJbErkN69NFH/TxJr169oqVF2TVYw4YlF2wl3Fcb5S+Ljo2OYWemVrdC1euYG+/3gYcChTP32jJaWz3rgjjxnPZWw3okBViVvPXhgsBNQ6qnCYOb+DVR9dLxU8Cla6CSrqmy4HLTCjdztuu5tH3atVkaSr4aWdvZ/lhQl0QtgOaNOX+KlgB0VQRZAEot7Dao1pVquw1Om9Z+7x1r/clirWVTp07181p9+GHlguisWbOipc6zVjO1unVW2Ap4xhln+MEx0iZTz752VeqWppYY0XU4YcG6sxQUqIVI112pC51GzNOkwRx0LVWjvBUFDBpsoxILKt7+6M9+3hk6PnbdUjjpmi89pyBVrV26pioMkMJWoEr7GLYqJd2QOg/q5miue3xKx++UNJl46yGArocgC0DpqQubDVJRbbfBL75oL7RpGHMsTC1ajzzySOrUGY0Y+KKoNICEBT8KPqrpgpZGgZVGqlNrjt5TgdtXf22/Tks3Ua4mAKqVDZneyM/IosBUrXlXH7Gbf6xWotNve8wvy5f/90205Nz3ey4VLRWD9lWtemkTgO6DIAtAl6DR5GrpNvjOO+9ES93bkksuKFDruigbVTBr0sATWODo63/X0U3w2pHZozxm0b2xFFjpvTTAhY1Up+6DGnRB0/brtw+i0Eitbm1RsGUtZc+8nnwPuA8/nxcttc7S/7p4tOQWGlUwa1IQCaBrI8gC0CXoOp5x48b5ZXUbPP300/1yGru+yQa/yGKtN+F9mIqoM10g48JrrV5//fVoqX7dZeALtTzZdTmn77lFTddCGRuVUAGWRvFLG9ihUew6pmqCLGud6bvi9/y8URRwmqxBO+LC4emThmXPQ9gl9M0POt9tEkDXRJAFoMvQABbWbVD3k7rjjjv8cpJ11lknWmofaTBNOIJe//7NLezGzZy56FDbIRvwQqMd1sJep3tQZbFrsyoNFS/dYeALXZNj3QQ1Al3WYBGVhNf37LNx+sh+YdCRtzW+3z5yoWSNGhheG9V3xcb8ZtZFUq2DIbvPV6Uh7MPry+oJfCux/Zn2fnaXQLs2q1E3cQZQHARZALqUsNugjZaXRAGZtfhcdtllfp5k1KhRfq73bPWNOxU4pgU2V199dceAF7vssoufd9Zxxx3n57pHVtrw7Lpeyq7NyhqpsLvQgAx2nygV5EfvvZVfrlXY9SytK5wCsQemVh7ZsVYKEu16LGtVS3Lx757xcwVAaUOt1yO8F9amay98S4G9hv3Iz/V8GJiGtN4GIfnx0PbtG8X2R5+XNjy79seuzSratWQA8keQBaBLCbsNVmLBlQIGBVDvvbfgug8FGVpnXQWrfc9GUqC3zz77uAsuuKBjXzXX4yOOOMI/VmtUrcGgXmetWSNGjFgkoFOAtfPO7fd80nZqderuNCCDdVm76D93qLu1RF3PLMBR61jY3U3L6pao+0k12jE7tv+2Cgg0smG4HwoitM66Cqp7ZC2SbkasScGVhm4fE9xA2O4xZRTUWeuR7kkWtgwp8NXj8F5l9QxCUo1wfw4fe/ciLVX6XuH+xLuAhq2H+o3jrDumjrneC0DxEWQB6HLUSqUb6lai7caPH++X1Xqjli0b4W7dddf160TbZN1Lq1n0nRTcqHXN9lVza23Tst1QuFa6YbI+Q61iCujseGjaZJNN/Po8Pqer0BDjZr9Lb3PLHTQ6daq2cGwBjoK37cbc0PF6LSvw0g2CbZtGUWvWaVFgotaZcD/0Pa2FSNvU2j0y6WbEmhRc2XFVK5luSpw0FL5utKyARV0n9Rrbv4En/MY/1no9r+2aIW1/NOl7ab0C6KR7p4Wth/qN9Zow2DpwxILrQfVeep5gCyg2giwAXdLo0aN9MFCJWm80+IUCmHB7LWudnqu1ZShvSy+9tJsyZYo7//zzO1qcRMtaN3ny5IUGsKiFWgL1GQos7f5gRo/Hjh2by+cgnQrcGqVOA18YBRs20uBvDt25Kd3N1Drz0GkH++vMLAAQLWudnmtEN0F9V40q+PO293569OGpQZxaDTXiogK9+E2A9Vjr9Xwjr8UKVdoffZ/7TzkwMWCUG47a0x/X+PVnovt9xc8JAMW22HyNwwsAAAAAyAUtWQAAAACQI4IsAAAAAMgRQRYAAAAA5IggCwAAAAByRJAFAAAAADkiyAIAAACAHBFkAQAAAECOCLIAAAAAIEcEWQAAAACQI4IsAAAAAMgRQRYAAAAA5IggCwAAAAByRJAFAAAAADkiyAIAAACAHBFkAQAAAECOCLIAAAAAIEcEWQAAAACQI4IsAAAAAMgRQRYAAAAA5IggCwAAAAByRJAFAAAAADkiyAIAAACAHBFkAQAAAECOCLIAAAAAIEcEWQAAAACQI4IsAAAAAMgRQRYAAAAA5IggCwAAAAByRJAFAAAAADlabH6baBkAuoY3D3Lum5nRAzTV4n2cW/PG6EEJcK4AxVa2NAWIEGTV6Vt9N4iWABTF4ye85TZb86voEZrp6TeXdFteuEb0qPg4V4BiK1uagtb4x9svRUvFQZBVJwVZRfxhK2G/m49j3kTTRzj3xQTnvr2Sc4v3ilaWw4vTX3ODB6wTPSqPD/44za3U4x/OLTPcuQFPRWtLgHOl6djv5irrfrtv5jj39w/Kl6a0Ib9vrqLuN0FWnTghm6us+y0c8yaygvNSQ5zrNy5aWQ79ttzVzXj8nuhRebx4+7pu8Cp/KW+QxbnSNOx3c5V1v92M/Z2bN5kgq4nY73wx8AUAAAAA5IggCwAAAAByRJAFAAAAADkiyAIAAACAHBFkAQAAAECOCLIAAAAAIEcEWQAAAACQI4IsAAAAAMgRQRYAAAAA5IggC7n62XW/c9uOvt5d9sDEaA0aScdZx1vHHQAAoEhmf/qF2/3Ccb6s8tj0t6O13QNBVostd9DoTk86UYvozudfdbdPnO6mvfehe3DajGgtGmnMnU/6463jDqA1hoy6InPa6+Jb3X/9zxPutVmfRK8A0CpWljp53MPRmnJQ2a/IZcA0Vz78gnv2D+/7ssqTr74bre0eCLKQmz026u/WX/X7fnmTtVbxczTWIVsM8vNNfsjxBopq5p/mugemznCHXHGnu3nC1GgtAHR9Khuu2GNJt8Ti33YDV1spWts9EGS12JWH7bLItP3AftGzzv18h2GLPH/czptGzxbPw6cf4v504+nu1D02j9agkc7df1t/vO86Yf9oDYBW6bNcD3fW3lsuMu3Qlqb/6798y29zxUMvuId//6ZfBoCuToHV9EuOce9dNcoHXN0JQVaL6YSLTysus2T0rHNrrvS9RZ7fakDf6FkAQFH82+Lfctuut+Yi0y9/vIUbtetm0VbO3TeV7tQA0NURZAEA0GAKttTSJX/g2iwA6PIIspCrslxQaheQVprK8j3KciGsRkPUKEOrjjy/4xgPOPZSd+DldxRy1CEbuOCi/33GP1Y3r6Ou+1834pfX+PWa63FRBzT4aO48v+8aeMG+i+0zXdaaTy1d8n9/+4efF0n83Nak80bnj86jIjv4ijv8/moudz3/asc6++8WkfbNjrVMnDGz4zew71JEuq7Qjq9Nesz1hkiiQdEsv9dyd0KQBaApFAhqNESNMvT1N3/3g6T0XfG7bQW4r9yDU2e4/S69zd345EvR1sWj0eHOuO1x99LbczoKyZrr8c/aCkZFK4iqwLbvr25zd0x61Q+8YGyf9V1G/fahaC2a4c9f/sXP1155OT8vCp0H8XNbdN7o/NF5pPOpDFTQv+DeZ9zrs/4UrSkHHd/Tbn10kd+gSJTGKfDWdYXx46vHWq8gEUA7gix0SzZAR9Kkgr9oJJwjt93QL6M+ahHU8K2iERGnXvgz/xtMPGeke+i0gzuO+eg7nvD31CgajQynaYO+vfxABpPPP8rde9J/uP8csb5/XoWiS+8vzr3h1LKmApv2ywZj0D5ruv6oPdyeQ9svPp7w2ns+eETjqfD/pyjIGr72qn5eBPr9dR6Izgud13aunLjLpv780Xmk86noQ9C//8lcX9Bfbul/8/9NnffqplkGOr6iQVK03zZybJGMuespH3hrEJejttuw4zzRpMdaryCRNAVoR5AFBBQMvP3Rp3759D23cL2/u4xfRn3svmkaOVMjIobHVSMPnbnXln5ZLVyPv/KOXy4SFTJViLji0H/vKLSt2GOptiB8o45WiT/MLk4B9LdPT/P7rELPpQfvuFBBc52Vl3fH//umHYGWgseytFIU3V+++YfvdhefVOhU4V+Gr7OqO2D4QL/cagqa9PuLzgedFzqvze4b9ffnj84jnU9XPdr+HYpK+6jje83I3fx/U+e9zvcyWG7pJdxv2tIXDZKi/R7Wr0/0TDEojVAAJT/dbqNFzmE9Pmjz9nU6p7gnHECQBXRQX+Hrn5jil/caNqAtw9jAL6N+6hIom6XczyscMfOtD9uD3CJR7XJawfiHvdoLcdZK0Wrq0mMtEyPWWW2hQnNov03X7RhW/IlXutcNIhtFtfzqdhefwkDm/P/Yzi8Xwd0vvBYttZ8PSXT+6PwXFbKLfH2WWrB0fNPO+SJTpV6RA0JLI9SyqeA7idJIS1Oe+UN7GgR0ZwRZQBt1UVNXNVHXNXWTQX6sK2ZZA1crOJTB9JkfRUvODe7bK1palAqiqyzfPtrd6wVqhevKdH2TBggoSsvhzD9/7udqjc0KTMLC/6QZf4yWiud7bUFWWRW9xa3jXOmdvZ+Wpvzxz8Xr9g00G0EW0OaYG+/vaG1R1zW6CTaGRhA8+84n3c+u+50fCMMmjTaIfLz3SXthSHotm30eWytcODAGaqdgJbxOxSZdB6fupmpp0QABuv6mCIGWrmGS7y21hJ+nCbubvs+50i3ZQBdT3pntKwrSJjun/jzvaz8HujOCLHR7GtFOI96JLjbmZs/5U3ClYEojCP76gYnu9onTF+oWuMb32we+QP10XYopy/UoXZ1+B3Wl0rVCCrT0G51394To2daxc+V7S5W3BQjNpW7RCrjSpjD9Abo7gix0a1Pf/aCjm6CGFNegDMiXjvHhY+/2owtqxMbT9tjcjyj43lWj/AiDNiF/XHxeLOqSt1k0sqAKq0XpNvjnecW4nhDFZV2mdV1hUmttfLrhqD399kB3RpCFbu3UWx/2I9qp8H/2vgRYjaABRXSM5eojdnNH7zDMjyiIxghbr+Z8ln1dxB/mtAdhupgdzffVX/8WLbWGjYxZqWuXRkg0q3CudEt2rdX7f6a7KFAtgix0W+G9m47ZcWMK/g3y+/c/8HO1FKZ1xSzivbHKakCfFaMl516MhlxOY9dPEGQ1T9idasnv/Eu01Bp9vtfTz9XNK2vUwPA6vzVXKtaNlNEcdq78oULruG5XoGuzuFcWQJCFbkrXCNlw7Zv8cBXfuoLG+LfF2wuSNrBInAKs0297LHqEeqlLmu4VJE+99m5q4fmi/32mo8C/86C1/ByNpe6B+k1E12a1+l5Iu224TrTk3C3PvBwtLUznj0ZFFN2Mm+v8uic7V5RmXPnw8345TueKzm8F7WUakRVoFIIsdDsq1J95++N+ecUeS7pLD9rRL6Mx7N5YCrLUehjSoCN7XzLePfM691TJ039str4v5KhAdMwN9y/U3UvXaSnAsoKz7oFUtBufllXazYjvev5VX7OvUQUtsN1u/QUj9rWKAia7B5bOB50XYVCu/db5o33W+TRy6w2jZ9DdhOfKfz81bZFzRelKeK6EI1IWjW7TIrpJvq4ZLou+K37Pz9UDR93wUXwEWeh2Jr892739UfvIdir4DzzhN265g0anTqiPWgktU1PrYXhsR/32Iff1N3/z12op4EU+VCAas+/WvrBjN8gdMuoKPx1yxZ0dAZZavH754y38MuqXdjPiC+59xt+Q2AIsDR5w5LYb+eVW0+9vLZ86L3Y577cd54r2W99J55HOJ1qxuresc0Xpip0rB20+sNDnyl7DfuTnyv+3G3NDafL5A0csuCH+kdfc6/ebYKvYCLIANNxtx+7jh8cPAykFXlp3/ykH+mu1CLLypdapW3+xty/Qh9dcqRCkbl9n7b2lO/8/tovWotE0yIRaAnTPrOP/vVg3O9d5oPNB54XOD6PzRuePziNaOyFZ54rO798c+u/+dgVFpoo/jXJrlX9loevGrzxsF3+JA8phsfltomXU4Ft9N3D/ePul6FF5sN/NxzFvoukjnPtignNLDXGu37hoZTn023JXN+Pxe6JH5fHi7eu6wav8xbllhjs34KlobQlwrjQd+91cZd1vN2N/5+ZNLl+a0ob8vrmKut+0ZAEAAABAjgiyAAAAACBHBFkAAAAAkCOCLAAAAADIEUEWAAAAAOSIIAsAAAAAckSQBQAAAAA5IsgCAAAAgBwRZAEAAABAjgiyAAAAACBHBFkAAAAAkCOCLAAAAADI0WLz20TLLfWtvhtESwBQn8dPeMtttuZX7sX3/80dcO0q0Vo00s0/ed8NXuUv7uk3l3RbXrhGtLb4OFeAYiprmoLW+MfbL0VLxVGoIKuIB6gS9ru5yrrfwjFvoukjnPtignNLDXGu37hoZTn023JXN+Pxe6JH5fHi7ev6ApFbZrhzA56K1pYA50rTsd/NVdb9djP2d27e5PKlKW3I75urqPtNd0EAAAAAyBFBFgAAAADkiCALAAAAAHJEkAUAAAAAOSLIAgAAAIAcEWQBAAAAQI4IsgAAAAAgRwRZAAAAAJAjgiwAAAAAyBFBFgAAAADkiCALAAAAAHLU7YKszz77zK2++upuscUWc9tuu220thi0bxdccEHH/mnS8qmnnuqfK4MiH9847evVV1/t99OOt+231hfZbbfd5vbee+9F9lvry0bnt32H5557LlpbHH379q1qeumll6JXFIv264wzznAbbLBBx74efPDBhTxXwvO52qlo7r//fnfMMcd0HG/N9Vjri8z2284RO0+KtN8zZszo2Ldrr702Wpvtiy++8NtuscUWHa/V8iWXXOKfawZ9jn2+jmln1fv6eoTnRDW0r0pbtJ/2OtvvZqY5Yf5YLeU/Rx55pOvZs2fHawcNGuTLZc0qg6nsYZ9dT37Y7Hx1+vTpHZ+n41WJbVtpKmKZoDO6VZD13nvv+YLou+++G60pDp2gQ4YMcaNGjVpo/7R8zjnn+ERK2xRZkY9vnBJM7esRRxzhHnnkkWhtOz3WeiWuRQxulQnss88+7vbbb4/WtNN+a31R9zuJElCd30U1e/bsaKmcVLjUOXHrrbe6L7/8Mlrr3LPPPutOP/10t9tuuzWtoNkdqED6i1/8wj3wwAMdx1tzPdZ6BbtFo99fBWDb75DOE63X860+T1RZsP/++0ePqqOgbPfdd/eFvlmzZkVrnV++6qqr3JZbbum3aSSlITp+4ed3Rr2vr5V+b52v8XMii51LSlt07oSaleYo71MeGc8fK1EAuMkmm/jzYu7cudHa9vNO5bJmlMEUYKnsUa9m56v6vBEjRkSPKlNZsbvoNkGW/kCqUSxqbfOhhx7aEZycf/75PkHSpGXRn16ZRVELz0U/vnEKsGxfR44c2XG8Nemx6Pn99tvPLxeFaqeUCchee+210H7buVLE/U6ic/nAAw+MHhXTJ598Ei05N378+MxJLbhFov+k1Sj279/fB1xTpkzx+3riiSf69a+++qo79thj/XIRhOdz1qRzX3r06OHnRaCWESuQ7rDDDu6+++5zb7/9tnvyySc70hQFu9quSPT765jKvvvu688P7bfmeix6/swzz/TLzaYCuVUWhBUF1TjllFM6ghOd8/ZftfNf73fUUUc1rNCvVsBdd93V/89qUe/ra6U8RMGSztfO0GtsX+1cssnOpUamOSrsK2+3PLJaDz74oD+/ROUY/Y8trdG+K51RGUyBRCPKYAo61PKWR4DVzHxVn6U8RsFpGJhW8uGHH0ZLldP8tdZaK9qynLp8kKUaDRV+9AfSSaA/UNGo9sIK/GPHjvUZwMYbb+wnLWudKAi78847/XJRlOH4xilBDY/3lVde2XG8NemxFYrUOlSUFkQlxFY7pf1TITrc7/BcKdJ+p1FhU+d0kQrKaRSk6NzOmpZZZplo69ZTofGiiy7yy9r3u+++2w0fPtzvo/b1Jz/5iRs9erR/XhmZ/R9aLTyf0yZluo8++qjf/qSTTvLzIrCCnQKsSy+91PXr188/7t27ty9UWiGzswXARlIhXr+/6Hw466yz/PkhmuuxnScqeE6YMMEvN4NacNQyqNamsLKgWkofrcCv76Bz3v6r4fmvIOzhhx/2y3lRC5C696kVUIFcZ/Zb6n19rXTM1NKk/FzHbumll3Yrr7xy9Gw2nRvh8bZzySY9DoP2PFsQVYZSDw4V9pWWKU9ZbbXVomcrO/roo/1c+6lzYfvtt+9IbxT8PPXUU/55lXHyLINZUKh9tZY37UM9mpGvWlCo1j218kkt+63XhGl70rTssstGW5dTlw+ylKFZC5FqtfJOTPNw4YUX+rn+aIcffrhfDmmdJRi2bVGU4fjGTZw40c+VCCUdbwnXv/DCC9FSaz322GPRknPHH398tLSwcL/j3SCLJOzOcO655/p5EX388cd+XqQAqhp33HFHR63/r3/9az+PUyZpBahnnnnGz8vg+uuv94Ud/X8POeSQaG1rhUFqWpe2nXbaKVpaePtWevzxx/1chWmdD0nC8+Tee+/182ZQK7ICO53H2j8V3JXHVMuu2dK+J3238HvZtnlRC5C1oKlC7IYbbvDL1ar39bVS5YUFSgpY7rnnHveDH/zAP65k2rRpfp51Lllrkbz88svRUv20n/af2mabbfxytT0LVBlpZZjjjjsusVA/YMAA/76iz8rLpEmTOvJplfEUfO65557+cS2ala+qJUpBoaXDqtz91a9+FT1b2Zw5c/y87AFUNbp8kKU/hk4A/YnOPvvswv2oqhGwP/hhhx3m50nsOW1bpP6sRT++SaZOnerngwcP9vMkSlSNFVZbLdyPVVddNVoqn7A7g7o4rr322n65iD766KNoqVweeughP1erilpS0jzxxBO+a1iRugxWcs011/i5CnLdIZNuJCvI/+hHP/LzNGr5EQU9jbyeJrTEEkv481eFNwWDaQX3JGoFs++W9Tp7Ttvmef2lAhQFheoqqv9WZytp6n19rdZZZx0f1KmrqwK7rLQj7rXXXvPzrHPJWnflq6++ipbqN3DgQB+AK3BTRW9n8sdwP3r16hUtNYeCfB1v/a/eeecd33JTq2bmq0suuaTvsq2ulMo/0iqr09h/szvo8kGW/nA6AYpaKA2bzIcOHRotLSp8rtEX6nZG0Y9vEu3z/PnzM1vdGtHvul7qDqj91pQmDMCVYRaRdWdQVwG7NqLoinos01htdJED2FqoO5NVSqW15raCAgLz9ddfR0vpll9++Wiptaot7IStAioMNoMK5Op2ueOOO3Y6yLBzRNZbb71oaVHhc+Fr6qUARQFcZ4KUUL2vr5UCOk1hMFQt7bMK3Fmtbo0K0FXBqymsHK2WAhvLV7OCHDvvFdDlRb+xLk9Q98R6NTNf1XFWWqz9r6eiK89jWVTdZuCLorLaH1HtQJrwufA1aIzJkydHS+UqYNt1OGrC12iVRRN2Z7juuuv8vMisllP/P11zoAu7bUhiZWZFHJo77IqWVcAso9NOO83PVftbpIodFUqt69nNN9/s53Hjxo3zc7VSNLvwnMZaHSoVflsRZNVDhX0TBsBx4XPha9AYYRdBpaFlEVbubLfddn5eJGXLV61XjrqW6hp5XZdmQ7Zr+HwFbzrmXQFBVoFk1cLUUkOD2l122WV+rmAlj1qmRlMiq4RJ18hpn3/3u98VritVvDtDGc5pq9DQhdXqMmWDBIgyCnXz0MXpCraa1Y2qs7RfyrCSAsSiXBtUjbCg09nuKc1go3vqHNGxtR4HmuuxzhUVKorUemsVSGr5TDsXdP6E3Unz7ObVDFmtMrW02KB2VgGh/4EG4ik6Xa+lQVfsWjJdGlFPl75GKGO+apdsnHfeeb5LcHj9uK7z0vVeOuYq0xSxV1FnEGQBMSpQ25++yIMyiNX+qHZcCZP6SWskpKJlBFLGboJGAZUNSawab026WF7HXVSAzuom0ypqddCtH+L3rbEAURlZ0Vri0tx0001+rutAi1iQ0Hmt80MtWjq2GuhCAa3meqz1as0qUsFeF9mrwCsaPlrntAWHCrr0WKP7hecOUAtVkth5VKSuvkmsZWXdddf1o+fpv63/cBErd8qcryqgUq8EnRfWZVPH2QYZUZlG36/MCLKAgJqu7V4V+qMXMVHNokRJgWGRBkeRsnVnMBrOWBmXCpvh8NaimlgFVqqJE7Ui5nnxfB4UXOm6GwsQdSG9Jg0mYIVrtcQVvUVL549VfFiXwaJRi49GaQwHqAlpvQoTRWrxVLdFdTHWuaD9U629BYcKwG3o9LxH30P3oq7WSotEFVNqoSgTpY8aVl/pUJGUNV9Vy5ta3RRQ2S10jHoO6Xp5uxeivl/RyjOdQZAFRBRg2fDLKkzfcsstfrnIrPbn008/9YVou9+G9r8o98kqY3cGo4vu1U0wq2tLeANJuz1AUej+OgqqLEBUoVqTvpddIyThchGNGTPGz3V+F7GVVoGTumPaPbAUxOrGz2rx1NyGN1bQou2KFGjp3Naw1ArE7boy0bmjCgaN7FeGrl0oJgVY1nKlc6oMLRM2OFbYsqJASwFiUa4VKnO+qiBbaUvWpRgnn3xytLTw7WvKprRBliJ46yqVNJVRVqG46DeWLTslnGqRUPO1CqNKZMs0PLT2VQmXBuxQQVTfw24S2Gpl7s5QjbD7V9GuV9GwxmmDLGi/rRVOBYmiCluxLNgqGgVRdvNWBazhiHia67ECGT2v7SzoKgqdIwrEbUh/TbqBtSoYtP/hiLYrrrhitFQOWaPxZj2H+qkrss4htZIqwFLLf7OGo89LvGXlyCOPLMR1Ql09Xw2DxrTeAWVAS1aLhSPXZRXQwufKNpx00SnAsgtbyxhghbTfdk+18GLSVgm7Mxx66KH+cXx6/fXX/fOiZVuP2oQjwdnNlNOUYYh33ZhVVHlQ1G5GFqQqaE275kqBjFqLpMhBbZLwPFphhRWipeIKR67LGlI/fC58DeqnAEtdkaWsAVbopz/9qZ+rAvONN97wy62i/JF8tRxKG2SttdZavn972lQWYYasu3+nCZ8r0oXTZVemAMtaae06iTIIz1t1q1N3i/gUdrcLt2k1XYeiglfZCl8qyFi3L3VVKzP1xbcueFk3a281q2mtdDNTuxVH2Wpmp02b5udqiVM6WXQKyM3vf//7aGlR4XPha1CfMgVYNsiF5mVR5nxV5Zcy9zjrrNIGWSoIq29+2lQWuteLJe7XXHONnyex57RtmW78W2RhgKURblQgLXILloZml5kzZ/p5mjI3rRdJeG+6rAEtwkEjitKVKuwGmHX9z0MPPeTn4bU4RRLe9+2QQw7xy0U2Z86caClZ0bqT2rD+GuAljc4fa02086ro1Gpo53TWNTT2nLZN61aLzgkDLLXcqttpkVuwbN8q3f9t3rx50RLqYQMuSdaAFmGrW1Hzp2rQXbAATjjhBD9X/1oNHx6ndXpOilybWyaqTQkDLI1wU3TWVUo1+2nX6KmvuNX8F6HGWX3F7QLitClsedayrW+1YcOGRUvOXXzxxdHSouzcUeZRlAoeDc0tCrjPPPNMvxyn4FDXB0kRu+GFrVj6jxa5AiQMatOu89H6ogUrW2+9tZ9n3SdL149ZxY26JpWFrgUSja6ZFGhpnZ6TonZDLRu1/ocBlq7zK7pddtnFz9PKX8bunSnqSdVKZc5Xt9pqq2ip/ZrhNHb9rSrYwteUDUFWAWiYcCsQq1lXAYD1n9WyNfuqFasMtblFpwtXbVAIHXdlBna806Yi0AhN1po1YsSIjvNEFHSp0DBkyBDfZ1zKkMEVmWq2VbgXFZ5V66+RstSqpdp9LasFwDIz/T5FqbHVvtvF0OG+a79V2Ne5YumKgkMLyorkzjvvjJZc4dM9O5YKRjRCqQqbFmzZ8dZ6C1Zs+1ZTFymrJdY+2X7b+a3zxgJD/RfK1NqjwEld1UTDh+u7KZDUpGUbUlzfv4jnf9loiHPlSaLjrlsB2PFOm4pA50lY/lL5QPmqKixV0aNRh/U/sWucFRgUucKn6NQTy4IrjYSsY6tjrGOtY67lQYMGLXSv0jIf78XaItvWh7ZtvtV3A/ePt5vzp7O+oBqWU9fg1COv/VYhWTcNtRarOBWudZPZvIbpbOTxzvP4xtW730o8a+mXnMffJI9jrvNEAZYFUmk0nHtetbON/m+Gv4kCllxag6aPcO6LCc4tNcS5fvUNT65RnKxFJY0KoMcee2z0qD79ttzVzXj8nuhRfSrtuwKsvG6Q++Lt67rBq/zFuWWGOzfgqWhtbZTZqhubzvOGtzTndK6om5RaDbO66+p4axuNNpiHPM4VBVVhAJgkz/Nbat1vFcytB4IqEay1Ko2+21FHHdXRYhXX2fO/nuNt13YqravlxuX1vL6e/VagbRVJGnUySfi7dEba+3WYsb9z8ybXlKaEgVGl/FvpjbavFPh1Ji2qNd9UoGqVwPXkh7Xmq7Xud/h5GlK+0oiHp556asfgHWkUjJ199tnRo2yNLqfUipasglDwpOG3dXKGF+BqWSeaEqMy3QcBjaFzQOfC2LFjO+6KblQbp3NFgTrdX/KjwqWC1vh9hLSsdXouzwJonsJ9V4HSqKZZmaDugVTEgXSuv/76jooEu8dO0Slw0vHUcbXChtFjO955BVh50e9v+20tP6LzpejndyX6bnfddZf/bvH/rgrMRT3/0VxqKdE12TrXNVS79RgRlcF0rihQKcNlBWWh4EnHVMc2Xua1411tgFVk3bIlK0/sd3OVdb+FY95EObZkNVueLVnNlGdLVlNxrjQd+91cZd3velqyWo38vrmKut+0ZAEAAABAjgiyAAAAACBHBFkAAAAAkCOCLAAAAADIEUEWAAAAAOSIIAsAAAAAckSQBQAAAAA5IsgCAAAAgBwRZAEAAABAjgiyAAAAACBHBFkAAAAAkKPF5reJllvqW303cP94+6XoUXmw381V1v0WjnkTTR/h3BcTnPv2Ss4t3itaWQ4vTn/NDR6wTvSoPD744zS3Uo9/OLfMcOcGPBWtLQE7V5Ya4ly/cdHKcui35a5uxuP3RI/Kg/1urrLut5uxv3PzJpcvTWlDft9cRd1vgqw6sd/NVdb9Fo55E1nBGc1X1iCLgLxp2O/mKut+u2/mOPf3Dwiymoj9zlehgiwAyMP1B890P1j279EjNNMfP/u2O+SGPtGj4nv8hLfcZmt+FT0CUDRPv7mk2/LCNaJHQDKCLAAAiuTNg5z7Zmb0AEDhLN7HuTVvjB4A5UGQBQAAAAA5YnRBAAAAAMgRLVkAuqyPp3zgPn5xTvSoXFYY3MutMGil6BEa7dU/TXGvfVK+C77XWX4D13+5QdEjAEBRFCrImjn12bbpuehRefQZuHHbtEn0CEBRvHzFZDf9qinRo3IZMHKQW/eoIdEjNNr4V69yt70+NnpUHnuvfYTbp//I6BEAoCgKFWRNuOZc9/R150WPymOzQ09yww87OXoEoCgsyOrRu6fr0atntLbY5s753M2d/TlBVpNZkNW75xpt05rR2uKa/fmbbdNbBFkAUFCFDLJ6r9zb9eq1crS2uObMmeVmz5pNkAUUlAVZq260ulttaDmGAH530lvuveffIchqMguyhq6+kxu6xk7R2uKa9NZ9btI79xFkAUBBFTLI2mjoMLfRsGHR2uJ6fuJE9/ykiQRZQEERZKFaBFkAgDwxuiAAAAAA5IggCwAAAAByRJAFAAAAADkiyAIAAACAHBFkAQAAAECOCLIAAAAAIEcEWQAAAACQI4IsAAAAAMgRQRYAAAAA5IggCwAAAAByRJAFAAAAADkiyAIAAACAHBFkAQAAAECOCLIAAAAAIEcEWQAAAACQI4IsAAAAAMgRQRYAAAAA5IggCwAAAAByRJAFAAAAADlabH6baLnlJlxzrnv6uvPcRkOHuY2GDYvWFtfzEye65ydNdJsdepIbftjJ0VoARfHyFZPd9KumuB69e7oevXpGa4tt7pzP3dzZn7sBIwe5dY8aEq1Fo41/9Sp32+tjXe+ea7RNa0Zri2v252+2TW+5vdc+wu3Tf2S0FgBQFIUMsnqv3Nv16rVytLa45syZ5WbPmk2QBRSUBVllRJDVXBZklQ1BFgAUUyGDrLIhyAKK6eMpH7iPX5wTPSqXFQb3cisMWil6hEZ79U9T3GufvBQ9Ko91lt/A9V9uUPQIAFAUhQqyZk59tm16LnpUHn0Gbtw2bRI9AgAAANCdFSrIAgAAAICyY3RBAAAAAMgRQRYAAAAA5IggCwAAAAByRJAFAAAAADkiyAIAAACAHBFkAQAAAECOCLIAAAAAIEcEWQAAAACQI4IsAAAAAMgRQRYAAAAA5IggCwAAAAByRJAFAAAAADkiyAIAAACAHBFkAQAAAECOCLIAAAAAIEcEWQAAAACQI4IsAAAAAMgRQRYAAAAA5IggCwAAAAByRJAFAAAAADkiyAIAAACAHBFkAQAAAECOCLIAAAAAIEcEWQAAAACQI4IsAAAAAMgRQRYAAAAA5IggCwAAAAByRJAFAAAAADkiyAIAAACAHBFkAQAAAECOCLIAAAAAIEcEWQAAAACQI4IsAAAAAMgRQRYAAAAA5IggCwAAAAByRJAFAAAAADkiyAIAAACAHBFkAQAAAECOCLIAAAAAIEcEWQAAAACQI4IsAAAAAMgRQRYAAAAA5Gix+W2iZQBY1JsHOffNzOhBiy3ex7k1b4weFMvHUz5wH784J3rUGCsM7uVWGLRS9AgAYoqUXhdNgfMPefVPU9xrn7wUPcrfOstv4PovNyh6hGYgyAKQbfoI576YED1osWWGOzfgqehBsbx8xWQ3/aop0aPGGDBykFv3qCHRIwCIKVJ6XTQFzj9k/KtXudteHxs9yt/eax/h9uk/MnqEZiDIApDNMu1vr+Tc4r2ilU32zRzn/v5BKYKsHr17uh69ekZr8zF3zudu7uzPCbIAZCtCel00Jcg/xIKs3j3XaJvWjNbWb/bnb7ZNbxFktQBBFoBslmkv1Va47zcuWtlkM/Z3bt7kUgRZq260ultt6BrR2ny8O+kt997z7xBkAchWhPS6aEqQf4gFWUNX38kNXWOnaG39Jr11n5v0zn0EWS3AwBcAAAAAkCOCLAAAAADIEUEWAAAAAOSIIAsAAAAAckSQBeTg1FNPddtuu6277bbbojUAgCJSOq30Wuk2ADQKQVaDPffcc26xxRbz06BBg9xnn30WPZNNGYBeo3mZ2Xe/4IILojXlpN/tyCOPdD179uz4TvptRfNzzjnHPfLII+6mm27y61qh2nPmwQcf9Nvtvffe0ZqFXX311f5cLSL9DvoNNOl7hFZffXX/vd57771oTTG8+PZLbqWDV6tqQuvZ/1vn2PTp06O12ZS+2evKzL5D2dNr0XewNCH+nfbZZx+fXivdbpVqzxmlZzoX9V2Syg/Kf/RcPN376quvXN++fTOngw8+2AecX3zxRfSqrk/Hyc6L+HmuPF7ri1pZ+uHMD9y1/zXWHTb8ILfp0hv6Sctap+dQPARZTfTSSy+5Sy65JHqEMlHgctVVV7m5c+dGaxbYeOON3TbbbOOXd911Vz8vsqOPPtrPkwoYymSOOOIIt9pqq1VdIdBMH3zwgf8NNJ1xxhnR2nZjxozx81NOOcXPi+Kjzz+OllAmOscOPfTQ6BHKRC1Uo0aNcu+++260ZmHnn3++n++1115+XmQXXXSRPxeVvi277LLR2nYKBjbZZBPXo0cPH1R11rPPPutOP/10t+WWW7oZM2ZEa7u2O++8s+O80DkS5nPHH3+8n5922mmFy/9eeX66+8lmB7rfXnyTm/H7N6K1zi9rnZ5757W3o7UoCoKsJlPB1lpAUA6qzVaALGPHjnW6tZwmBVfm4Ycf9usOP/zwaE0xKVNWBqPCxaqrrhqtbafnFEiOHDnSL8cz9CL453/+52ipvdIipJY5BYe33357of5jH3z+oZ8P6NPf3XPy7ZkTikXnWFdo1elulI6J0jlLr0888US/TrSsdUVtsTBqddF3URAV73mg59Qit8EGG/j8Z8CAAdEzi9p3333d+PHjF5quvfZav16+/PJLt//++3eLFq2ll146Wmr3xhsLAhblicr/lEdef/310drWUyvVyXsf77764iu35DJLujNuGO3uf/8R98yXL7gL7rjErbTKSv65n+9wJC1aBUOQ1QIHHnhgIVsJkEytJ2aPPfaIlspJNXRywAEH+Hno4osv9vPRo0f7eRGpi4syQbHWw9AJJ5zg55dffrmfF8lm62ziBvfdIHNC8ai2u9pug2g95a3W4yApnSsTtWKJpXkhCwLOOuusihVivXr18sFYOA0fPty/1oJPBVoK1ro6VYSqstSElaViFaXnnXeenxfBhHuf9EGU/PqBK90Wu2/llurZHixuuPVQd/G9l/llbaNtURwEWU1kXRNUS0K3wfJ47bXXoiVXyNadaukaJp17qhXdfvvto7ULWMuQApmiFiq/9a1vddTYbr755n4e2mqrrfxcrVnxaxRaZfanc/x8ye8s6ecoh7ArGd0GyyNsmVhqqaWipfJRsGgtcj/+8Y/9PDR16lQ/32GHHepqkdtzzz2jJedeeOGFaKlr23DDDf08qaJO+Yt6RChQL0pL57Rn2n/rwVts6FZfp69fDn2/z0r+ObFtUQwEWU3005/+tONPnVe3Qb2HuhGEAzJo0AJ1cclqLYsPkqACaXxgB71vWNjW++l9w4uJ9VnxAQiy2P7a6/Ve+ty0ArG2t221rH3Q9rYPcfY9wn2s9Blp7BipJtvYe2oKfz9bl9S1KO1Yh/uo58L3S5L0Oh3Lao///fff7+fxbidxylzOPffc6NEC6rNvF0vL7Nmz/XVRW2yxxUIXUse78SXRNsccc4yvUbXX7rbbbr4LS1aXFf3+J598sn/dIYccEq1dQN099Jyo730RzPrz7GgJZbL++ut3XLuTV7fBWtMnfbZtL9WmxSokar1to+078z06m16LbWufo7ntQzyNs+8R7qPyIH1mpfQwTu+j1+saJaNle9/we8fT5FBe6XXSd9OyBhaqxmOPPebnKvBndQUU7V+tlllmmWjJuXnz5kVLyWpNt21bbSea63VaF+YX1W5nlKcpz7HXadJjy+uSqEyjShNVNtr/O84qWFo5kBW6BoKsJrvlllv8n1vq7TaohFWZiGrtrXuEKDFSYKAEp5oWCWXESsjjAzvofUeMGOEzGWUoer/4xcT6LNWkVVPQD/fX6L30uUq0K+2rMgBlbto+3AcTfo/w+fAzOptx5037qP2I76NGutKxSds/HZuk1+lY6viHBYg0Viu36aab+nlcWKunAmYWZWIa5OPWW291s2bNita2X0it6wSSMkSjwEzbPPDAA76Linn11Vf998i6CFvb6DdWt5a0VkVrdbjjjjv8vCj6rbRGtISyUFcq+1/U222wUvqk5+w/mkX7UCktVpqtAn38v6jt9bpqhi6vN70WvYc+Lyk9CL9H+LzyIH2mPrvagKRRak2vla8rr4p/Ny1rYCEL4LLce++9fr711lv7eVzYkj948OBoqfNUWWY22mijaGlR9aTbIb2PttfrsmRtp4BOwdcvfvELn+eE9FjrFQwmUZlGv+VTTz2VGrxay6F+53rKaHlZYukl/Hze5wuOe5rv9/l+tIRCmI+GavvDz9dh1qRlaUukOtaNHDnSr4try9j985onOeWUUzre4/zzz5//6aefRs+0v39bxuCfawvo5rclKNEzC9j763nNtb1eJ3qvsWPHdry/vVdbIWD++PHjOz5L29vr9VwSew89r/lee+210P7o/bLeIzx+tp2OmT7bjqe8/PLLHdvFP0PLWmfvkXQ8suj42nunsee1bVzasa72OGo7e15zHTMT/26aJ50z4XFM+/76HO1/+P7ey8Pnz5/g5r9x69LzV1/JzR/4w/b5rtv2n//Ug9fOn/vhlPnz/+9tv2zPbb7Ryn5dfLp4zEj/vKZrfn1ix2s16fV6T/uMWW8+ueC104b4ffj0if7RTqULv6sd40rsN6p2SjrGv7/8hfk3rf2b+c8c+tD8D254t2Ma0Ke/f809J98+/9Q9R3U81vSD5Vaef8CI/fxz4Wvik95T763PQGPZb2P/Zf1fwv9u0jlVKY3Qf9yej6dPSrvsP6xJ28aF7699sXQgLQ2xbfQ6+yx9jqXlmpLSAXuu1vRa7D1sO/1X9Dr9L21/NbfP0D6FabmeC79v0vHIEv7/w/cN2f896X9sz9n+dza9FnsPTfou4fe272bvoSmJPbdIehxQPq3J3t+L0ut5T/9wobS2Iy2NTb88Yd+O7RZKc4Op5nQ7muy1lj8ctPcm8+/7n1/Nn/LM+IXeq9rtfn7YDh3b6Xlbr0mP7fXab78+yj90bMLzMIsd/2rPv/C8q3aKn5+3vnLl/J3H/2j+eVNOnf/Mly90TGfcMLrjNZc/fPVCz2m6YeJvM5/X++l99f5oLoKsBktL8CtlqlmZgDI9e60S7CRKRCwR12fFhZlAWqCn9bZNWuFCGYBto0w8zp7TpMwgSfge8QwlPH76PvFEydjx1H6msUw97fumCTP8NPZ80u9RzbEOPyNe+AmfS/v+4W+VdM6EQXOnxYIsTcqYw4zNJmXAtk08s9Vjey4t01dGahmkMtKO54JMshr2XdOOV1z4G1UzJR3jtCDLXrP0vy290HvEJwVg4evCiSCreez3CP/L4f9HFVxxldIIS3uSzhtj56DSubjw/atJi/UeSelxmHckpcf2XNrzkpVeSzXvYcdT+5kU7ImlaWmBTJowz0j7/9uxTvo97DlNtaTX4eeH51AoPIaa4sJKw2rTsA4JQZbSawUq4aTgyIIVTfFgxaa60u1ostdrGt8WMMSft6ma7d6Ydl/HNvoOSdvou9g2Ph/qZP4hdh6k/YZx4e9e7RT/bdOCLE2Dt9jQv2bJZZb0Qdf97z/iJy1rnZ7b5ZDdFnmdJoKs1qG7YItcccUVHd0GNXRqZ5qkw6FFk65LEXWlOumkk/yyul6kvX9bhu2uvPLK6NHC+vTpEy21D1Ge1D1rrbXWipbab36Ypi3BSh3eXP3v2zJSv2xdJJJoP+MjAYm+m3Vp0WhJaWzkuWq65DRC1rEeOnRotOTchx+2D/ltrrnmGj/X65O+v+h97RgmsS59+h3q1b9//9TjvN5660VLzn3yySfRUruw+154sXVI1wfYefLAAw/UPKSwHYtJkyb5eSVtGanvZlLtpO1r0RZIucfOut+1BU7utcumuisP/7X7wXIr++fOvuN89+QrE/wyikXnpP13Ons9rbrvtRXE/bLdoy6Jjfyp7nJZ3a/T0mKNIGfGjRuX2BVK1yxavhN2+YrLI71uC1BS3+O6667zc20Tv5WEsdfq2NXTTbNWtabX6kJt0vJnHUN99zThiLZpaX5naJ/U1S+cfvKTn/g0VkOa69qnHXfcMdp6YXmm2xoyXt+9kqzt7L+hfEgjJCbRd7Gh2idOnOjnnWXn5ZNPVjdan8pCSXlF1hSWnyr55XVnuf847kA/guBZB5/udlxlGz9pWev03LGXLLhNAYqBIKtFlEkqIxRlqkcddZRfroaNKqSMMO26FAkzgsmTJ0dLC6v29WkZcpiRz5nTPopakqSR4ELW7/zRRx/18yRhISIUjiY1ZMiQaGlRa6+9tp/reGdduN0oWcc6ixXQ0jI4owuz09g5k4fwQunOsFEadS1D1nuEgdrLL78cLXVO1rFIovNYhZlqp0oXoocUWGm688Rb3JHbHeZ+2Ls9Y+2xxDLu34fs6B447Z6OQOu0W9MrCdBaKnBbgNKZ62nD0UmTRvU0Oq9MVsEwLR0JX581gIFdvzNz5kw/T5JHeh1W0sXZdUrDhg3z8yThfyxM45ul1vTa8pZK+XPW8QnPmUZT3q6AS9dAJQVHeabbaXl4XNZ2tj/h+Z7kRz/6kZ/Xeu5k/T5J9Ftb/lDt1JlzbOabM92UJ5PLcfLmyzP8DYtRLARZLaQMd69oFBu1xFQzeIS8+OKLfp5WA2j0Jzb1Jtrx2rok4QAInWUJWjjwRrXC1or99tvPX1ScNOliWFPN9ymCsMZ8nXXWiZZqN3DgwGip+V555RU/7927t5+nUQ2yefvt8t/BXoFVGFzFKdg6ctvD/PIf/zTL/WF28wuUqEzprY26qYqPam/DMW3aND/Pamk21lpWb6VINWlxPRVN9aTXYZqmgn1SWm2TqSdvaTYNliB5pLVhWlgPDeCitDQ+3Xffff45tfqotUsj88UDraKl22oBErWYaX/TJtvvcGCPsnrirsfcT7c93M34/Rtu8922dDdM/K2/EbEmLWvdi0+84LfRtigOgqwWU7dBy3yr7TZoGVtna1q6A2VwaVPSCFdlksc9X+J3u28maw2ttjazmVSgs2GWq5nCAmAe1lhpwb1Pvv7mL9ESikZdoqxirNpug1Zo7WzranegNDkprbapzPJIa2ttTatWv379fCuW9arRSH6/+tWv/LIparqtwDve/S6csrrDNoLSgqS8ImuqJv34cOYHvkug7HLIbu7MG8csdK8sLWuduguKttVrUAwEWS2mRNTuxdDZboNZ3T26kzAzmz/fD+ZScQpb+coiqztmmXSV74HuKbyetjPdBt95551oqXtbcskFN+VWYTgpfY5Pam0pmzLlzwq21B1Q1EKUpCjptuX3aa1z8emGG27w25fVS0+191ySvY/eL1pa1F4/3SdaWvg1aC2CrAJQgf+UU07xy+o2WGlgButSUqm7R95dzRqpM11q4uxaK2nFBdKNFAaDeXSZaXbtXsgy8UrdN8IWR91HpxadLdA2auCL/S45yK108Gp+jq5BFWNW869ug6ef3l7LnMaub7JrK7NY600ru/VWo570OrzW6vXXX4+Wuo5q8+dqVBvA5ymeRzQz3a6GXWvV6HOns0Fyowa++PrLr6Ml3QNrpWhpUUv1XFDZHL4GrUWQVRDHHntsR4alGzhmFRItA1aGnJUIh4mQaqpaqVKCZRdQ19IHPUyoXnjhhWhpUQrArK9/mYIxOy8q3Vw361yw6/fyHACjsyzQV+aSNWpgeO7XUogTK9BW22WnUQNfLPWv7bX27/8p+/x/6Z32Qqssv8zy0RKKKryeVjeqzfpvhhVcWdfdhmmSRk5rpUam12Kv0w1hs1h63aoRYWthaW2l/DmrwmvlldsHwmlmF3dLk+NpZjPT7WrY/lTqaqdrJnVtVrXXTsZZkFztQE+NHvhCsroBVnOjYjQfQVZBxLsNZtV6hsPChsO5h5S4n3zyyX5ZhYFKg2Q0mgoiaRml7upv15ntsssuft4ZOnY2HO6FF16YmrFZP39N8UKy7iyvIWOrHXykmawwpww3LWNRYJ6VIdv1e1mZfqOFoyOmFUqViV900UV+eYcddqh4sXWSsAY5bOVshW3Xax+FTQNajJsw3i/Hzf36C3f5g2P98vB1NnU/+F7nvzOaL+w2mPXfU0Bmhc7LLrvMz5OMGjXKz/We1Qxz3UiNTK/luOOO83P13Eir8FJaZ+l1/HogpdMKvrQvRRMOhZ6WP+vY6pq+NOH3bUaaff/99/vrsUTpbqhZ6Xa1bH8UpKado9ofDeShwDDsntoZFjSuv/76ft4qg7fcMFpqO28uuyVaWtR1Yxb8F8LXoLUIsgpENRvWbTCLAibbThmzAoQwIbYMSBmhMuysxLxZtB+6N4f21QrBmuvxEUcc4R+rdrPWwsXxxx/vP0PBqb57PBhRZmyFmPgxtueU4SuDaGUgkkRBtRXmdt5554UyFn1PfV8VimybJDYcfzNrRuOU8VowrN9d92YJa0YnTJjgax6Veao21QpinTVjxoxoqfIwv42mIdoH9GlvlRh182nu5N/+0r349ks+sPrjn2e7/518vxt28ubuy7+010Keuif3OSmLsNtgJRZcKWBQGhdWBCjI0Do9J9W+ZyM1Or3W66w1a8SIEYsUlpWuKa0TbRf+j3W8lE7reGlfilYxpqDavls8f9a+n3rqqf7YZqXX4ffNY/h6XU+ltD8+KbjSCI/hyLvat1Cz0u1qhfujrrrx/VG3xnB/lD92ln4vq+gOb2XTChrYQqMHyr3X3+2O3+0Y98Kjk3zLlSYtn3nQaf450bbhwBhoLYKsglG3QUugs5x99tkdCY0S8u9+97sdI9YoA1ICqkRc3TFa3Yol2ld9L+2ranW1n5pb4KNlu0FlLfQd9V31nfXd1Y/cjocmKxiov7yOcSjebSP+uNX03eymmAqclQna99L3VGFDgaPd/yZJmGm3slCiY68bTYoy7EGDBvn++5o0ypVqU5UxqqBZa22o3WPIro1otVuOvcm3UMnNT93idj13L7fO0QPd0FHD3ZFX/9wHWEv/29L+xsRpw7yjmFSgtnQ4i7YbP769JVOVOZYGalp33XX9OtE22rbVGp1ei26qrM+Ip2malK5pfdLnxG96n3VPsFbRPlsQFebP+q1V6am0qdJ5Y+nXQw895Of1SLoZsSYFV3bzZKW7CliSLi1oRrrdGVn7o2sgbX/OPPPMmvYnvK9oqyvq5NiLT3CDt2hvndJQ7SfueWzHzYi1/OTdj/vntI22RXEQZBWMakerzbxU8FZzuLqThbViyrh0Yb5G1qn22pFGU4I3ZcoUv19hEGn7qkSt3n3V6/Wd45+hY6NjpAKMMvZ4P+g99tijY3sFK0UISuNU86sbPIa/tX0vnQMKuivtt3U7rPUO+Hk566yz/G+hygCdF0bXoWjEqMcff7yuawjtepFdd93Vz1tN98G65dgbfRC18+C279wWUBm1ch2945HuoV/+r2/1QvmMHj3aBwOV6D+s2nEVrsPttax1eq7WlqG8NSO9Vjqsz1BaEK8Q0eOxY8cmfo4KvZaWabutttrKLxeJ5UXx31r7a/lQpevuLP3KuuFzvfQ7K6DVOax0d/jw4dEzi2p0ut1ZWfuj437PPfcs1HWzMyyPtPOs1TSoxUV3X+ouf/hq31K10ioLBsDQstbpOW0TDoCB1ltsvsZHBdDlqQVLGZIy/U6Nvjd9hHNfTGhL6Yc4169FXZlm7O/cvMnOLdNWCBiQfrG8ujRZoUaF1mYGzC9fMdlNv2qKW3Wj1d1qQ9eI1ubj3Ulvufeef8cNGDnIrXtU2+8AoEtTlzW1gEmn0rIipNdFU2X+YXRPOx1zBXHNrPgY/+pV7rbXx7qhq+/khq6xU7S2fpPeus9Neuc+t/faR7h9+ldueUd+aMkCugm7AF+ZR9GuY8jLY4+13+1eNZlFbJEEgGqEAzqlDaCB/Om6OeWRyiuL0rKM8iLIArqRMWPG+PnNN9/s512NRpcU668PAGWlAZ1EAxuhOWzEysMOO8zPgXoQZAHdiGrmVEOnC+3DEc66Ao1QphpIXfdQhIuVAaAeao1Xa5YGAUkbrhz5UZ5oI/WGt8oBasU1WUA3Y9dm6aLeqjJu6+P/7ZWcW3zh+9U0zTdznPv7B5l96q0fvaZWdBW0a7J69O7pevTqGa3Nx9w5n7u5sz/nmiygm1HBXwOO9OzZ0w8EEh+4aRFFSK+Lpor8Q3S/SQVZzb4Wy9g1Wb17rtE2rRmtrd/sz99sm97imqwWIMgCkM0y7SKo8sLlVrAgq5EIsgBkKlJ6XTQFzj/EgqxGIchqPoIsANnePMi5b2ZGD1ps8T7OrXlj9KBYPp7ygfv4xTnRo8ZYYXAvt8KgBcP3AsBCipReF02B8w959U9T3GufvBQ9yt86y2/g+i83KHqEZiDIAgAAAIAcMfAFAAAAAOSIIAsAAAAAckSQBQAAAAA5IsgCAAAAgBwRZAEAAABAjgiyAAAAACBHBFkAAAAAkCOCLAAAAADIEUEWAAAAAOSIIAsAAAAAckSQBQAAAAA5IsgCAAAAgBwRZAEAAABAjgiyAAAAACBHBFkAAAAAkCOCLAAAAADIEUEWAAAAAOSIIAsAAAAAckSQBQAAAAA5IsgCAAAAgBwRZAEAAABAjgiyAAAAACBHBFkAAAAAkCOCLAAAAADIEUEWAAAAAOSIIAsAAAAAckSQBQAAAAA5IsgCAAAAgBwRZAEAAABAjgiyAAAAACBHBFkAAAAAkCOCLAAAAADIEUEWAAAAAOSIIAsAAAAAckSQBQAAAAA5IsgCAAAAgBwRZAEAAABAjgiyAAAAACBHBFkAAAAAkKPF5reJlgFgUW8e5Nw3M6MHLbZ4H+fWvDF6UCwzpz7bNj0XPWqMPgM3bps2iR4BQEyR0uuiKXD+ga6JIAtAtukjnPtiQvSgxZYZ7tyAp6IHxTLhmnPd09edFz1qjM0OPckNP+zk6BEAxBQpvS6aAucf0uiKOirpmo8gC0A2y7S/vZJzi/eKVjbZN3Oc+/sHpQiyeq/c2/XqtXK0Nh9z5sxys2fNJsgCkK0I6XXRlCD/kEZX1JF/NB9BFoBslmkvNcS5fuOilU02Y3/n5k0uRZC10dBhbqNhw6K1+Xh+4kT3/KSJZJIAshUhvS6aEuQf0qiKOirpWoeBLwAAAIACUIClirq8prx7VqB6BFkAAAAAkCOCLAAAAADIEUEWkINTTz3Vbbvttu62226L1gAAAKC7IshqsOeee84ttthifho0aJD77LPPomeyqcCu12heZvbdL7jggmhNOel3O/LII13Pnj07vpN+W9H8nHPOcY888oi76aab/LpWqPacefDBB/12e++9d7RmYVdffbU/V4towoQJi3y/9957z3+f1VdfPVoDAOlUGaZ0RJVjANAoBFlN9NJLL7lLLrkkeoQyUYZ81VVXublz50ZrFth4443dNtts45d33XVXPy+yo48+2s8VGMYpkDziiCPcaqutVnWFQDN89dVX0ZLzwawCRbPqqqu6kSNHunfffdcHiEA9rBJFFSrTp0+P1mZTJZK9rszsO5S9Ukz0HVTxkvSd9tlnH5+OJKWBzVLtOaNKJJ2L+i5JabIq+fSctgt99NFHrm/fvn5COx0/HUtNYR4idq7EjyNQD4KsJlOibi0gKAcVtBQgy9ixY53ueqBJwZV5+OGH/brDDz88WlNMqsFVMLLXXnv54CSk5xRIKmDR8rLLLhs903r/9E//FC21e+2116Kldscff7yfn3zyyYUKDqvx+Vf/5zY7+Sq31I9Pc8/P+GO0Fq2mCpVDDz00eoQyUQvVqFGjfFqX5Pzzz/dzpYNFd9FFF/lzccyYMYukyUqnN9lkE9ejR4+FKqKQ7IMPPvDHUtMZZ5wRrW2n4yunnHKKnwN5IMhqgQMPPLB0BcHuTAmz2WOPPaKlcjrttNP8/IADDvDz0MUXX+zno0eP9vMi+dd//Vc//853vuPnQ4cO9XOjgFEFJmWed955Z7S2+F7948du13P+2/3+3QXnGIpDlStdoVWnu1FlkShNsEqxE0880a8TLWudgpQiU6uKvouCqHj3bj2nFrkNNtjAV/INGDAgegZp/vmf/zlaav9vh3R81YPj9ttvL11F+J0TX/GVdLue/d/RGhQFQVYTWa2ZatfoNlgeYatJkVp3OkvdI3TuKcPefvvto7ULWKaj7iXVdpNqBe3/WmutFT1aYJdddvHzCy+80M+LTC1WB116uxt2wuXu/Y8/d6ss3zN6BkWjFpEi/x+wMFVgqrJFkiqTykStWKLeBXHXX3+9n5911lmlzpeaSXmbHUvr4h864YQT/Pzyyy/38zK49H+fdQf/+n+iRygagqwm+ulPf9rxx86r26DeQzUw4YAMGrRAta9ZrWXxQRJUKxYf2EHvGxYu9H7xfu76rHjf5iy2v/Z6vZc+N60ftLa3bbWsfdD2tg9x9j3Cfaz0GWnsGKmQZew9NYW/n61LqvVOO9bhPuq58P2SJL1Ox7La43///ff7uV6TRQWUc889N3q0qC+++MJXEuy2224dff5Vm3rMMccsUjuYRPuhbfUae/0WW2zhu2/MmDEj2mph/+///T8//+tf/+quvPLKxELFVltt5ecKJCsdy1ab/OYsd9ekV90WA/q6B848xK26AoWkogm7ktFtsDzeeOONaMm5pZZaKloqH+V11iL34x//2M9DU6dO9fMddtih8C1yRfGtb32ro8Vv88039/OQ5SFqzepseaHZ/mv8Y27Azy5xv7zlEbfeaitFa1E0BFlNdsstt/iaeKm326AK3OqPrQTBau5EBV0FBiq8VlMDqwRazeTxgR30viNGjPCJjQqter94P3d9lhL5agr64f4avZc+VwXuSvs6b948H4xo+3AfTPg9wufDz2h14Vv7qP2I76MuwtaxSds/HZuk1+lY6vhX06XJMuJNN93Uz+PCmr31118/WlqYgqAtt9zS78err74arXXuyy+/dA888IDvvhLv6x46+OCD3S9+8Qu/rV6j79y/f383a9Ysd+utt7qddtrJjyAYN3PmTD//4Q9/mBokKvCygvFDDz3k50W1y4Zru1d+c6y759T/dP1/sEK0FkWi/4Bdu6N0Lo9ug0kVJdVUAumzbXuptsJL/3mtt220fWe+h9KjzlSKiW1rn6O57UM8fbPvEe6jKvr0mZ1Nq/U+er3SFKNle9/we8crvkLx55J+Mz1Xaf+SvpuWqx2c57HHHvNz5WmVugJq/ypR5di1117rK7SsckvpsVW+VaLttL29tprX639j22pZ+6D8wfbBVLudse/S2Yo+/Sa6blfbHnLIIdHaBdTtXM9J0budX3TP027u1391/7XfNu68/1y0ZwqKgSCryVQQHDdunF9WYfn000/3y52lC3tV0BUVBD799NOOvucqwCqhUMBkQVKaF198saNft16n1+u9NMCD6D1UcFVmpcxv/PjxHZ+l7S1gtBHr0lxzzTV+f/Ve+t62r3o/vYc+Z/fdd4+2Trb//vv7BFTN/frsZ599NnqmPQjR95D4Z2hZ6/QZO++8c+bxCNlgFlbQEntPTeHAF9WwY61MU/ufdBwVeMcpY9DvqP3Xdjpmtg/23RT86v3TqECg18vgwYP9PE4VAPquev/w+gXzt7/9zf8GCo5WXnlln8m9/fbbfnryySd9sCcKliygC2l7+830/lOmTHE33HCDu/vuu/3rFWyJBrFQJhr6/ve/7+fLLbecn6ex4PDRRx/182pYAajaKSys1arP8j39hGLTeWqVD/V2G6xUCaTnkv43cdoHFSqzKryUxqlAr/QmLHRqe72umqHLVXBXul9rpZjoPfR5SQXf8HuEzyud0mfqs1s9Wqh+D33X+G9WqVJMabYCsfh307JGb00K7uLuvfdeP9966639PC5siUlL041VjintUoWWUXqsSq+sijGlxQpmtF2Y54q9Xs/H0+y4r7/+2gdlyh/CfYirtF34XdIq+tL+R9pe/zPl7WldLK3V+o477vDzonrkv37iZt14qjvm3xdUKqB4CLJaQNfDqGAsSrw7091OlIHa0LMqFKsgECYYen8lIha8ZI2Wo+cVtKjAa9fp6L00Sp71XVbGoIxm8uTJvobRPkvbq+uWKAPKynT1vAI3JX7hqHZ6v/A9KhUylKhre312GORY9zbtZ/wztKx1Slz1fa2fe7PFj3V4HE866SS/rGMQDwLV916vld/97ncLteTYd9P72jZJXn/99Wip/TVJtD86l8L3D82ePdtnZEsvvbS/H9jw4cOjZ5zr3bu3u/TSS33BQxRQxdlvu++++7qf/OQnbplllvGPRa+3c1qf8fLLL/tlYwNfVGIDYiQV6oBaKL2xShAVwFSA7iyl8WmVQDrXLT/QNpXyA1W4SFaFl9JBfYbyB/ssfY7Wi/5rWZVNeVSKnXfeef49FKTqdUq77VpKHUO9Xu+jfdJz9hn6TlaxpYCk2vxRaZdeHwYC4fvq+c6otVJM9ttvv440SN/FXmvfTUGajk8WC27Teh7o+yhP1aQKsixHHXWUn//qV79KrRhLa5FSwKPgROl++HrlY3qs9Xpe22VR5Zm2U/qv/EHnRJKs7RTI6bsoj1ClnJ4L98d+Y1VeJ/WI0Gu0XVheilt77bX9XL9ftf91BXxJFXJZU7026veDaAlFRpDVIldccUVHQq3Wgc5k3HbBqyQ1eYsSESu4K7FOe39lcBbkxPXp0ydaam/VSUqYwgEIsoaQVUabNry5CvXKyMRq75JoP5Naj/TdLEPSRcBp7KLWSoFco2Qd63C0vA8//DBaaqcCj+j1aa1nel87hkmsRjDsEthZdg4p81NQlEQ1mpJUA2nrrJAY169fv2jJ+UyzFtbiJdV2N1JBrDNT2UeYROeoUsIqcVTwqmXQImvp1/8vXgmkrmBaZ/9N5QdZ9D/X/yOrwkueeuopX+i0z9LnhK1S1h0tid6j3koxBVB6D+Udep3SLttfdcXS65UHap/CdE3baL+tkq9SL4lG0f7XUimmdEdBlMQrQe27KTjIqhQLKyx79eoVLS1Keaome/8sjz/+uNtxxx2jRwsqxtQrQRQwxSnwUsAj+i3D16uSTI+1XrRdpbxV31t5tCroLOBPkradziXlIwrsfv3rXy/0nPZHlXfKnyRplNxqjlN4LobX9wG1IMhqEf3ZrdugEluraaqGXfCqTDkr0QgL7mqFSlLt61VzlCTsKz5nzpxoaVFJF5mGrEtEVjevtMwmTAiHDBkSLS3Kaqh0vLNqcRulmgQ+iRWa9txzTz9Po2sG0tg5k4e0mlVRpms1i3G2PmwBy1taK10WZaqdmWr5DJSbCrIWBHV20CK1xNh/OCtgsNsrKH3Kar1Jq/AK00flLUnX8ejctcq9tDRd9F3rrRRTgJL2Htddd52fa5u0/5O9Vseumq6Jeau1UkytQiatElTH0ILIJOFtQ5Tm1EvBXthzIKTufqLgJT7wkLpzi1qA0oIirbceDP/zP+mj3J155pmp7xHK2s7eP6uiz1qMk75Ptez8njRpkp9Xooq3pAq5rAndA0FWC6lGzLqJqDav2m4Rdu1NpcJemDjHb97aWfGMJElS60W1rNUsq3YvTZgQqpuG+rsnTZaZSDXfpwjCwtw666wTLdVu4MCB0VLtll9++WipNsr4VOOpFgF1MbGpmgy4THTPEt27JD6hnFTgDruJVdv7IEx7leanCdPriRMnRkuLSqusCV+vQYLS2PU7NphMkjwqxcKeEHHWlW7YsGF+niQMElvRolBrpZhV4FWqBM06PvXm13FZaWt4nOPdtK0Va7vttvPzNBtttJGfa/u0a7NWWKG6AX6ytrP9SRuYScIeEe+880601DlZFZZJVBbT/68zE7oHgqwWU7dBqzWpttugBSJZiXR3pW4aaVPZr9PJYzhidbOoV1oNYiUKrhRMaQRB9ZnX9RqvvPJK9KxzP/rRj6Kl5krqL581VTvwxXqrft8P0R6fUE4qSFm3QbWuVNttcNq0aX6e1Z3XWGtZvS3P1VR41dOaX0+lWFhxpAEXkirEbDL1VOA1m/IayaNCqxkVT2F6Hnb5D1uBVlxxxWgp2XrrrRct1R7YVBLm35dddtlCFXTxyXz00UfRUvnoXopJlXS6LxbKgyCrxVTTpUEERBlWZ7oNZtVEdidh4GAXOVeayliTlNUds5k0AEZn6TWqRFA3CbuAWhdeK+NUlxSbupJf7rOVH6I9PqG81IXNeh9U223QavY7WzveHej/H68MC6cyy6NCq9bWtDxolD9TbStUs6hFK979LpyarREDXyzxnX9JrKTr9d36zys0D0FWAajAbyMAqttgpYtHrbazUk1k3l3NGqkztb1xdq2VtKLvfiOFwWAetblZ12FU65NPPomWqqfrSOyzdb2Irt2qtUUsSy2180mZdNbEwBfdWzhoUWe6DTaqhr9sllxyyWhp4dH/siYbNa5MulIl6Mcffxwttc4SSywRLbUPjGHX+GZNGgijrHT/xKRKuj2GtabHB2pDkFUQxx57bEeAoXuLZGXI1g1BNX1ZGXw4bHfYT7kVKmU41re/lu4R4QiHL7zwQrS0KAVg1g2lTMGYnReV7tuRdS7Y9Xt5DIDxzDPPREuLUs203Rwy7G7y/PPP+7kukE47FyvdZ6Ua4bV2YWEui/WRr3aqdC0kuja1LnTmXod2fZMNfpHFWm/y6GrWSPVUioXXAIV5VFdRbSVoNaoN4OuR1i0wzIsrdbv7/e9/Hy01rsU2j2utqtXZ92fgC6QhyCqIeLfBrAw5HLEoHM49pMRZdzYXdW9pdcFQ19+ktdDphpPWt3+XXXbx887QsbORmi688MLUjCnshhIfeUvN/RrxqdrBR5rJuicpgEnrnqTAPOyzHmfXUNSTaVvXFY2eldZl8L777vNzdZUJM0W7nuyPf/yjn8cpwEoaQrizwi6VSaOrAXkIBy1S2pZVARL2IshKX8KKH7sxd6s0slJM7HUaZj6LVYpV6t1RJJbXVqoEzepVYMOqZ6XpnZHVxTsc7CIeINl5+NBDD/l5GguWtd9poxjmwfYnqzJV7NqstHt/VWLlr2q7fOo3T6qQy5rQPRBkFYj+eFk3Djb6Q9t2uqO8AoQwMVdGroxJgYu6tdhNXltJ+6GhVbWvVsOnuR7rhpOijFeBTi10A0N9hhJHffd4MKJATsdK4sfYnlNXTd2csZ5ApBEUVFv3pJ133nmhAoe+p76vCnq2TZI8btKr7n3KdFQ4UDep8GaPysQ1EIANXxwfull36Bd1eYzfqFjvowxRN/msl40+ZbXJZaFuIPP+Zww3mCyRsNtg1v9KAZm1+OiC/TSWPuk9a00H89LISjE57rjj/FxpblqvAqVtVikWv32H5XHal6IJ7yWVVgmqY5uVL4ffN4/86Oc//3liTwGts/RYAVK8l4HSZVG6mnaOa72l3Y3unmf7o88LW+BC2h9rLarlWrKwBTK8FAGoBUFWwajbYDW1g2effXZH640y5+9+97sdF1QqUFBCo8xaNYVF6N6kfdX30r6qwKH91NwKFlq2e6fUQt9R31XfWd9d3dLseGiyQE6Fbx3jULxGMY/rlvKk72b3a1HhRsGqfS99TxVCFDja0MxJwpqzWlvr/uVf/sV3k1KgpWBJGap1DVSXKBXMRPcwiWe2KnhYLaQCa3udJm2rY673thrcWlkNu3XRAhol7DZYiQVX+q8qgAoLcgoytE7PSbXv2UhKRxtZKabXWT6nm5PHAzoFWKpQEm0Xpl86XsrjdLy0L0XrfaCg2r6b8jcdMwuUtO+nnnqqP7YWoCcJv28ew9crvVaAElaMWeWWXeub1O01TLd1rMOWIQVoemzng7ZrdOVAuD8aSCneUqW8P9wf+x06IwzeytLipMo5VdKpsg7FQpBVMMq4qw02VPBWbY26rYQJthIW3XxQF34WpcuUCua6c772K0z4bF91s+R691Wv13eOf4aOjY6RLpZNupGn+lPb9gpWihCUxinzUreO8Le276VzQEF3pf227k1Z9+CpRDWdjz/+uL8Q3TI70e+rgo/dqT+JRg/U68JASu+hdXfddZd/7x/8oPaWHBVklMlK2VqyUE4qUGfdVNZoO/03RK03VtGkad111/XrRNto21ZrdKWYKC3WZ8QrjjSp8kjrkz4nHGZcsu4J1iraZ0undcysElS/tVqwlD5VOm8sDavUVa8ausGvWqPCijEtW8u/9iXtJvFKt5VOqyJM95q01w8aNMg/1no936zRYdP2R5POI61XHlNrDx7LH8lDkAeCrAZTTYiNkFRtrYiCBXuNMqIsek/VAn7++ecdr1Ewo4JrPJgI6X0rvX+1+27bJI0AFX9Oc+2fra+0r509fnqf+Gfo2OgYpdWyKTix7RWsxOn97L3S2PP2PUN5HWudF+Fvbd/LtlfQnfU5BxxwgJ9bga5W6nOvDPruu+/uGMVJwc2ll166UHAbZ6974oknOl6n99A668evDFTrta6zHnvsMT9XwawolQvo+kaPHu3PuUqU/qg7swq04fZa1jo91+iWgGo1o1JMabU+Q4FlvECrx2PHjk38HKV3VmGk7bbaaiu/XCTaZ6Vj8d9a+2uVfWElVZJdd93Vz7Nu+FwttQDpellVhOm3lbBiLN67I6S0Wem0rplV8BvSY63X8428FitUaX/0f7RKu1rY8bbjD9RjsbZCWXrJEUCXogubVZhTn/aqa8ynj3DuiwnOLTXEuX4t6so0Y3/n5k1uy2GHt5Vgki+WVwFVAaQKDa0orE645lz39HXnuY2GDnMbDRsWrc3H8xMnuucnTXSbHXqSG35Y+4A2ALoutcyrBUyUZlfdw6II6XXRVJF/iLrEWlDcqWOek0blIeQfrUNLFtCNjBkzxs9vvvlmP+8qlDkqwFIXnSLWbANAZ6ilz7oUpg2ggXxZbwgd9yJeNoDyIcgCuhG18KimTgFJePF92V100UV+ftJJJ2V2kwWAstCouWKDCqGxdAsY0eBNQB4IsoBuxkY6q+Z2AWWgYFGFEAWPSdfEAUAZqTVFrSoaBCQ+AiPypeOrLoK6bq6a67+BanBNFoBs1sf/2ys5t/jC96tpmm/mOPf3Dyr2qW8l60/fe+Xerlev+oaij5szZ5abPWs2feqBbkaVSBpwpGfPnn4gkIot9UVIr4umivzDrlduxbVYplF5CPlH6xBkAchmmXYRlCDIaiQySQCZipReF02B8w9pdB5C/tF8BFkAsr15kHPfzIwetNjifZxb88boQbHMnPps2/Rc9Kgx+gzcuG1aeNhiAOhQpPS6aAqcf0ij8xDyj+YjyAIAAACAHDHwBQAAAADkiCALAAAAAHJEkAUAAAAAOSLIAgAAAIAcEWQBAAAAQI4IsgAAAAAgRwRZAAAAAJAjgiwAAAAAyBFBFgAAAADkiCALAAAAAHJEkAUAAAAAOSLIAgAAAIAcEWQBAAAAQI4IsgAAAAAgRwRZAAAAAJAjgiwAAAAAyBFBFgAAAADkiCALAAAAAHJEkAUAAAAAOSLIAgAAAIAcEWQBAAAAQI4IsgAAAAAgRwRZAAAAAJAjgiwAAAAAyBFBFgAAAADkiCALAAAAAHJEkAUAAAAAOSLIAgAAAIAcEWQBAAAAQI4IsgAAAAAgRwRZAAAAAJAjgiwAAAAAyBFBFgAAAADkiCALAAAAAHJEkAUAAAAAOSLIAgAAAIAcEWQBAAAAQI4IsgAAAAAgRwRZAAAAAJAjgiwAAAAAyBFBFgAAAADkiCALAAAAAHLj3P8PZnnSG1+GNxsAAAAASUVORK5CYII=\" width=\"600\" align=\"center\" />"
   ]
  },
  {
   "cell_type": "code",
   "execution_count": 27,
   "metadata": {
    "collapsed": false,
    "jupyter": {
     "outputs_hidden": false
    }
   },
   "outputs": [
    {
     "data": {
      "text/plain": [
       "5"
      ]
     },
     "execution_count": 27,
     "metadata": {},
     "output_type": "execute_result"
    }
   ],
   "source": [
    "# Encuentra la sub-string en la string. Sólo el índice del primer elmento de la sub-string en la string será la salida\n",
    "Nombre = \"Tiziano Borrelli\"\n",
    "Nombre.find('no')"
   ]
  },
  {
   "cell_type": "code",
   "execution_count": 28,
   "metadata": {
    "collapsed": false,
    "jupyter": {
     "outputs_hidden": false
    }
   },
   "outputs": [
    {
     "data": {
      "text/plain": [
       "8"
      ]
     },
     "execution_count": 28,
     "metadata": {},
     "output_type": "execute_result"
    }
   ],
   "source": [
    "# Encuentra la sub-string en la string.\n",
    "Nombre.find('Borre')"
   ]
  },
  {
   "cell_type": "markdown",
   "metadata": {},
   "source": [
    "Si la <code>sub-string</code> no está en la <code>string</code>, la salida es negativa. Por ejemplo, la <code>string</code> 'Jasdfasdasdf' no es una <code>sub-string</code>:"
   ]
  },
  {
   "cell_type": "code",
   "execution_count": 29,
   "metadata": {},
   "outputs": [
    {
     "data": {
      "text/plain": [
       "-1"
      ]
     },
     "execution_count": 29,
     "metadata": {},
     "output_type": "execute_result"
    }
   ],
   "source": [
    "# Si no puede encontrar la sub-string en la string\n",
    "Nombre.find('ca')\n",
    "Nombre.find('borre')"
   ]
  },
  {
   "cell_type": "markdown",
   "metadata": {},
   "source": [
    "<hr>"
   ]
  },
  {
   "cell_type": "markdown",
   "metadata": {},
   "source": [
    "<h1 id=\"quiz\">Cuestionario sobre las <code>string</code></h1>"
   ]
  },
  {
   "cell_type": "markdown",
   "metadata": {},
   "source": [
    "Cuál es el valor de la variable <code>A</code> después de ejecutar el siguiente código?"
   ]
  },
  {
   "cell_type": "code",
   "execution_count": 30,
   "metadata": {},
   "outputs": [],
   "source": [
    "# Escribes tu código a continuación y pulsa Shift+Enter para ejecutar\n",
    "A = \"1\""
   ]
  },
  {
   "cell_type": "markdown",
   "metadata": {},
   "source": [
    "<details><summary>Haz doble clic <b>aquí</b> para la solución.</summary>\n",
    "<b>\n",
    "    \n",
    "```python\n",
    "1\n",
    "```\n",
    "\n",
    "</b>\n",
    "</details>\n"
   ]
  },
  {
   "cell_type": "markdown",
   "metadata": {},
   "source": [
    "Cuál es el valor de la variable <code>B</code> después de ejecutar el siguiente código?"
   ]
  },
  {
   "cell_type": "code",
   "execution_count": 31,
   "metadata": {},
   "outputs": [],
   "source": [
    "# Escribes tu código a continuación y pulsa Shift+Enter para ejecutar\n",
    "\n",
    "B = \"2\""
   ]
  },
  {
   "cell_type": "markdown",
   "metadata": {},
   "source": [
    "<details><summary>Haz doble clic <b>aquí</b> para la solución.</summary>\n",
    "<b>\n",
    "    \n",
    "```python\n",
    "2\n",
    "```\n",
    "\n",
    "</b>\n",
    "</details>\n"
   ]
  },
  {
   "cell_type": "markdown",
   "metadata": {},
   "source": [
    "Cuál es el valor de la variable <code>C</code> ¿después de ejecutar el siguiente código?"
   ]
  },
  {
   "cell_type": "code",
   "execution_count": 32,
   "metadata": {
    "collapsed": false,
    "jupyter": {
     "outputs_hidden": false
    }
   },
   "outputs": [],
   "source": [
    "# Escribes tu código a continuación y pulsa Shift+Enter para ejecutar\n",
    "\n",
    "C = A + B"
   ]
  },
  {
   "cell_type": "markdown",
   "metadata": {},
   "source": [
    "<details><summary>Haz doble clic <b>aquí</b> para la solución.</summary>\n",
    "<b>\n",
    "    \n",
    "```python\n",
    "12\n",
    "```\n",
    "\n",
    "</b>\n",
    "</details>\n"
   ]
  },
  {
   "cell_type": "markdown",
   "metadata": {},
   "source": [
    "<hr>"
   ]
  },
  {
   "cell_type": "markdown",
   "metadata": {},
   "source": [
    "Considera la variable <code>D</code>utiliza slicing para imprimir los tres primeros elementos:"
   ]
  },
  {
   "cell_type": "code",
   "execution_count": 33,
   "metadata": {
    "collapsed": false,
    "jupyter": {
     "outputs_hidden": false
    }
   },
   "outputs": [],
   "source": [
    "# Escribes tu código a continuación y pulsa Shift+Enter para ejecutar\n",
    "\n",
    "D = \"ABCDEFG\""
   ]
  },
  {
   "cell_type": "markdown",
   "metadata": {},
   "source": [
    "<details><summary>Haz doble clic <b>aquí</b> para la solución.</summary>\n",
    "<b>\n",
    "    \n",
    "```python\n",
    "print(D[:3]) \n",
    "# o\n",
    "print(D[0:3])\n",
    "```\n",
    "\n",
    "</b>\n",
    "</details>"
   ]
  },
  {
   "cell_type": "markdown",
   "metadata": {},
   "source": [
    "<hr>"
   ]
  },
  {
   "cell_type": "markdown",
   "metadata": {},
   "source": [
    "Utiliza un valor de stride de 2 para imprimir cada dos caracteres de la string <code>E</code>:"
   ]
  },
  {
   "cell_type": "code",
   "execution_count": 34,
   "metadata": {},
   "outputs": [],
   "source": [
    "# Escribes tu código a continuación y pulsa Shift+Enter para ejecutar\n",
    "\n",
    "E = 'clocrkr1e1c1t'"
   ]
  },
  {
   "cell_type": "markdown",
   "metadata": {},
   "source": [
    "<details><summary>Haz doble clic <b>aquí</b> para la solución.</summary>\n",
    "<b>\n",
    "    \n",
    "```python\n",
    "print(E[::2])\n",
    "```\n",
    "\n",
    "</b>\n",
    "</details>"
   ]
  },
  {
   "cell_type": "markdown",
   "metadata": {},
   "source": [
    "<hr>"
   ]
  },
  {
   "cell_type": "markdown",
   "metadata": {},
   "source": [
    "Imprime una barra invertida:"
   ]
  },
  {
   "cell_type": "code",
   "execution_count": 35,
   "metadata": {
    "collapsed": false,
    "jupyter": {
     "outputs_hidden": false
    }
   },
   "outputs": [],
   "source": [
    "# Escribes tu código a continuación y pulsa Shift+Enter para ejecutar"
   ]
  },
  {
   "cell_type": "markdown",
   "metadata": {},
   "source": [
    "<details><summary>Haz doble clic <b>aquí</b> para la solución.</summary>\n",
    "<b>\n",
    "    \n",
    "```python\n",
    "print(\"\\\\\")\n",
    "#o\n",
    "print(r\" \\ \")\n",
    "```\n",
    "\n",
    "</b>\n",
    "</details>\n"
   ]
  },
  {
   "cell_type": "markdown",
   "metadata": {},
   "source": [
    "<hr>"
   ]
  },
  {
   "cell_type": "markdown",
   "metadata": {},
   "source": [
    "Convierte la variable <code>F</code> a mayúsculas:"
   ]
  },
  {
   "cell_type": "code",
   "execution_count": 36,
   "metadata": {
    "collapsed": false,
    "jupyter": {
     "outputs_hidden": false
    }
   },
   "outputs": [],
   "source": [
    "# Escribes tu código a continuación y pulsa Shift+Enter para ejecutar\n",
    "\n",
    "F = \"Hola, que tal?\""
   ]
  },
  {
   "cell_type": "markdown",
   "metadata": {},
   "source": [
    "<details><summary>Haz doble clic <b>aquí</b> para la solución.</summary>\n",
    "<b>\n",
    "    \n",
    "```python\n",
    "F.upper()\n",
    "```\n",
    "\n",
    "</b>\n",
    "</details>"
   ]
  },
  {
   "cell_type": "markdown",
   "metadata": {},
   "source": [
    "Convierte la variable <code>F</code> a minúsculas:"
   ]
  },
  {
   "cell_type": "code",
   "execution_count": 37,
   "metadata": {
    "collapsed": false,
    "jupyter": {
     "outputs_hidden": false
    }
   },
   "outputs": [],
   "source": [
    "# Escribes tu código a continuación y pulsa Shift+Enter para ejecutar\n",
    "\n",
    "F = \"Hola, que tal?\""
   ]
  },
  {
   "cell_type": "markdown",
   "metadata": {},
   "source": [
    "<details><summary>Haz doble clic <b>aquí</b> para la solución.</summary>\n",
    "<b>\n",
    "    \n",
    "```python\n",
    "F.lower()\n",
    "```\n",
    "\n",
    "</b>\n",
    "</details>"
   ]
  },
  {
   "cell_type": "markdown",
   "metadata": {},
   "source": [
    "<hr>"
   ]
  },
  {
   "cell_type": "markdown",
   "metadata": {},
   "source": [
    "Considera la variable <code>G</code>, y encuentra el primer índice de la sub-string <code>Belén</code>:"
   ]
  },
  {
   "cell_type": "code",
   "execution_count": 38,
   "metadata": {
    "collapsed": false,
    "jupyter": {
     "outputs_hidden": false
    }
   },
   "outputs": [],
   "source": [
    "# Escribes tu código a continuación y pulsa Shift+Enter para ejecutar\n",
    "\n",
    "G = \"Con mi burrito sabanero, voy camino de Belén \\\n",
    "     Con mi burrito sabanero, voy camino de Belén \\\n",
    "     Si me ven, si me ven \\\n",
    "     Voy camino de Belén \\\n",
    "     Si me ven, si me ven \\\n",
    "     Voy camino de Belén \" "
   ]
  },
  {
   "cell_type": "markdown",
   "metadata": {},
   "source": [
    "<details><summary>Haz doble clic <b>aquí</b> para la solución.</summary>\n",
    "<b>\n",
    "    \n",
    "```python\n",
    "G.find('Belén')\n",
    "```\n",
    "</b>\n",
    "</details>"
   ]
  },
  {
   "cell_type": "markdown",
   "metadata": {},
   "source": [
    "En la variable <code>G</code>, sustituye la sub-string <code>burrito</code> con <code>caballo</code>:"
   ]
  },
  {
   "cell_type": "markdown",
   "metadata": {
    "collapsed": false,
    "jupyter": {
     "outputs_hidden": false
    }
   },
   "source": [
    "<details><summary>Haz doble clic <b>aquí</b> para la solución.</summary>\n",
    "<b>\n",
    "    \n",
    "```python\n",
    "G.replace('burrito','caballo')\n",
    "```\n",
    "</b>\n",
    "</details>"
   ]
  }
 ],
 "metadata": {
  "kernelspec": {
   "display_name": "Python 3 (ipykernel)",
   "language": "python",
   "name": "python3"
  },
  "language_info": {
   "codemirror_mode": {
    "name": "ipython",
    "version": 3
   },
   "file_extension": ".py",
   "mimetype": "text/x-python",
   "name": "python",
   "nbconvert_exporter": "python",
   "pygments_lexer": "ipython3",
   "version": "3.12.4"
  }
 },
 "nbformat": 4,
 "nbformat_minor": 4
}
