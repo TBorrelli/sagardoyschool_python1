{
 "cells": [
  {
   "cell_type": "markdown",
   "id": "30088842-ba9c-4099-9763-fb786166f602",
   "metadata": {},
   "source": [
    "# Declaración condicionales (if, elif, else)"
   ]
  },
  {
   "cell_type": "markdown",
   "id": "b317e716-aff1-49d1-9f10-7172867c4ca9",
   "metadata": {},
   "source": [
    "<h2>Declaración condicionale if</h2>"
   ]
  },
  {
   "cell_type": "markdown",
   "id": "55c7396d-a350-4e37-9169-88b8ea5e0ed8",
   "metadata": {},
   "source": [
    "Una declaración condicionale <code>if</code> ejecuta un bloque de código sólo cuando se cumple la condición especificada."
   ]
  },
  {
   "cell_type": "markdown",
   "id": "3268d22a-11dc-4c51-8e7e-d7c747fbe29f",
   "metadata": {},
   "source": [
    "Sintaxis:"
   ]
  },
  {
   "cell_type": "code",
   "execution_count": 1,
   "id": "31a6aa4e-416f-4474-ab03-9a438f52f843",
   "metadata": {},
   "outputs": [
    {
     "ename": "SyntaxError",
     "evalue": "incomplete input (1212637204.py, line 2)",
     "output_type": "error",
     "traceback": [
      "\u001b[1;36m  Cell \u001b[1;32mIn[1], line 2\u001b[1;36m\u001b[0m\n\u001b[1;33m    #bloque de la declaración if\u001b[0m\n\u001b[1;37m                                ^\u001b[0m\n\u001b[1;31mSyntaxError\u001b[0m\u001b[1;31m:\u001b[0m incomplete input\n"
     ]
    }
   ],
   "source": [
    "if condición:\n",
    "    #bloque de la declaración if"
   ]
  },
  {
   "cell_type": "markdown",
   "id": "631ae892-808d-42b0-8e81-9401b9a11d3c",
   "metadata": {},
   "source": [
    "Aquí, la condición es una expresión booleana, tal como el <code>número > 5</code>, que se evalúa como <code>True</code> (Verdadero) o <code>False</code> (Falso) <br>\n",
    "<ul>\n",
    "    <li>Si la condición se evalúa como <code>True</code>, el cuerpo de la declaración if se ejecuta.</li>\n",
    "    <li>Si la condición se evalúa como <code>False</code> , el cuerpo de la declaración if se saltará de ejecución</li>\n",
    "</ul>\n",
    "\n"
   ]
  },
  {
   "cell_type": "markdown",
   "id": "7a5c00cd-4b98-47ab-8f32-dd81c2b42a17",
   "metadata": {},
   "source": [
    "<img src=\"data:image/png;base64, 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\" align=\"center\" />"
   ]
  },
  {
   "cell_type": "markdown",
   "id": "b1ed801a-6ca5-4ac4-9213-c8635ff5ca96",
   "metadata": {},
   "source": [
    "<div class=\"alert alert-success alertsuccess\" style=\"margin-top: 20px\">\n",
    "[Consejo] Normalmente la expresión correcta de enunciado condicional es <code>if, then, else</code> che tradotto sarebbe \"<b>si, entonces, si no</b>\". <br> \n",
    "<i>Si algo sucede entonces hace esto, si no hace aquello</i><br>\n",
    "En python la palabra <code>then</code> se ha traducido en <code>:</code>\n",
    "</div>"
   ]
  },
  {
   "cell_type": "markdown",
   "id": "64392878-af67-4b1d-8c1a-417663d0b995",
   "metadata": {},
   "source": [
    "Ejemplo:"
   ]
  },
  {
   "cell_type": "code",
   "execution_count": null,
   "id": "584b934e-21da-41e9-860a-c01dea4321fc",
   "metadata": {},
   "outputs": [],
   "source": [
    "número = int(input('Introduzca un número: '))\n",
    "\n",
    "# comprueba si número es mayor que 0\n",
    "if número > 0:\n",
    "    print(f'{número} es un número positivo.')\n",
    "\n",
    "print('codigo despues if')"
   ]
  },
  {
   "cell_type": "markdown",
   "id": "206fd47d-789b-477d-8681-b42d2087e110",
   "metadata": {},
   "source": [
    "Si el usuario introduce un <code>número</code> > 0 (en esto caso 1) la se evalúa como <code>True</code>(verdadera). <br><br>\n",
    "<img style=\"border:2px solid black\" src=\"data:image/png;base64, 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\" align=\"center\" /><br><br>\n",
    "Por lo tanto, el bloque de codigo que imprime <code>print(f'{número} es un número positivo.')</code> se ejecuta"
   ]
  },
  {
   "cell_type": "markdown",
   "id": "f289240b-b928-4a28-89ac-6a4a289da57b",
   "metadata": {},
   "source": [
    "Si el usuario introduce un <code>número</code> <= 0 (en esto caso -1) la se evalúa como <code>False</code>(verdadera). <br><br>\n",
    "<img style=\"border:2px solid black\" src=\"data:image/png;base64, iVBORw0KGgoAAAANSUhEUgAAAMAAAAAoCAYAAACoy/XoAAAAAXNSR0IArs4c6QAAAARnQU1BAACxjwv8YQUAAAAJcEhZcwAADsMAAA7DAcdvqGQAAASaSURBVHhe7Zs7UuQwEIa9exEKCMg5ARRFQgoJKQERGRkQQkhGRBWkJFyBGk5ATsDrJLt8xj80ja3xePAwg/qrUlkvS21J3ZJt6c+/V4ogyJS/1TUIsiQUIMiaUIAga0IBgqyZOQV4eXkpFhYWqlAgaJOtra0qFLSlUQFoUO/aQkfc3t5WoaBv6Jujo6Pi+vq6iskDxhnPPs5Ya1SAx8fH0nl/MH3QNzs7O1UoDxj4p6enxfLychXTjU5LICq/vLwsr/KD4u7u7soOUTrLFjg8PPx0H05oaSNntdqmra6uVrFvECf88kgWwjoL8tSl+fi2FsaW4WXBX9dmw0jdR1jY+sije2gDPY+eI9XWXfsICNfF9wFKPzc3V4XGgB9hKebn5yvfB8QdHByU/sFg8CXP5uZmGe/hHtIEYfI9Pz+XZXAFH8av8pQmrN+nWahL5QFhPUOKVJmelCz4VV9dmzWRus/6bX0XFxfvfq6E5RRnIay2oa4ufQSST301CZrGWls6vwSfnJyU19cHLq9t2dvbq3xvZaysrBQ3NzfF9vb2u0ZzJfz09FRaE6Y58nUFi7a+vv7JYlxdXRW7u7tV6DOyZDg/44xD1zbrch/tJ9bW1irfmxUHPR/OM2ofCfJhmcfpK4vtB5yd/b6LmfsKNCo04sPDw0idwvLt1aqUncn1N8GAxaDwbNZZ4zAtSKHk+njP6UUBlpaWSoHbgoXCIss6cSWMxcPxTqG0/f398mpJpZ2dnb1bUAuD4Pz8vAp9oLJEXZ4UKVn6YNT6GFS056jr9FQfCVnsUcv+SRoVQNOO97eBpcXx8fH7fX5QebA+TG8sN8jPFctLPI5PfEqz0zPYtI2NjSr2DV4A6WzJgZMsfDK8v7//lAaa2lXm4uJiGd+GlCx90LU+2tZ+pKCdhpHqo59AstsPLl0UL3aDBlnz698BgiBFKECQNaEAQdaEAgRZEwoQZE0oQJA1oQBB1vSqAPx04geFRXGT/ltYJ8tvYFh72h2xfeylmXViBvjFSCn63Esz60xcAfh1Tmd8147B3Em1J/HsywqaSSpA04ERTbtydvq1aewXsdjy/JRNWGlymrJT9aVIydL2GXB26aBwU5pQGaJrfSma2lPysR+LDWvKE9RQngqogYMQOohhGXYwAv+gOqCgNE/dIQZbBmk6lOHL9+EUKVmsH2yZOgRSB/nULl4WW+Z31deGpkMhHICp68Pgg8YZAMtRd2Ck78MrnjYHMepIyYLFBVlGbx3ZAcp6GQtbh7ZXIwt1DJNl3PqC/pial2C7BZnBwIHnvhh2KIT6CXOKDHnGHZiTri8YgWom+ALT6qhLIJ9GGX7qBz9lk19LHo8v04eb8Pm8LPjbLDtUjrB+7vdp311fG3x7ilgCDSd5KF6dKCfU8XLqdKDRFe8HiC9PeYCO8mkiVV+KlCwaaHLIJryckhFsPK7p2eUXXetLkWpPCAUYzlQciGG9rmWAYBmgtfE0wRLFyhnMNlP7I0yf74KgT6ZCAfhSw0siA16O867xsyzomzgTHGTN1C6BgmAShAIEWRMKEGRNKECQNaEAQcYUxX8jarPT9lGnHgAAAABJRU5ErkJggg==\" align=\"center\" /><br><br>\n",
    "Por lo tanto, el bloque de codigo del <code>if</code> <b>NO</b> se ejecuta"
   ]
  },
  {
   "cell_type": "markdown",
   "id": "192fa39c-b21e-4bc6-9976-855aadf37069",
   "metadata": {},
   "source": [
    "<div class=\"alert alert-success alertsuccess\" style=\"margin-top: 20px\">\n",
    "[Consejo] Notar que el código después de if, <b>¡siempre se ejecuta!</b>\n",
    "</div>"
   ]
  },
  {
   "cell_type": "markdown",
   "id": "564fb0eb-409d-4b6c-8081-a171191dcb89",
   "metadata": {},
   "source": [
    "<hr>\n",
    "<h2>Indentación en Python</h2>"
   ]
  },
  {
   "cell_type": "markdown",
   "id": "f23803c7-c508-4565-a7a4-c3b8fa7e850f",
   "metadata": {},
   "source": [
    "Python utiliza la indentación para definir un bloque de código, como el cuerpo de una declaración <code>if</code><br>\n",
    "Ejemplo:"
   ]
  },
  {
   "cell_type": "code",
   "execution_count": null,
   "id": "57bbf882-1cdc-4ca9-921e-d7f8842b0980",
   "metadata": {},
   "outputs": [],
   "source": [
    "#codigo ante de if...\n",
    "print('codigo ante if')\n",
    "#...\n",
    "#...\n",
    "#...\n",
    "número = 10\n",
    "# puedo dejar todos los Enter (envio) que quiero \n",
    "\n",
    "\n",
    "\n",
    "\n",
    "\n",
    "#condición if\n",
    "if número > 0:\n",
    "    # inicio de bloque de codigo if == True (verdadero)\n",
    "    # puedo dejar todos los Enter (envio) que quiero \n",
    "\n",
    "    print(f'{número} es un número positivo.') \n",
    "    # fin de bloque de codigo if == True (verdadero)\n",
    "#codigo despues de if...\n",
    "print('codigo despues if')\n",
    "#...\n",
    "#..."
   ]
  },
  {
   "cell_type": "markdown",
   "id": "c659d99d-6e37-4bda-b059-7ae7e0603526",
   "metadata": {},
   "source": [
    "<div class=\"alert alert-block alert-warning\">\n",
    "[Info] Notar que el código después de if, <b>¡siempre se ejecuta!</b>\n",
    "</div>"
   ]
  },
  {
   "cell_type": "markdown",
   "id": "4aaf7669-134e-4717-adaa-e26180aab555",
   "metadata": {},
   "source": [
    "<div class=\"alert alert-success alertsuccess\">\n",
    "[Info] Normalmente usamos cuatro espacios o una tabulador (tab) para la indentación en Python, aunque cualquier número de espacios funciona siempre que seamos <b>consistentes</b>\n",
    "</div>"
   ]
  },
  {
   "cell_type": "code",
   "execution_count": null,
   "id": "4f889dfb-08dd-4b57-a432-07edd7b29eee",
   "metadata": {},
   "outputs": [],
   "source": [
    "print('codigo ante if')\n",
    "número = 10\n",
    "if número > 0:\n",
    "    # inicio de bloque de codigo if == True (verdadero)\n",
    "    # 4 espacios\n",
    "    print(\"4 espacios\") \n",
    "    # 5 espacios: Errore!\n",
    "     print(\"5 espacios\") \n",
    "    # fin de bloque de codigo if == True (verdadero)\n",
    "print('codigo despues if')\n"
   ]
  },
  {
   "cell_type": "markdown",
   "id": "37baf9e5-af08-479b-a867-f0ef03daf88f",
   "metadata": {},
   "source": [
    "<div class=\"alert alert-block alert-warning\">\n",
    "[Info] la indentación es <b>obligatoria</b> en Python\n",
    "</div>"
   ]
  },
  {
   "cell_type": "code",
   "execution_count": null,
   "id": "c0d3a759-e38a-4c5c-9dd9-42ce6813fb2e",
   "metadata": {},
   "outputs": [],
   "source": [
    "print('codigo ante if')\n",
    "número = 10\n",
    "if número > 0:\n",
    "# inicio de bloque de codigo if == True (verdadero)\n",
    "# ningun espacios\n",
    "print(\"4 espacios\") \n",
    "# fin de bloque de codigo if == True (verdadero)\n",
    "print('codigo despues if')\n"
   ]
  },
  {
   "cell_type": "markdown",
   "id": "c494257f-c238-4440-a51c-a2c8a99d9a39",
   "metadata": {},
   "source": [
    "<h2>Declaración condicionale if..else</h2>"
   ]
  },
  {
   "cell_type": "markdown",
   "id": "04d34f46-1782-4f69-8adb-613be2140c24",
   "metadata": {},
   "source": [
    "Una declaración <code>if</code> puede tener una cláusula <code>else</code> (entonces) opcional. <br> \n",
    "La declaración <code>else</code> se ejecuta si la condición de la declaración <code>if</code> se evalúa como <code>False</code> (falsa)."
   ]
  },
  {
   "cell_type": "code",
   "execution_count": null,
   "id": "f592dbab-024a-477f-a83c-f15d07203d01",
   "metadata": {},
   "outputs": [],
   "source": [
    "if condición:\n",
    "    #bloque de la declaración if\n",
    "else:\n",
    "    #bloque de la declaración else"
   ]
  },
  {
   "cell_type": "markdown",
   "id": "c7ddcc5e-1691-47ab-8751-e3d9a3d7333c",
   "metadata": {},
   "source": [
    "Si la condición dentro de la declaración if se evalúa como<br>\n",
    "<ul>\n",
    "    <li><code>True</code>: se ejecuta el cuerpo de <code>if</code> y se omite el cuerpo de <code>else</code></li>\n",
    "    <li><code>False</code>: se ejecuta el cuerpo de <code>else</code> y se omite el cuerpo de <code>if</code></li>\n",
    "</ul>"
   ]
  },
  {
   "cell_type": "markdown",
   "id": "987cddda-6d33-4bfa-837b-85293aa75b7d",
   "metadata": {},
   "source": [
    "<img src=\"data:image/png;base64, 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\" align=\"center\" />"
   ]
  },
  {
   "cell_type": "markdown",
   "id": "af390f0b-1658-4321-978b-9bce122f605f",
   "metadata": {},
   "source": [
    "Ejemplo:"
   ]
  },
  {
   "cell_type": "code",
   "execution_count": null,
   "id": "49c039c6-65e1-442e-a560-55d2795342aa",
   "metadata": {},
   "outputs": [],
   "source": [
    "número = int(input('Introduzca un número: '))\n",
    "\n",
    "# comprueba si número es mayor que 0\n",
    "if número > 0:\n",
    "    print(f'{número} es un número positivo.')\n",
    "else:\n",
    "    print(f'{número} no es un número positivo.')\n",
    "    \n",
    "print('codigo despues if')"
   ]
  },
  {
   "cell_type": "markdown",
   "id": "d4c813bd-6fa2-49aa-8023-a4dfb24119cf",
   "metadata": {},
   "source": [
    "Si el usuario introduce un <code>número</code> > 0 (en esto caso 1) la se evalúa como <code>True</code>(verdadera). <br><br>\n",
    "<img style=\"border:2px solid black\" src=\"data:image/png;base64, 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\" align=\"center\" /><br><br>\n",
    "Por lo tanto, el bloque de codigo que imprime <code>print(f'{número} es un número positivo.')</code> se ejecuta"
   ]
  },
  {
   "cell_type": "markdown",
   "id": "110504fd-a28a-428d-8884-a5aad53fc3c7",
   "metadata": {},
   "source": [
    "Si el usuario introduce un <code>número</code> <= 0 (en esto caso -1) la se evalúa como <code>False</code>(verdadera). <br><br>\n",
    "<img style=\"border:2px solid black\" src=\"data:image/png;base64, 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\" align=\"center\" /><br><br>\n",
    "Por lo tanto, el bloque de codigo que imprime <code>print(f'{número} no es un número positivo.')</code> se ejecuta"
   ]
  },
  {
   "cell_type": "markdown",
   "id": "bb98f280-662e-4d6e-bd5b-3b83165b7c9e",
   "metadata": {},
   "source": [
    "<h2>Declaración condicionale if..elif..else</h2>"
   ]
  },
  {
   "cell_type": "markdown",
   "id": "e946d684-0ca6-4cff-8ca9-c25fe22f3bd3",
   "metadata": {},
   "source": [
    "La declaración <code>if...else</code> se utiliza para ejecutar un bloque de código entre dos alternativas. <br>\n",
    "Sin embargo, si necesitamos elegir entre más de dos alternativas, utilizamos la declaración <code>if...elif...else</code><br>\n",
    "La declaración <code>if...else</code> se utiliza para ejecutar un bloque de código entre dos alternativas."
   ]
  },
  {
   "cell_type": "code",
   "execution_count": null,
   "id": "764b7c1d-9a54-4c52-9580-05ef11102cf8",
   "metadata": {},
   "outputs": [],
   "source": [
    "if condición:\n",
    "    #bloque de la declaración if\n",
    "elif condición2:\n",
    "    #bloque de la declaración elif\n",
    "else:\n",
    "    #bloque de la declaración else"
   ]
  },
  {
   "cell_type": "markdown",
   "id": "21ab1c81-2266-46fd-83cd-fa4bc2ca70d4",
   "metadata": {},
   "source": [
    "<img src=\"data:image/png;base64, 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\" align=\"center\" />"
   ]
  },
  {
   "cell_type": "markdown",
   "id": "524ee032-285e-4f74-98d2-dd2064788762",
   "metadata": {},
   "source": [
    "Ejemplo:"
   ]
  },
  {
   "cell_type": "code",
   "execution_count": null,
   "id": "fb761fb8-b3ae-49bb-8640-a66cbeb698c7",
   "metadata": {},
   "outputs": [],
   "source": [
    "número = int(input('Introduzca un número: '))\n",
    "\n",
    "# comprueba si número es mayor que 0\n",
    "if número > 0:\n",
    "    print(f'{número} es un número positivo.')\n",
    "elif número < 0:\n",
    "    print(f'{número} no es un número positivo.')\n",
    "else:\n",
    "    print(f'{número} es neutro')\n",
    "    \n",
    "print('codigo despues if')"
   ]
  },
  {
   "cell_type": "markdown",
   "id": "88a53d29-4a30-4bd6-b9ba-34aadd004404",
   "metadata": {},
   "source": [
    "Aquí, la primera condición, <code>número > 0</code>, se evalúa como <code>False</code>. En este caso, se comprueba la segunda condición. <br>\n",
    "La segunda condición, <code>número < 0</code>, se evalúa como <code>True</code>.  <br>\n",
    "Por lo tanto, se ejecuta la declaración dentro del bloque elif."
   ]
  },
  {
   "cell_type": "markdown",
   "id": "8013c1d8-e6bb-4d95-8022-8e2c4c0f477c",
   "metadata": {},
   "source": [
    "<div class=\"alert alert-success alertsuccess\">\n",
    "[Info] Es importante tener en cuenta que, independientemente del valor de la variable numérica, <b>sólo se ejecutará un bloque de código</b>\n",
    "</div>"
   ]
  },
  {
   "cell_type": "markdown",
   "id": "8abbeaff-0fac-4cdd-aa5e-ea0ec591f7c5",
   "metadata": {},
   "source": [
    "<h2>Declaraciones if anidadas</h2>"
   ]
  },
  {
   "cell_type": "markdown",
   "id": "31a440ef-94e2-4a85-b197-fa0bad32aae3",
   "metadata": {},
   "source": [
    "Es posible incluir una declaraciones <code>if</code> dentro de otra declaraciones <code>if</code><br>\n",
    "Por ejemplo:"
   ]
  },
  {
   "cell_type": "code",
   "execution_count": 3,
   "id": "3082afc0-ae4e-44ec-92d2-f5b87c311681",
   "metadata": {},
   "outputs": [
    {
     "name": "stdin",
     "output_type": "stream",
     "text": [
      "Introduzca un número:  0\n"
     ]
    },
    {
     "name": "stdout",
     "output_type": "stream",
     "text": [
      "0 es neutro\n",
      "codigo despues if\n"
     ]
    }
   ],
   "source": [
    "número = int(input('Introduzca un número: '))\n",
    "\n",
    "# declaración if externa\n",
    "if número >= 0:\n",
    "    # declaración if interna\n",
    "    if número == 0:\n",
    "      print(f'{número} es neutro')\n",
    "    # declaración else interna\n",
    "    else:\n",
    "        print(f'{número} no es un número positivo.')\n",
    "\n",
    "# declaración else externa\n",
    "else:\n",
    "    print(f'{número} no es un número negativo.')\n",
    "    \n",
    "print('codigo despues if')"
   ]
  },
  {
   "cell_type": "markdown",
   "id": "f963a3b6-eba3-48fd-a123-e3fc55551ae8",
   "metadata": {},
   "source": [
    "<h2>Declaraciones Pass</h2>"
   ]
  },
  {
   "cell_type": "markdown",
   "id": "31b1ba78-c0b5-4f08-9784-04e761343a5b",
   "metadata": {},
   "source": [
    "La declaración <code>pass</code> en programación Python es una declaración <code>null</code> (nullo) que puede ser utilizada como un espacio en blanco para código futuro. <br>\n",
    "Por ejemplo, suponga que tiene un <code>if</code>sin implementar que pretende construir. Puedes utilizar la declaración pass en tales circunstancias. <br>\n",
    "Sin embargo, hay una diferencia entre una declaración <code>pass</code> y un comentario; el intérprete no puede ignorar una declaración <code>pass</code>, mientras que un comentario puede ser ignorado."
   ]
  },
  {
   "cell_type": "code",
   "execution_count": 6,
   "id": "6ded3ba1-ae91-4bb5-9962-c88b2e657068",
   "metadata": {},
   "outputs": [
    {
     "name": "stdin",
     "output_type": "stream",
     "text": [
      "Introduzca un número:  0\n"
     ]
    },
    {
     "name": "stdout",
     "output_type": "stream",
     "text": [
      "codigo despues if\n"
     ]
    }
   ],
   "source": [
    "número = int(input('Introduzca un número: '))\n",
    "\n",
    "# declaración if externa\n",
    "if número >= 0:\n",
    "    # declaración if interna\n",
    "    if número == 0:\n",
    "        # para ahora non hago nado, utilizo pass \n",
    "        pass\n",
    "    # declaración else interna\n",
    "    else:\n",
    "        # para ahora non hago nado, utilizo pass \n",
    "        pass\n",
    "\n",
    "# declaración else externa\n",
    "else:\n",
    "    print(f'{número} no es un número negativo.')\n",
    "    \n",
    "print('codigo despues if')"
   ]
  },
  {
   "cell_type": "markdown",
   "id": "b631b3ca-bd75-4b27-a839-724745bb6909",
   "metadata": {},
   "source": [
    "<hr>\n",
    "<h2 id=\"quiz\">Quiz on If</h2>"
   ]
  },
  {
   "cell_type": "markdown",
   "id": "79092b5e-2af4-4d9f-acc2-de2a6d8df319",
   "metadata": {},
   "source": [
    "Imprime \"1\" si <code>a</code> es igual a <code>a</code>, imprime \"2\" si <code>a</code> es mayor que <code>a</code>, en caso contrario imprime \"3\"."
   ]
  },
  {
   "cell_type": "code",
   "execution_count": 18,
   "id": "675409e3-569b-4186-91e8-cfa6776840d3",
   "metadata": {},
   "outputs": [],
   "source": [
    "# Escribe tu código y pulsa Shift+Enter para ejecutar\n"
   ]
  },
  {
   "cell_type": "markdown",
   "id": "f7a9cd15-2ef3-408a-8cd9-6129f9b94d41",
   "metadata": {},
   "source": [
    "<details><summary>Haz doble clic <b>aquí</b> para la solución.</summary>\n",
    "<b>\n",
    "    \n",
    "```python\n",
    "if a ==  b:\n",
    "  print(\"1\")\n",
    "else if a > b:\n",
    "  print(\"2\")\n",
    "else:\n",
    "  print(\"3\")\n",
    "```\n",
    "\n",
    "</b>\n",
    "</details>\n"
   ]
  },
  {
   "cell_type": "markdown",
   "id": "5b650b3d-8a60-40f7-9384-cb7bde0c0c3a",
   "metadata": {},
   "source": [
    "Compruebe la variable <br>\n",
    "<code>nombre1</code> con <code>nombre2</code>  <br>\n",
    "si tienen el mismo valor <br>\n",
    "Compruebe la variable <br>\n",
    "<code>apellido1</code>  con <code>apellido2</code> <br>\n",
    "si tienen el mismo valor<br>\n",
    "comprobar la variable <br>\n",
    "<code>edad1</code> con <code>edad2</code><br>\n",
    "si tienen el mismo valor<br>\n",
    "imprime: 'son la misma persona'<br>\n",
    "si no tienen la misma edad<br>\n",
    "si <code>edad1</code> > <code>edad2</code><br>\n",
    "imprime \"persona1 tiene el mismo nombre y apellidos que persona2 y es mayor\"<br>\n",
    "en caso contrario<br>\n",
    "imprime \"la persona1 tiene el mismo nombre y apellidos que la persona2 y es menor\".<br>\n",
    "si no tienen el mismo apellido<br>\n",
    "imprime \"persona1 tiene el mismo nombre y apellidos que persona2\".<br>\n",
    "si no tienen el mismo nombre<br>\n",
    "imprime: \"persona1 no tiene el mismo nombre\"."
   ]
  },
  {
   "cell_type": "code",
   "execution_count": 7,
   "id": "dcb54650-40ed-417c-92de-2e117e0f73d5",
   "metadata": {},
   "outputs": [],
   "source": [
    "# Escribe tu código y pulsa Shift+Enter para ejecutar\n"
   ]
  },
  {
   "cell_type": "markdown",
   "id": "21f3ed24-0f5e-4bf7-a8dc-9de1d0717edd",
   "metadata": {},
   "source": [
    "<details><summary>Haz doble clic <b>aquí</b> para la solución.</summary>\n",
    "<b>\n",
    "\n",
    "```python\n",
    "\n",
    "if nombre1 ==  nombre2:\n",
    "  if apellido1 ==  apellido2:\n",
    "      if edad1 ==  edad2:\n",
    "          print(\"son la misma persona\")\n",
    "      elif edad1 > edad2:\n",
    "          print(\"persona1 tiene el mismo nombre y apellidos que persona2 y es mayor\")\n",
    "      else:\n",
    "          print(\"la persona1 tiene el mismo nombre y apellidos que la persona2 y es menor\")\n",
    "  else:\n",
    "      print(\"persona1 tiene el mismo nombre y apellidos que persona2\")\n",
    "else:\n",
    "  print(\"persona1 no tiene el mismo nombre\")\n",
    "\n",
    "```\n",
    "\n",
    "</b>\n",
    "</details>"
   ]
  }
 ],
 "metadata": {
  "kernelspec": {
   "display_name": "Python 3 (ipykernel)",
   "language": "python",
   "name": "python3"
  },
  "language_info": {
   "codemirror_mode": {
    "name": "ipython",
    "version": 3
   },
   "file_extension": ".py",
   "mimetype": "text/x-python",
   "name": "python",
   "nbconvert_exporter": "python",
   "pygments_lexer": "ipython3",
   "version": "3.12.4"
  }
 },
 "nbformat": 4,
 "nbformat_minor": 5
}
