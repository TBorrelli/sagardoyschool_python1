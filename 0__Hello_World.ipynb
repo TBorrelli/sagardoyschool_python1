{
 "cells": [
  {
   "cell_type": "markdown",
   "id": "7a933f4f-3cf0-4216-a524-0b9ee9aa9720",
   "metadata": {},
   "source": [
    "# Hello World!"
   ]
  },
  {
   "cell_type": "markdown",
   "id": "c5f889af-6d20-4fba-a6ca-7aaeadef937c",
   "metadata": {},
   "source": [
    "Cuando se aprende un nuevo lenguaje de programación, es habitual empezar con un ejemplo del tipo \"Hello World\". Por simple que sea, esta única línea de código garantizará que sepamos cómo imprimir un \"string\" y cómo ejecutar código dentro de las celdas de un notebook."
   ]
  },
  {
   "cell_type": "code",
   "execution_count": 3,
   "id": "ecb6a0fd-1238-4921-8d69-b101a841df80",
   "metadata": {},
   "outputs": [
    {
     "name": "stdout",
     "output_type": "stream",
     "text": [
      "Hello World!\n"
     ]
    }
   ],
   "source": [
    "print (\"Hello World!\")"
   ]
  },
  {
   "cell_type": "markdown",
   "id": "067519e7-f6f0-4067-b600-5927e41178b2",
   "metadata": {},
   "source": [
    "<hr/>\n",
    "<div class=\"alert alert-success alertsuccess\" style=\"margin-top: 20px\">\n",
    "[Consejo] Para ejecutar el código Python en la celda de código de abajo, haga clic en la celda para seleccionarla y pulse <kbd>Shift</kbd> + <kbd>Enter</kbd>.\n",
    "</div>\n",
    "<hr/>"
   ]
  },
  {
   "cell_type": "code",
   "execution_count": null,
   "id": "2c2e6189-8a97-49f3-a209-8e84204f7604",
   "metadata": {},
   "outputs": [],
   "source": [
    "# Prueba tu primero codigo en Python\n",
    "print (\"Hello World!\")"
   ]
  },
  {
   "cell_type": "markdown",
   "id": "24185dc9-579f-4daf-93c5-0bb4e9f20603",
   "metadata": {},
   "source": [
    "Después de ejecutar la celda anterior, deberías ver que Python imprime <code>Hello World!</code>.\n",
    "¡Enhorabuena por ejecutar tu primer código Python!"
   ]
  },
  {
   "cell_type": "markdown",
   "id": "04817707-5284-45e8-9c1a-d2cdb167b90b",
   "metadata": {},
   "source": [
    "<hr/>\n",
    "<div class=\"alert alert-success alertsuccess\" style=\"margin-top: 20px\">\n",
    "       [Consejo:] <code>print()</code> es una función. \n",
    "Has pasado la string <code>'Hello, World!'</code> como argumento para indicar a Python qué debe imprimir. \n",
    "</div>\n",
    "<hr/>"
   ]
  },
  {
   "cell_type": "markdown",
   "id": "da406cbc-e056-407b-ba7f-c2c862f58ab8",
   "metadata": {},
   "source": [
    "<h3 id=\"comments\">Escribir comentarios en Python</h3>"
   ]
  },
  {
   "cell_type": "markdown",
   "id": "80820bdb-c7d2-48a9-8a0c-e9c041b1e37f",
   "metadata": {},
   "source": [
    "<p>\n",
    "    Además de escribir código, ten en cuenta que siempre es buena idea añadir comentarios a tu código. Ayudará a los demás a entender lo que intentabas conseguir (la razón por la que escribiste un determinado fragmento de código).Esto no sólo ayuda a <strong>otras personas</strong> a entender tu código, sino que también puede servirte de recordatorio <strong>a ti</strong> cuando vuelvas a él semanas o meses después..</p>\n",
    "\n",
    "<p>\n",
    "Para escribir comentarios en Python, utiliza el símbolo numérico <code>#</code> antes de escribir tu comentario. Cuando ejecutes tu código, Python ignorará todo lo que pase del <code>#</code> en una línea dada.\n",
    "</p>"
   ]
  },
  {
   "cell_type": "code",
   "execution_count": 4,
   "id": "aec4bfe7-7da9-421c-9279-bb4f32e296b7",
   "metadata": {},
   "outputs": [
    {
     "name": "stdout",
     "output_type": "stream",
     "text": [
      "Hello, World!\n"
     ]
    }
   ],
   "source": [
    "# Práctica de redacción de comentarios\n",
    "\n",
    "print('Hello, World!') # Esta línea imprime una string\n",
    "# print('Hello')"
   ]
  },
  {
   "cell_type": "markdown",
   "id": "1b45e99e-855f-4c0c-80fb-d19a8e1550ad",
   "metadata": {},
   "source": [
    "<p>Después de ejecutar la celda anterior, deberías notar que <code>Esta línea imprime una string</code> no apareció en la salida, porque era un comentario (y por lo tanto ignorado por Python).\n",
    "</p>\n",
    "<p>\n",
    "La segunda línea tampoco fue ejecutada porque <code>print('Hello')</code> estaba precedida por el signo de número (<code>#</code>) ¡también! Dado que no se trata de un comentario explicativo del programador, sino de una línea de código real, podríamos decir que el programador <em>comentó</em> esa segunda línea de código.\n",
    "</p>"
   ]
  },
  {
   "cell_type": "markdown",
   "id": "37b52e4f-ab26-4acf-9325-2119162ef803",
   "metadata": {},
   "source": [
    "<h3 id=\"errors\">Errores en Python</h3>"
   ]
  },
  {
   "cell_type": "markdown",
   "id": "7574bdf4-37ac-4542-b580-59494742e466",
   "metadata": {},
   "source": [
    "<p>Todo el mundo comete errores. Para muchos tipos de errores, Python te dirá que has cometido un error dándote un mensaje de error. Es importante leer los mensajes de error cuidadosamente para entender realmente dónde cometiste un error y cómo puedes corregirlo.</p>\n",
    "<p>\n",
    "Por ejemplo, si escribes <code>print</code> como <code>frint</code>, Python mostrará un mensaje de error. Inténtalo:</p>"
   ]
  },
  {
   "cell_type": "code",
   "execution_count": 5,
   "id": "da648ba0-e84d-45d7-a110-fbf3b02ef443",
   "metadata": {},
   "outputs": [
    {
     "ename": "NameError",
     "evalue": "name 'frint' is not defined",
     "output_type": "error",
     "traceback": [
      "\u001b[1;31m---------------------------------------------------------------------------\u001b[0m",
      "\u001b[1;31mNameError\u001b[0m                                 Traceback (most recent call last)",
      "Cell \u001b[1;32mIn[5], line 2\u001b[0m\n\u001b[0;32m      1\u001b[0m \u001b[38;5;66;03m# Imprimir string como mensaje de error\u001b[39;00m\n\u001b[1;32m----> 2\u001b[0m \u001b[43mfrint\u001b[49m(\u001b[38;5;124m\"\u001b[39m\u001b[38;5;124mHello, World!\u001b[39m\u001b[38;5;124m\"\u001b[39m)\n",
      "\u001b[1;31mNameError\u001b[0m: name 'frint' is not defined"
     ]
    }
   ],
   "source": [
    "# Imprimir string como mensaje de error\n",
    "frint(\"Hello, World!\")"
   ]
  },
  {
   "cell_type": "markdown",
   "id": "654f45d4-9e92-43b4-a19d-8492a4d50f51",
   "metadata": {},
   "source": [
    "<p>El mensaje de error le indica\n",
    "<ol>\n",
    "    <li>\n",
    "    dónde se produjo el error (más útil en celdas de cuaderno o scripts grandes), y</li> \n",
    "    <li>\n",
    "    qué tipo de error fue (<code>NameError</code>)\n",
    "</li> \n",
    "</ol>\n",
    "<p>\n",
    "Aquí, Python intentó ejecutar la función <code>frint</code>, pero no pudo determinar qué es <code>frint</code> ya que no es una función incorporada y tampoco ha sido definida previamente por nosotros.</p>"
   ]
  },
  {
   "cell_type": "code",
   "execution_count": null,
   "id": "aeb8ffb4-4576-4b52-a3f8-ebf5520bda56",
   "metadata": {},
   "outputs": [],
   "source": []
  }
 ],
 "metadata": {
  "kernelspec": {
   "display_name": "Python 3 (ipykernel)",
   "language": "python",
   "name": "python3"
  },
  "language_info": {
   "codemirror_mode": {
    "name": "ipython",
    "version": 3
   },
   "file_extension": ".py",
   "mimetype": "text/x-python",
   "name": "python",
   "nbconvert_exporter": "python",
   "pygments_lexer": "ipython3",
   "version": "3.12.4"
  }
 },
 "nbformat": 4,
 "nbformat_minor": 5
}
