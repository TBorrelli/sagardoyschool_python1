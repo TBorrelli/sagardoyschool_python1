{
 "cells": [
  {
   "cell_type": "markdown",
   "metadata": {},
   "source": [
    "<h1 id=\"list\">Lists</h1>\n"
   ]
  },
  {
   "cell_type": "markdown",
   "metadata": {},
   "source": [
    "Las <code>list</code> (listas) de Python son un tipo de estructura de datos muy similar a las tuplas.<br>\n",
    "La principal diferencia entre ambas es que las lista son mutables, lo que significa que se pueden modificarse una vez creadas. \n",
    "Esto las hace ideales para almacenar datos que pueden ser modificados.\n",
    "\n",
    "En Python, existen diferentes tipos de datos: <code>string</code>, <code>integer</code>, <code>float</code> y <code>boolean</code>. <br>\n",
    "Todos estos tipos de datos pueden estar contenidos en una lista\n"
   ]
  },
  {
   "cell_type": "markdown",
   "metadata": {},
   "source": [
    "Para crear una lista, escríbala entre corchetes <b>[]</b>, con su contenido dentro del paréntesis y separado por comas. ¡Vamos a probar!"
   ]
  },
  {
   "cell_type": "code",
   "execution_count": 3,
   "metadata": {},
   "outputs": [
    {
     "name": "stdout",
     "output_type": "stream",
     "text": [
      "(('Tiziano', 'Borrelli', 'Lopez'), 40, 2.5, ('Italia', ('Via dei Faggi', 114, 'Roma'), 'Italy'))\n"
     ]
    }
   ],
   "source": [
    "# Crear una lista\n",
    "lista_anidada = ((\"Tiziano\",\"Borrelli\",\"Lopez\"),40, 2.5, (\"Italia\", (\"Via dei Faggi\", 114,\"Roma\"),\"Italy\"))\n",
    "print (lista_anidada)"
   ]
  },
  {
   "cell_type": "markdown",
   "metadata": {},
   "source": [
    "<img src=\"data:image/png;base64, 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\" width=\"600\" align=\"center\" />"
   ]
  },
  {
   "cell_type": "markdown",
   "metadata": {},
   "source": [
    "<hr><h2 id=\"op\">Operaciones comunes con la <code>tuple</code> (tupla)</h2>"
   ]
  },
  {
   "cell_type": "markdown",
   "metadata": {},
   "source": [
    "<h3 id=\"index\">Indexing (indexación)</h3>"
   ]
  },
  {
   "cell_type": "markdown",
   "metadata": {},
   "source": [
    "Se puede acceder a cada elemento de una lista mediante un índice. <br>\n",
    "La siguiente tabla representa la relación entre el índice y los elementos de la lista. <br>\n",
    "Cada elemento puede obtenerse mediante el nombre de la lista seguido de un <code>[]</code> con el número de índice:"
   ]
  },
  {
   "cell_type": "code",
   "execution_count": 20,
   "metadata": {},
   "outputs": [
    {
     "name": "stdout",
     "output_type": "stream",
     "text": [
      "('Tiziano', 'Borrelli', 'Lopez')\n"
     ]
    }
   ],
   "source": [
    "# Indexing\n",
    "print(lista_anidada[0])"
   ]
  },
  {
   "cell_type": "markdown",
   "metadata": {},
   "source": [
    "<h3 id=\"index\">Negative Indexing (indexación negativa)</h3>"
   ]
  },
  {
   "cell_type": "code",
   "execution_count": 21,
   "metadata": {},
   "outputs": [
    {
     "name": "stdout",
     "output_type": "stream",
     "text": [
      "40\n"
     ]
    }
   ],
   "source": [
    "# Indexing\n",
    "print(lista_anidada[-3])"
   ]
  },
  {
   "cell_type": "markdown",
   "metadata": {},
   "source": [
    "<h3 id=\"index\">Slicing</h3>"
   ]
  },
  {
   "cell_type": "markdown",
   "metadata": {},
   "source": [
    "También podemos realizar cortes en listas. Por ejemplo, si queremos los dos últimos elementos, utilizamos el siguiente comando:"
   ]
  },
  {
   "cell_type": "code",
   "execution_count": 22,
   "metadata": {},
   "outputs": [
    {
     "name": "stdout",
     "output_type": "stream",
     "text": [
      "(2.5, ('Italia', ('Via dei Faggi', 114, 'Roma'), 'Italy'))\n"
     ]
    }
   ],
   "source": [
    "print(lista_anidada[2:4])"
   ]
  },
  {
   "cell_type": "code",
   "execution_count": 23,
   "metadata": {},
   "outputs": [
    {
     "name": "stdout",
     "output_type": "stream",
     "text": [
      "('Via dei Faggi', 114)\n"
     ]
    }
   ],
   "source": [
    "print(lista_anidada[3][1][0:2])"
   ]
  },
  {
   "cell_type": "markdown",
   "metadata": {},
   "source": [
    "<h3 id=\"index\">Sorting</h3>"
   ]
  },
  {
   "cell_type": "code",
   "execution_count": 25,
   "metadata": {},
   "outputs": [
    {
     "data": {
      "text/plain": [
       "[0, 2, 5, 6, 6, 8, 9, 9, 10]"
      ]
     },
     "execution_count": 25,
     "metadata": {},
     "output_type": "execute_result"
    }
   ],
   "source": [
    "clasificaciones = [0, 9, 6, 5, 10, 8, 9, 6, 2]\n",
    "# Sort the list\n",
    "clasificaciones_ordenadas = sorted(clasificaciones)\n",
    "clasificaciones_ordenadas"
   ]
  },
  {
   "cell_type": "markdown",
   "metadata": {},
   "source": [
    "<hr>\n",
    "<h2 id=\"op\">Operaciones específicas de la <code>list</code> (lista)</h2>"
   ]
  },
  {
   "cell_type": "markdown",
   "metadata": {},
   "source": [
    "<h3>extend</h3>"
   ]
  },
  {
   "cell_type": "markdown",
   "metadata": {},
   "source": [
    "Podemos utilizar el método <code>extend</code> para añadir nuevos elementos a la lista:"
   ]
  },
  {
   "cell_type": "code",
   "execution_count": 31,
   "metadata": {},
   "outputs": [],
   "source": [
    "lista = [ \"Tiziano\", \"Borrelli\"]"
   ]
  },
  {
   "cell_type": "markdown",
   "metadata": {},
   "source": [
    "<img src=\"data:image/png;base64, iVBORw0KGgoAAAANSUhEUgAAA2kAAADVCAYAAADNaLg1AAAAAXNSR0IArs4c6QAAAARnQU1BAACxjwv8YQUAAAAJcEhZcwAADsMAAA7DAcdvqGQAABwvSURBVHhe7d19cF3lfSfwn/bP+o802cAysZ36TU6KvZma9RpH6g4JL24kEgolNVlwQ2AGaQA7EjNAcCYej8cM0DgzSMHASJ5JSmpoobBhwyKlBpwyrY3xsDjT2t7Ekmw3xtS1s7T84f3Xe865515dvdmSrJcj+fOZecbPee65zzm+V7rSV+c8z1NzLhEAAAAUwn/I/wUAAKAAhDQAAIACEdIAAAAKREgDAAAoECENAACgQIQ0AACAAhHSAAAACkRIAwAAKBAhDQAAoECENAAAgAIR0gAAAApESAMAACgQIQ0AAKBAhDQAAIACEdIAAAAKREgDAAAoECENAACgQIQ0AACAAhHSAAAACkRIAwAAKBAhDQAAoECENAAAgAIR0gAAAApESAMAACgQIQ0AAKBAhDQAAIACEdIAAAAKpOZcIq/DrFFTU5PXAABg8kxGnBLSmJXSkPa7X7kr3wIAgIn37z//8aSENLc7AgAAFIiQBgAAUCBCGgAAQIEIaQAwVotWx7pr87IobwOACSKkAcCYzI+tG5viqYeS8t/nxuGjeTMATBAhDQDG4Kq77o3185LKB6/Hdfe8Eu+XmgFgwghpADBq8+OWz/5L7Nr3emwQ0ACYJNZJY1ayThoAAJPNOmkAMN2u3RD/1v2jrLx31/y8cQKN2P/82Lp5Q7x41+q4Km+ZclXn9m+bV+eNIynA+QLMYEIaABTcus1bYv3qFbFmbVN0TkY4nGAz7XwBikZIA4CC2/n3B6Ivq52K7rdPZLUim2nnC1A0QhoAFN3up2Jlw93xyYbvxqaZMOX/TDtfgIIR0gDgIl1112P5eK3HYuuiZPvaDfFeefxW0vbitcPc8rdodby4o3+f984zfqu//x8lfeWNFfNj3V3Vx0vKjuSYw/Y33L4bYutw53cRRjrfcb1OYz3n5HXdurn/+BfcH6CAhDQAmEBL/+yxeOuhFbE43464ItY8dG8WSvolAe3ppliTrreWuSIWr23Knjc282Prji3x1Nrq4yXmJcdM+9txa1VQG2nfFbH+oS2TMxHKeYzudRrrOZde1/Wrr8i2+j44lf1b2n9w3wDFJaQBwIRJgsbqiF0vbY7r7t8cG/blzUl7wzX9geKqu26KNXk99nVm+1637fV8HNfoVRbWTn3wemxI+0nK9vJx590Y38mvZFXv25ec3yez2xH7z3Hx2qkMMaN9ncZ4ztf+18rrumvb3bHynu/GJ+8vv64D+wYoMiENACbQrm3fjdt+fCLeP3oidv5lf/Ba/Nm5eW1+3FJXutITcSA2bNmX7fv+7ldi5bYDeftoVPdzKrY//krsTPtJyqYtaZgpldt2p49X7ZuEuabk/Eqqz3FqQ8yYXqfRnvPupwb9vxNHTw7TN0CxCWkAMKXmxtLK1a8P43BeHbuqfuJf4tfnnaCjat95N0bnjsfivXLZeGPlVsJihZjxn/NVi1Zn49heTNdq23zTwFslAWYAIQ0AZroxhr3F866oKnljwY3qnBfdmk3G8tbTTdk4tjWrV5T2zx8GmCmENAC4lHzwelyX3xI4pGypDA4rllGd8/zYuvHGfDKWU7F9W2kM28p7OmNX9jjAzCGkAcCUOhlHPsir8/5L3DLuyTrO08+1GyrTz5emwK/e9zNxZV4ttrGec/VtpP87frrbItrAzCWkAcCUOhE/3ZtPDR9XxPo/Wx1XLZofV117a7w3pin4B/Wz8dZYl/aTrr9W6edUHDme/lu974p4anN5DbX5sW5z/3pio56Gf95N+XivgWVi1yKbmHMeMJMmwAwhpAHAFHv/xz/rvwVvdVO89fSWeOuhGyP2HajMRDga7//42dheudp0YzyV9pOuv5Y39b30bGzKJxQZsG96zCzkbImnVudtHxyItsoMihcwL51CvzTmq7o0/F7++AQZ2znvi9fKdz4mr8Vb6QLhyf5v1SWvQ94MMFMIaQAw5fbFbfd3xq5yAIlT2ZphK//yw3x7tE7Epns2x4aXknBX6SuRhJd0TNbKAaFrhH2TY/ela7Xd81TszFuKY2znvHNLukZc/9XF2Pd6ss/PhDRgxqk5l8jrMGvU1NTE737lrnwLAAAm3r///McxGXHKlTQAAIACEdIAAAAKREgDAAAoECENAACgQIQ0AACAAhHSAAAACmRCpuBPpzsHAAC41EzGFPwTFtJ23/zpfAum37Wv/jb+7sOz+RZMvy99Zo6vSQDGzc+RYkrfl8kIaW53BAAAKBAhDQAAoECENAAAgAKZ+pC24Pa4/Jq8LMjbAAAAyExxSFsRCx9sj2WtSfnTz8XZ43kzAAAAmSkNaXPWPRsL5iaVk8/E/vWbw/w0AAAAA01hSFsRl8/rizPvPhOHBDQAAIBhTWFIOxDHnrgjDj6xOU7nLQAAAAw0dSHtmufjyz89k5VV61bkjRNoxP5XxMJHno/l626POXnLdJpzzZZYvn1f5Vyzkmwvv2bFhJzf5Y+U+90XC03Mwjid3L0h7r9pTrZAY1Zuui5+sLsvfxRgovXFy1WfOT/YnTcDs0hfvLtj0O8Xn0l+v9ixK07me9BviicOmXqXP7IrFly9Ji67tT2WTUY4HLUVWYBa1XpfXDZ3cd6WS7Yva90Vq7Y/H5fnTTBdTu64Lu5Y96M49F7ekHpvX/yvdV+I+3cIasAEO7YrCWhfiO3VnznALJP+IeYL8Z3Ng36/iOT3i823xB03PS2oDTLrQ9rpd3bl49/64sw/HMhq0yENi8uuzjeSczmbjs1ra4njr5TPLzF3TSzbvqUQV/y4RB17Oh7bvC/fiFi27vuxft3qfCvi0OamePlYvgFwMdJw9vB18aX6WwQ0mOVO7miq+j5fHV9dd3dWluUt8d7D8Zg/BA8w60NavH1H7L/lsvjFLavj2HRN+b9gSyyoCmjHH1gd+9OxeW+/EMd2Juf3QEucyR+NuX9k/TimzbvPPhyH8vqyLf8YT3///vj699+K57eUg9q+2P7srrwOMH4n3/zz2L6z/Eeh1bFsZV4FZpm+eOe1/u/19Xveige//1RWnt55d94ecei1n7uaVmXaQ9qcdeXxWaUxVHOueT5WVcZrlcZqDbHg9li+vX+fVecZb9bf/5mkr7yxYkVcvq76eElJx4cN299w+z4fC4c7v0Hm/OEf9ff37g+HhsXjL8Tpd/N6LI7L/nBwn/mxK//n9Ngjnef5jL6foe9LOpau/3mrHik/Z/Drkr5n2QMV432PFz4yeOze6F5vxqsvTvwqryYfol++vv+23LnX/0n/X7t+1eNDFJg4K++OP09+afvm5/NtYJbpi+Plq2gr/yS+uDCvp679Wnw1r8Z7v4oP8ioFu5I25xtJ4GpdUxUY0rFazw6aACMJaE+2x2XpemuZxTHn1vbseWOzIhZu3xXLbq0+XiIdH5b2N+C2w5H2XRML0rFk5x3rloSY1f2/7J5554W8NtDpJ9KrfaWyf2f1bZlVx678nxPl80zC0uiMt5/k8QfT9yUdS5c3JeZcnY7xS4LUkNclfc9GnrRkLO/xgqtLr9vZk/nl7+z1HrwvE6fqQzSujPnVH6ILa6Oy6UMUmABzr++M5z88G3/3s6fi6urPG2CWWRMPpt/r2ff7/VH9a2gc64nKKIqVn495eZVChbTkl/WrkxDzyprY/8CaODTClaU5674dl+X1eLcl23d/2zNjXnetsrB26uQzcSjtJynHy8ede18szK8IVe97Njm/UpjqP8c5t442OPTF2X/Oq6M0/Hm2xPHypYwkLA29QjjUxfSThrozr5Re60Ov9N8vnIbjBXP74kzboL4GvWf9RvcexzU3Vt7jM21JaF2/On7xQPk9HqlvLlr1B+UQi2NB5Vakw3HCuDTgYi1cPPCXNeCSc/LN/9E/zOJrX/GZUKVQV9LOtK2OgzsPxNnjB+L0X/cHrznzfj+vVV+V2hWHnngh2/fs25uToDaWcTLV/fTF8R9sjtNpP0k5VnVF6+Db6eNV+6bhpnKVq/oczxccfn/glasxGek8X4hjP+h/fS770wtNNnJx/ZTel9JrfXrnvVVhLHkPbkkeezvv628u/B5c+D1OvH3HoPcgcfzX8f/y6oB9mRz+mgUATKbdG+KOymRld8c37yn/rkpqhk0cUhV4TvZWfsEfu+rg1JcEhrw6rKp9594Xy7bvi1Xl8uB9lVAzcnD4P3F23AN4znOeVaEl5i65QEibqH4u4J8v5j0Zas6C27PxbsvTde4e+Xb8Tt7OFHBLIwAwSbL1WNf9KN9KJxN5Kipz7JGZYSFtEowx7M2Zu7iq5I2jljzn9/LqYGkguSYvw906OeQ8xxn+JqqfybSgNEnJqifbs/Ful129Jn5nXvLa5Q8zSarHnQ1xnvFqAACjVFmPNdsqzfb4db9XDCGkjcXJZ/Lp/IcpTww/IUh2W+S+/nFcl31x+Ak6Lv9GEkhaS2XBqMZcVV8duxgT1c9EWRELHyxPUpIEg7bSGMD966uWKWCSnGfcmYG9AMBFygJa+RbHfGZXAW14MyykVV31uaj1xM7TzzXPV6Z8L02kUb3v+G4HPPsPf9t/9erqbw+dZGTQOmr9i26f5zwXfK7/9r8LXg2cqH6mQlVoPPm3cfrt6VuA/NKzOOZXpsDeF794s/+PC9UDe+PztQb2AgBj0BfvPlwd0L4fz5vZ9bxmWEirviq1OBZ84/aYs2BFtobX2KbgH9TPg1uS4JL0k66/VumnPBNj9b5rYln1+mCP9K/hdd5p+I9v7p81Mj3ek/ti1SPJMa+5PRama4w92T+2LQsmlTFjI59nerWp/Jwzf7O5Eq7OftC/fzqZyZwskI29n6IZMKsnk+bqe79fWQ/t0OYvxP0PPx0vV3+oprcl3DvW5S4Ahnfy2K54d3ep9K/TGHGsr9zeZ11GmPH64uWbvhDfqVq8fn1rbXyQf+9Xl5Nmj66Ycbc7nt35w/7b3q5uTwLOrmwNr3h315gCxtnqWQrTCUHSftL11/Kms6/cW1l0esC+6TGzYLYrlpWvfp3cFccHrG021Okn0inn+4PSnKuTY6a3NlavMZb0c2j9wKA00nlWptN/tyUqMyAmzp4oHyMJNrem+z4flyf1sfYzfaoW9k7Oc1W6WHkaglcn/4e8mUm08P747pbkxc4d2vlwbK98qEYs29LptgRgwnzw7C3xnXWlsr0y7jX9I1G5vc0kRjDT7W4b8P2d3q2zPf++H1z+SkirmIFj0l6Igw+0xJnKn9b6Sutu/XVvvj1aB+LY+nTdryTcVfpKpIErXfdrQOgaYd/0alu6Vtv6O+J03jKyA0lQW52t6XamvDhzWbKdrUM2bD8jnWf+nMFj4d6+I1uOYOB5psbYzzRKA+3xqkAb7z6TvDY/7J+Fkkk195634vmdd8eyyvi0xMrV8dWd/xhPmx4XAGDS1ZxL5PVxq6mpid03fzrfgul37au/zVa2h6L40mfm+JoEYNz8HCmm9H2ZgDg1hNkdAQAACkRIAwAAKBAhDQAAoECENAAAgAIR0gAAAApESAMAACiQCZuCHwAA4FIzGVPwT1hI+/jFrfkWTL9P3LZpUr5hYLzSz0lfkwCMl58jxTRZ74vbHQEAAApESAMAACgQIQ0AAKBAhDQAAIACEdIAAAAKREgDAAAoECENAACgQIQ0AACAAhHSCuDoL/9n3LBpU7YAc1Y2dUbLLz/KH+Xi9UZ7fU222OB5S317smeyd3t9tl3fnm6N3nifBwAA1YS0aXa0qzNWPP5e7D+SN6SOnIi/ePzJuKFLUJsoS9c2RVNTudRFXdaa/FtpS8rapVlrLF1e+nesxvs8AACoUnMukdfHLb168PGLW/MtRu3UO3FDS1fszzdXXd8Yt8Q/xcY3T+Qt8+Px9qa474p8k1FLr0iO/KXdHc01jdEZTdF1riMa8laYTOnn5AR83AJwifJzpJgm631xJW0avfFaVUC784F4454vxn33NMWBO+fnrSdi42s9eR0AALgUCGnT5qPo+U1ejflxy1WfyusRi676z7Eqr8dvfhtH8ypTpLt50Niy841pq4/KbkOeV5Y8v7k0Xq1c6uubo3vwbtXP7+2O5vqq5yT7jzTUrTd5Xn31+SXPax7SOQAAM4WQNm3+b/y6Mg7tP0Vt9S2NV3w6rsyrceR09OVVpsuSuPF7XdHVVV3a8nFty2PpkqwygjTg1UZrZ0RTW/7ctqaIvZ3RWJsEtXyvAQ5vi/raxjiY9F0eQ5fu3zrM/t3NNVHb2Bl7oynasr7bktre6GysjfrmYXsHAKDghLTpcuq3cTivDvUf43P5HBYR/xo9p/Iq02ZJQ0M0VJXaIy8lUSgJXl0XGNPW+3q8lE5Q0vZcdLTkz2/piOfa0ojXGa8Ok6P2dh6MtT3nYs+ejujoSMue6Epy3ZD9u5sjyWfpScS5ZN+WrO+W6NhzLtt/b2djyGkAADOPkFYESy+PxXmVGaC3Pe5sTSJaEo46LjTryJKWJGztiT0tAy+3Lclngjx4ZOhtiWmgG7R71F5Zum5XrfvVNKHVRdtDQ0+i4eYs1UXncCkQAIBCE9KKwC2NM0hvtN/Zmt1e2HXBhDZQb293dHcnpb05mh89mLeOTjnU9euNI1kXI9xu2XBzcoaJg0eSPQEAmEmEtOlSPe5siPOMV2Na9bbfGaWLaKOdur83uvNJQ2prG+PRR1+NV0e+zxUAAIS06XOecWfV49XcClkcY7nNMdfdXBuNnXujrq0nW0OjMs7sexa+BgBgeELatPlU1H42r8aJ+On7H+X1iKPv/1Nl/bT47KdjUV5lOo3nNsfyLYlN8b3Bg8wu2pIo3QF5MIYZ1pYc+kjySGL50mRPAABmEiFtGt3wtcbKemj7n3sybtjxTjyzozNWPHcib50fj3+tNq8zncZ+m+P59OaTflyc0uQge6N129DJQbq3pYEyOd+bL/5sAQCYWkLadLrii9Fx5/x8Iwlqb3bFxjfLAS1i1Z1fj/uMR5t+5dsc65riysgn/6guI87MUb7a1RmN9e2VSUPq62vj0YNDZ2scs4aO0tT8nY2lxa6z82mP5vqabGr+ujHclgkAQHEIadNsUWNTHNi4MlZVxqclls6Pb218IN5o/FTewLTqOZxdlcoWlG5sjMZB5dHXR54/saGjJwlS6WLUraX9X4pY+72e2DNBY9IaOs5FT5LU6pIgWDq31qRWF01dyTEkNACAGanmXDqbwUVKZ677+MWt+RZMv0/ctimbqAOKIv2c9DUJwHj5OVJMk/W+uJIGAABQIEIaAABAgQhpAAAABSKkAQAAFIiQBgAAUCBCGgAAQIFM2BT8AAAAl5rJmILfOmnMStZJo2isbwPAxfBzpJiskwYAAHAJENIAAAAKREgDAAAoECENAACgQIQ0AACAAhHSAAAACkRIAwAAKBAhDQAAoECEtML4KJ7ZtClbhDktLb/Mm5k4ve1RX1OTLTo4sNRHfXN7dPfm+xVdd3N23vXtg054hPbe9vrh9wcAoJCEtCI41ZMEtCdj45F8m0lWF01NTZVSV7c39na2RmNtfczKHLN0eV4BAGAmENKmUxrOdnTGJ1p+IqBNpbq18VBHR3TkZc+ec9HTVpc8sDdat3WX9plFljR0xLlz52JPy5K8BQCAIhPSptHR938RG988kW/Nj1VL8ypTbsmNayONaXHwSLgpEACA6SSkFcHSlfFye1M8/Nl8m8Lp7W6O+vqqcWz19dE83CC2fFxYc3f+nHTfdONCj2V6o7s9b8/LhIyVy49rTBoAwMwgpE2jRVd9PQ68uDU+3vrHccMVeSPTovf1l2Jv8m/d2htj8E2B3c01UdvYmTzeFG1dXdHV1pbU9kZnY20Sooa/PfLgo/Wl59TVRdOVtXlryUiPdTfXRmNrZ0RTW3Rlx2mKyMbKNcfwRwEAYDYS0qbTFZ+KRXmVKbT3pdjW3BzN5VKfhLDWvVHX1DV03FZ3cyR5KglOXXFuT0e0NDREQ0tLdOw5F11Jhtrb2ZhdGRtsb5L42nrOJc/ZEx2D+hz2sfw4dW09saejJRqy43TEnp62qIvOaBwhDAIAMPsIaVyC9kZnZ2d/SS+hpQ6+OuTWwu5X04RWF20PNZQaqjTcnKS0ROerQwNUXdtzMdI8HcM9Vj7O2hsHPbDkxlibDpYzVg4A4JIhpHHpqWuLnnPnshkPy6WndFls0K2FvXHkYPrv8lg6XOBquDmymHbRAap8nERPd3R3V5eeOJy27z0cPdkOAADMdkIaJNJp6p/LpuHvjEenbYKNvdHa2BiNg0rlSh8AAJcEIQ1y5Wn49x6ermtWTdE16Apff+mIoTdcAgAwGwlpUNZzOJvhsd+SWLo8/fdgHBnu4lrvkeSRxPKlQ2aEHJsLHAcAgEuKkDbNjp7qiTd+WSo9v8kbE4c/LLd/FEfzNiZTb7Q/mk7eEdF0c/81q9LkIHujddvQyUG6t7Vmoa56//EqH+el1wentOS86uujvr79Ise9AQAwUwhp06zvtZ/E1x8vlY1H8sbE/ufK7X8ffXkbE2TIFPz1UVNTG61p4qpriwETOTZ0ZFPtR2dj1NQ3R3s2mUd7Nm1/NmV+U1d0TMR9iPlx9rama6+155OGpMdJzys5ser122qvLN2W2XpnNLd3R285vY3UDgDAjCKkcQkaPAV/EoLShaXbuqJnT8uQWxcbOkqzP6brlZUm9mhNasn+XemaZhM3Uqyho6d/AevBx6mes39JSzyXnU/y/2htjG3lIXQjtQMAMKPUnEtnJbhINTU18fGLW/MtmH6fuG1TNuEGFEX6OelrEoDx8nOkmCbrfXElDQAAoECENAAAgAIR0gAAAApESAMAACgQIQ0AAKBAhDQAAIACmbAp+AEAAC41kzEFv3XSmJWsk0bRWN8GgIvh50gxWScNAADgEiCkAQAAFIiQBgAAUCBCGgAAQIEIaQAAAAUipAEAABSIkAYAAFAgQhoAAECBCGkAAAAFIqQBAAAUiJAGAABQIEIaAABAgQhpAAAABSKkAQAAFIiQBgAAUCBCGgAAQIEIaQAAAAUipAEAABSIkAYAAFAgQtqU+yiO/rIn3kjK0byl7OipUvsbp/KGslMf5e0f5Q0AAMBsVXMukdfHraamJj5+cWu+xfkc7eqMFc+dKG1c/834+J7aUv3UO3FDS1fszzZWxssv/nHckNV7ouW2n8RfZPWIb23cGu1/kG8wok/ctikm4EsbJkz6OelrEoDx8nOkmCbrfXElbYr1ncwDWuo3v+2/mnbqdB7QUv8aPYOvpuUOf+hqGgAAzGZC2hS74WuNsSqrzY9v3frFWJTVE3/w3+LxpaXqquu/HPddUapH1EbLnfNL1aUr4+HGT5XqAADArOR2R2YltztSNG5TAeBi+DlSTG53BAAAuAQIaQAAAAUipAEAABSIkAYAAFAgQhoAAECBCGkAAAAFMmFT8AMAAFxqJmMK/gkJaQAAAEwMtzsCAAAUiJAGAABQIEIaAABAgQhpAAAABSKkAQAAFIiQBgAAUCBCGgAAQIEIaQAAAAUipAEAABSIkAYAAFAgQhoAAECBCGkAAAAFIqQBAAAUiJAGAABQIEIaAABAgQhpAAAABSKkAQAAFIiQBgAAUCBCGgAAQIEIaQAAAAUipAEAABSIkAYAAFAgQhoAAEBhRPx/NjfquXRiI/oAAAAASUVORK5CYII=\" width=\"600\" align=\"center\" />"
   ]
  },
  {
   "cell_type": "code",
   "execution_count": 32,
   "metadata": {},
   "outputs": [
    {
     "data": {
      "text/plain": [
       "['Tiziano', 'Borrelli', 'profesor', 41]"
      ]
     },
     "execution_count": 32,
     "metadata": {},
     "output_type": "execute_result"
    }
   ],
   "source": [
    "# Usa extend para añadir nuevos elementos a la lista\n",
    "lista.extend(['profesor', 41])\n",
    "lista"
   ]
  },
  {
   "cell_type": "markdown",
   "metadata": {},
   "source": [
    "<h3>append</h3>"
   ]
  },
  {
   "cell_type": "markdown",
   "metadata": {},
   "source": [
    "<img src=\"data:image/png;base64, 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\" width=\"600\" align=\"center\" />"
   ]
  },
  {
   "cell_type": "markdown",
   "metadata": {},
   "source": [
    "Si aplicamos <code>append</code>en lugar de <code>extend</code>, añadimos un <b>solo</b> elemento a la lista consistente en una <code>nested list</code> (lista anidada):"
   ]
  },
  {
   "cell_type": "code",
   "execution_count": 33,
   "metadata": {},
   "outputs": [
    {
     "data": {
      "text/plain": [
       "['Tiziano', 'Borrelli', ['profesor', 41]]"
      ]
     },
     "execution_count": 33,
     "metadata": {},
     "output_type": "execute_result"
    }
   ],
   "source": [
    "lista = [ \"Tiziano\", \"Borrelli\"]\n",
    "# Usa extend para añadir nuevos elementos a la lista\n",
    "lista.append(['profesor', 41])\n",
    "lista"
   ]
  },
  {
   "cell_type": "markdown",
   "metadata": {},
   "source": [
    "<img src=\"data:image/png;base64, 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\"  align=\"center\" />"
   ]
  },
  {
   "cell_type": "code",
   "execution_count": 38,
   "metadata": {},
   "outputs": [
    {
     "name": "stdout",
     "output_type": "stream",
     "text": [
      "profesor\n"
     ]
    }
   ],
   "source": [
    "print(lista[2][0])"
   ]
  },
  {
   "cell_type": "code",
   "execution_count": 37,
   "metadata": {},
   "outputs": [
    {
     "name": "stdout",
     "output_type": "stream",
     "text": [
      "41\n"
     ]
    }
   ],
   "source": [
    "print(lista[2][1])"
   ]
  },
  {
   "cell_type": "markdown",
   "metadata": {},
   "source": [
    "<h3>cambios en la lista</h3>"
   ]
  },
  {
   "cell_type": "markdown",
   "metadata": {},
   "source": [
    "Como las listas son mutables, podemos modificarlas. Por ejemplo, podemos cambiar el primer elemento de la siguiente manera:"
   ]
  },
  {
   "cell_type": "code",
   "execution_count": 46,
   "metadata": {},
   "outputs": [
    {
     "name": "stdout",
     "output_type": "stream",
     "text": [
      "Antes del cambio: ['Tiziano', 'Borrelli']\n",
      "Después del cambio: ['Jack', 'Borrelli']\n"
     ]
    }
   ],
   "source": [
    "lista = [ \"Tiziano\", \"Borrelli\"]\n",
    "print('Antes del cambio:', lista)\n",
    "lista[0] = 'Jack'\n",
    "print('Después del cambio:', lista)"
   ]
  },
  {
   "cell_type": "markdown",
   "metadata": {},
   "source": [
    "<h3>del</h3>"
   ]
  },
  {
   "cell_type": "markdown",
   "metadata": {},
   "source": [
    "También podemos eliminar un elemento de una lista utilizando el comando <code>del</code>:"
   ]
  },
  {
   "cell_type": "code",
   "execution_count": 43,
   "metadata": {},
   "outputs": [
    {
     "name": "stdout",
     "output_type": "stream",
     "text": [
      "Antes del cambio: ['Tiziano', 'Borrelli']\n",
      "Después del cambio: ['Borrelli']\n"
     ]
    }
   ],
   "source": [
    "lista = [ \"Tiziano\", \"Borrelli\"]\n",
    "print('Antes del cambio:', lista)\n",
    "del(lista[0])\n",
    "print('Después del cambio:', lista)"
   ]
  },
  {
   "cell_type": "markdown",
   "metadata": {},
   "source": [
    "<h3>split</h3>"
   ]
  },
  {
   "cell_type": "markdown",
   "metadata": {},
   "source": [
    "Podemos convertir una <code>string</code> en una lista utilizando <code>split</code>. <br>\n",
    "Por ejemplo, el método <code>split</code>traduce cada grupo de caracteres separados por un espacio en un elemento de una lista:"
   ]
  },
  {
   "cell_type": "code",
   "execution_count": 44,
   "metadata": {},
   "outputs": [
    {
     "data": {
      "text/plain": [
       "['Tiziano', 'Borrelli']"
      ]
     },
     "execution_count": 44,
     "metadata": {},
     "output_type": "execute_result"
    }
   ],
   "source": [
    "'Tiziano Borrelli'.split()"
   ]
  },
  {
   "cell_type": "markdown",
   "metadata": {},
   "source": [
    "Podemos utilizar la función de división para separar cadenas en un carácter específico que llamamos **delimiter** (delimitador). <br>\n",
    "Pasamos el carácter sobre el que queremos dividir, por ejemplo: una coma. <br>\n",
    "El resultado es una lista, y cada elemento corresponde a un conjunto de caracteres que han sido separados por el carácter:"
   ]
  },
  {
   "cell_type": "code",
   "execution_count": 45,
   "metadata": {},
   "outputs": [
    {
     "data": {
      "text/plain": [
       "['A', 'B', 'C', 'D']"
      ]
     },
     "execution_count": 45,
     "metadata": {},
     "output_type": "execute_result"
    }
   ],
   "source": [
    "'A,B,C,D'.split(',')"
   ]
  },
  {
   "cell_type": "markdown",
   "metadata": {},
   "source": [
    "<h3>Copiar una lista</h3>"
   ]
  },
  {
   "cell_type": "markdown",
   "metadata": {},
   "source": [
    "Cuando establecemos una variable <b>B</b> igual a <b>A</b>, tanto <b>A</b> y <b>B</b> están haciendo referencia a la misma lista en memoria:"
   ]
  },
  {
   "cell_type": "code",
   "execution_count": 49,
   "metadata": {},
   "outputs": [],
   "source": [
    "lista_a = [\"Tiziano\", \"Borrelli\", \"Italia\"]"
   ]
  },
  {
   "cell_type": "markdown",
   "metadata": {},
   "source": [
    "<img src=\"data:image/png;base64, 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\"  align=\"center\" />"
   ]
  },
  {
   "cell_type": "code",
   "execution_count": 52,
   "metadata": {},
   "outputs": [],
   "source": [
    "lista_b = lista_a"
   ]
  },
  {
   "cell_type": "markdown",
   "metadata": {},
   "source": [
    "<img src=\"data:image/png;base64, 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\"  align=\"center\" />"
   ]
  },
  {
   "cell_type": "markdown",
   "metadata": {},
   "source": [
    "Inicialmente, el valor del primer elemento en <b>lista_b</b> se establece como \"Tiziano\". <br>\n",
    "Si cambiamos el primer elemento en <b>lista_a</b> a \"Jack\", obtenemos un efecto secundario inesperado. Como <b>lista_a</b> y <b>lista_b</b> hacen referencia a la misma lista, si cambiamos la lista <b>lista_a</b>, entonces la lista <b>lista_b</b> también cambia. Si marcamos el primer elemento de <b>lista_b</b> obtenemos \"Jack\" en lugar de \"Tiziano\":"
   ]
  },
  {
   "cell_type": "code",
   "execution_count": 54,
   "metadata": {},
   "outputs": [
    {
     "name": "stdout",
     "output_type": "stream",
     "text": [
      "lista_b[0]: Tiziano\n",
      "lista_b[0]: Jack\n"
     ]
    }
   ],
   "source": [
    "print('lista_b[0]:', lista_b[0])\n",
    "lista_a[0] = \"Jack\"\n",
    "print('lista_b[0]:', lista_b[0])"
   ]
  },
  {
   "cell_type": "markdown",
   "metadata": {},
   "source": [
    "Esto se demuestra en la siguiente figura:"
   ]
  },
  {
   "cell_type": "markdown",
   "metadata": {},
   "source": [
    "<img src=\"data:image/png;base64, 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\"  align=\"center\" />"
   ]
  },
  {
   "cell_type": "markdown",
   "metadata": {},
   "source": [
    "<h3>Clonar una lista</h3>"
   ]
  },
  {
   "cell_type": "markdown",
   "metadata": {},
   "source": [
    "Puedes clonar la lista **lista_a** utilizando la siguiente sintaxis:"
   ]
  },
  {
   "cell_type": "code",
   "execution_count": 57,
   "metadata": {},
   "outputs": [
    {
     "data": {
      "text/plain": [
       "['Tiziano', 'Borrelli', 'Italia']"
      ]
     },
     "execution_count": 57,
     "metadata": {},
     "output_type": "execute_result"
    }
   ],
   "source": [
    "lista_a = [\"Tiziano\", \"Borrelli\", \"Italia\"]\n",
    "lista_b = lista_a[:]\n",
    "lista_b"
   ]
  },
  {
   "cell_type": "markdown",
   "metadata": {},
   "source": [
    "La variable **lista_b** hace referencia a una nueva copia o clon de la lista original. <br>\n",
    "Esto se demuestra en la siguiente figura:"
   ]
  },
  {
   "cell_type": "markdown",
   "metadata": {},
   "source": [
    "<img src=\"data:image/png;base64, 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\"  align=\"center\" />"
   ]
  },
  {
   "cell_type": "markdown",
   "metadata": {},
   "source": [
    "Ahora si cambias <b>lista_a</b>, <b>lista_b</b> no cambiará:"
   ]
  },
  {
   "cell_type": "code",
   "execution_count": 60,
   "metadata": {},
   "outputs": [
    {
     "name": "stdout",
     "output_type": "stream",
     "text": [
      "lista_b[0]: Tiziano\n",
      "lista_a[0]: Jack / lista_b[0]: Tiziano\n"
     ]
    }
   ],
   "source": [
    "print('lista_b[0]:', lista_b[0])\n",
    "lista_a[0] = \"Jack\"\n",
    "print('lista_a[0]:', lista_a[0], \"/\", 'lista_b[0]:', lista_b[0])"
   ]
  },
  {
   "cell_type": "markdown",
   "metadata": {},
   "source": [
    "<h2 id=\"quiz\">Quiz on List</h2>\n"
   ]
  },
  {
   "cell_type": "markdown",
   "metadata": {},
   "source": [
    "Crea una lista <code>a_list</code>, con los siguientes elementos <code>1</code>, <code>Hola</code>, <code>[1,2,3]</code> y <code>True</code>."
   ]
  },
  {
   "cell_type": "code",
   "execution_count": 63,
   "metadata": {},
   "outputs": [],
   "source": [
    "# Escribe tu código y pulsa Shift+Enter para ejecutar"
   ]
  },
  {
   "cell_type": "markdown",
   "metadata": {},
   "source": [
    "<details><summary>Haz doble clic <b>aquí</b> para la solución.</summary>\n",
    "<b>\n",
    "    \n",
    "```python\n",
    "a_list = [1, 'Hola', [1, 2, 3] , True]\n",
    "a_list\n",
    "```\n",
    "\n",
    "</b>\n",
    "</details>"
   ]
  },
  {
   "cell_type": "markdown",
   "metadata": {},
   "source": [
    "Find the value stored at index 1 of <code>a_list</code>.\n"
   ]
  },
  {
   "cell_type": "code",
   "execution_count": 62,
   "metadata": {},
   "outputs": [],
   "source": [
    "# Escribe tu código y pulsa Shift+Enter para ejecutar"
   ]
  },
  {
   "cell_type": "markdown",
   "metadata": {},
   "source": [
    "<details><summary>Haz doble clic <b>aquí</b> para la solución.</summary>\n",
    "<b>\n",
    "    \n",
    "```python\n",
    "a_list[1]\n",
    "```\n",
    "\n",
    "</b>\n",
    "</details>"
   ]
  },
  {
   "cell_type": "markdown",
   "metadata": {},
   "source": [
    "Recupera los elementos almacenados en los índices 1, 2 y 3 de <code>a_list</code>"
   ]
  },
  {
   "cell_type": "code",
   "execution_count": null,
   "metadata": {},
   "outputs": [],
   "source": [
    "# Escribe tu código y pulsa Shift+Enter para ejecutar"
   ]
  },
  {
   "cell_type": "markdown",
   "metadata": {},
   "source": [
    "<details><summary>Haz doble clic <b>aquí</b> para la solución.</summary>\n",
    "<b>\n",
    "    \n",
    "```python\n",
    "a_list[1:4]\n",
    "```\n",
    "\n",
    "</b>\n",
    "</details>"
   ]
  },
  {
   "cell_type": "markdown",
   "metadata": {},
   "source": [
    "Concatena las siguientes listas <code>lista_a = [1, 'a']</code> y <code>lista_b = [2, 1, 'd']</code>:"
   ]
  },
  {
   "cell_type": "code",
   "execution_count": 64,
   "metadata": {},
   "outputs": [],
   "source": [
    "# Escribe tu código y pulsa Shift+Enter para ejecutar"
   ]
  },
  {
   "cell_type": "markdown",
   "metadata": {},
   "source": [
    "<details><summary>Haz doble clic <b>aquí</b> para la solución.</summary>\n",
    "<b>\n",
    "    \n",
    "```python\n",
    "lista_a = [1, 'a'] \n",
    "lista_b = [2, 1, 'd']\n",
    "lista_a + lista_b\n",
    "```\n",
    "\n",
    "</b>\n",
    "</details>\n"
   ]
  },
  {
   "cell_type": "code",
   "execution_count": null,
   "metadata": {},
   "outputs": [],
   "source": []
  }
 ],
 "metadata": {
  "kernelspec": {
   "display_name": "Python 3 (ipykernel)",
   "language": "python",
   "name": "python3"
  },
  "language_info": {
   "codemirror_mode": {
    "name": "ipython",
    "version": 3
   },
   "file_extension": ".py",
   "mimetype": "text/x-python",
   "name": "python",
   "nbconvert_exporter": "python",
   "pygments_lexer": "ipython3",
   "version": "3.12.4"
  }
 },
 "nbformat": 4,
 "nbformat_minor": 4
}
