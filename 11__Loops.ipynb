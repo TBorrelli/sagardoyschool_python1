{
 "cells": [
  {
   "cell_type": "markdown",
   "metadata": {},
   "source": [
    "<h1>Loops (Bucles)</h1>"
   ]
  },
  {
   "cell_type": "markdown",
   "metadata": {},
   "source": [
    "<h2 id=\"range\">Range</h2>"
   ]
  },
  {
   "cell_type": "markdown",
   "metadata": {},
   "source": [
    "A veces, es posible que desee repetir una operación determinada muchas veces. <br>\n",
    "Las ejecuciones repetidas de este tipo se realizan mediante <code>loop</code>(bucles). <br>\n",
    "Veremos dos tipos de bucles, <code>for</code> bucles y <code>while</code> bucles.<br>\n",
    "<br>\n",
    "Antes de hablar de los bucles vamos a hablar del objeto <code>range</code>. <br>\n",
    "Es útil pensar en el objeto range como una <u>lista ordenada</u>. <br>\n",
    "Por ahora, veamos el caso más sencillo. Si queremos generar un objeto que contenga elementos ordenados de 0 a 2 simplemente utilizamos el siguiente comando:\n"
   ]
  },
  {
   "cell_type": "code",
   "execution_count": 6,
   "metadata": {},
   "outputs": [
    {
     "name": "stdout",
     "output_type": "stream",
     "text": [
      "range(0, 3)\n"
     ]
    }
   ],
   "source": [
    "range(3)"
   ]
  },
  {
   "cell_type": "markdown",
   "metadata": {},
   "source": [
    "<h2><code>for</code> loop</h2>"
   ]
  },
  {
   "cell_type": "markdown",
   "metadata": {},
   "source": [
    "El bucle <code>for</code> te permite ejecutar un bloque de código varias veces. <br>\n",
    "Por ejemplo, lo utilizarías si quisieras imprimir cada elemento de una lista. <br>\n",
    "Intentemos utilizar un bucle <code>for</code> para imprimir todos los años presentados en la lista <code>fechas</code>:"
   ]
  },
  {
   "cell_type": "markdown",
   "metadata": {},
   "source": [
    "Esto puede hacerse de la siguiente manera:"
   ]
  },
  {
   "cell_type": "code",
   "execution_count": 12,
   "metadata": {},
   "outputs": [
    {
     "name": "stdout",
     "output_type": "stream",
     "text": [
      "1982\n",
      "1980\n",
      "1973\n"
     ]
    }
   ],
   "source": [
    "fechas = [1982,1980,1973]\n",
    "longitud_fechas = len(fechas) # igual a 3\n",
    "\n",
    "for índice in range(longitud_fechas):\n",
    "    print(fechas[índice]) "
   ]
  },
  {
   "cell_type": "markdown",
   "metadata": {},
   "source": [
    "El bloque de código indentado se ejecuta <code>longitud_fechas</code> veces, cada vez el valor de <code>índice </code> se incrementa en 1 por cada ejecución. <br>\n",
    "La declaración ejecutada es <code>print</code> de la lista <code>fechas</code> en el índice <code>índice</code> como se muestra aquí:"
   ]
  },
  {
   "cell_type": "markdown",
   "metadata": {},
   "source": [
    "<img src=\"data:image/png;base64, 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\" align=\"center\" />"
   ]
  },
  {
   "cell_type": "markdown",
   "metadata": {},
   "source": [
    "En este ejemplo podemos imprimir una secuencia de números del 0 al 7:"
   ]
  },
  {
   "cell_type": "markdown",
   "metadata": {},
   "source": [
    "<div class=\"alert alert-success alertsuccess\" style=\"margin-top: 20px\">\n",
    "[Consejo] En lugar de Indice es una práctica común usar la palabra <code>i</code> en los loops\n",
    "</div>"
   ]
  },
  {
   "cell_type": "code",
   "execution_count": null,
   "metadata": {},
   "outputs": [],
   "source": [
    "for i in range(0, 8):\n",
    "    print(i)"
   ]
  },
  {
   "cell_type": "markdown",
   "metadata": {},
   "source": [
    "En Python podemos acceder directamente a los elementos de la lista de la siguiente manera:"
   ]
  },
  {
   "cell_type": "code",
   "execution_count": 13,
   "metadata": {},
   "outputs": [
    {
     "name": "stdout",
     "output_type": "stream",
     "text": [
      "1982\n",
      "1980\n",
      "1973\n"
     ]
    }
   ],
   "source": [
    "for año in fechas:  \n",
    "    print(año)   "
   ]
  },
  {
   "cell_type": "markdown",
   "metadata": {},
   "source": [
    "En cada iteración, el valor de la variable <code>año</code> se comporta como el valor de <code>fechas[índice]</code> en el primer ejemplo:"
   ]
  },
  {
   "cell_type": "markdown",
   "metadata": {},
   "source": [
    "Podemos cambiar los elementos de una lista:"
   ]
  },
  {
   "cell_type": "markdown",
   "metadata": {},
   "source": [
    "<div class=\"alert alert-success alertsuccess\" style=\"margin-top: 20px\">\n",
    "[Consejo] Recuerdas que la <code>list</code> (lista) es mutable y la <code>tuple</code> (tupla) no\n",
    "</div>"
   ]
  },
  {
   "cell_type": "code",
   "execution_count": 16,
   "metadata": {},
   "outputs": [
    {
     "name": "stdout",
     "output_type": "stream",
     "text": [
      "Antes el color del cuadrado 0 es rojo\n",
      "Después el color del cuadrado 0 es blanco\n",
      "Antes el color del cuadrado 1 es amarillo\n",
      "Después el color del cuadrado 1 es blanco\n",
      "Antes el color del cuadrado 2 es verde\n",
      "Después el color del cuadrado 2 es blanco\n",
      "Antes el color del cuadrado 3 es morado\n",
      "Después el color del cuadrado 3 es blanco\n",
      "Antes el color del cuadrado 4 es azul\n",
      "Después el color del cuadrado 4 es blanco\n"
     ]
    }
   ],
   "source": [
    "cuadrados = ['rojo', 'amarillo', 'verde', 'morado', 'azul']\n",
    "for i in range(0, 5):\n",
    "    print(\"Antes el color del cuadrado\", i, 'es', cuadrados[i])\n",
    "    cuadrados[i] = 'blanco'\n",
    "    print(\"Después el color del cuadrado\", i, 'es', cuadrados[i])\n"
   ]
  },
  {
   "cell_type": "markdown",
   "metadata": {},
   "source": [
    "Podemos acceder al índice y a los elementos de una lista de la siguiente manera:"
   ]
  },
  {
   "cell_type": "code",
   "execution_count": 17,
   "metadata": {},
   "outputs": [
    {
     "name": "stdout",
     "output_type": "stream",
     "text": [
      "0 rojo\n",
      "1 amarillo\n",
      "2 verde\n",
      "3 morado\n",
      "4 azul\n"
     ]
    }
   ],
   "source": [
    "cuadrados = ['rojo', 'amarillo', 'verde', 'morado', 'azul']\n",
    "for i, cuadrados in enumerate(cuadrados):\n",
    "    print(i, cuadrados)"
   ]
  },
  {
   "cell_type": "markdown",
   "metadata": {},
   "source": [
    "<h2><code>while</code> loop</h2>"
   ]
  },
  {
   "cell_type": "markdown",
   "metadata": {},
   "source": [
    "Como puedes ver, el bucle <code>for</code> se utiliza para un flujo controlado de repetición. <br>\n",
    "Sin embargo, ¿qué pasa si no sabemos cuándo queremos detener el bucle? <br>\n",
    "Y si queremos seguir ejecutando un bloque de código hasta que se cumpla una determinada condición? <br>\n",
    "El bucle <code>while</code> bucle existe como una herramienta para la ejecución repetida basada en una condición. <br>\n",
    "El bloque de código seguirá ejecutándose hasta que la condición lógica dada devuelva un **Falso** valor booleano."
   ]
  },
  {
   "cell_type": "markdown",
   "metadata": {},
   "source": [
    "#### Así funciona un bucle while:\n",
    "\n",
    "1. En primer lugar, se especifica una condición que el bucle comprobará antes de cada iteración (repetición) del bloque de código.\n",
    "2. Si la condición es inicialmente verdadera, se ejecuta el bloque de código.\n",
    "3. Después de ejecutar el bloque de código, se comprueba de nuevo la condición.\n",
    "4. Si la condición sigue siendo verdadera, se ejecuta de nuevo el bloque de código.\n",
    "5. Los pasos 3 y 4 se repiten hasta que la condición se convierte en falsa.\n",
    "6. Una vez que la condición se convierte en falsa, el bucle se detiene, y el programa continúa con la siguiente línea de código después del bucle."
   ]
  },
  {
   "cell_type": "markdown",
   "metadata": {},
   "source": [
    "**Aquí tienes un ejemplo de bucle while que imprime números del 1 al 5:**"
   ]
  },
  {
   "cell_type": "code",
   "execution_count": 18,
   "metadata": {},
   "outputs": [
    {
     "name": "stdout",
     "output_type": "stream",
     "text": [
      "1\n",
      "2\n",
      "3\n",
      "4\n",
      "5\n"
     ]
    }
   ],
   "source": [
    "índice = 1\n",
    "while índice <= 5:\n",
    "    print(índice)\n",
    "    índice += 1"
   ]
  },
  {
   "cell_type": "markdown",
   "metadata": {},
   "source": [
    "En este ejemplo, la condición **cuenta <= 5** se comprueba antes de cada iteración. <br>\n",
    "Mientras <code>índice</code> sea menor o igual que 5, se ejecuta el bloque de código dentro del bucle. <br>\n",
    "Después de cada iteración, el valor de count se incrementa en 1 utilizando <code>índice += 1</code>. <br>\n",
    "Una vez que la cuenta llega a 6, la condición se convierte en <code>False</code> (falsa), y el bucle se detiene."
   ]
  },
  {
   "cell_type": "markdown",
   "metadata": {},
   "source": [
    "Digamos que nos gustaría iterar a través de la lista <code>fechas</code> y detenerse en el año 1973, luego imprimir el número de iteraciones. <br>\n",
    "Esto se puede hacer con el siguiente bloque de código:"
   ]
  },
  {
   "cell_type": "code",
   "execution_count": 19,
   "metadata": {},
   "outputs": [
    {
     "name": "stdout",
     "output_type": "stream",
     "text": [
      "1982\n",
      "1980\n",
      "Se han necesitado  2 repeticiones para salir del bucle.\n"
     ]
    }
   ],
   "source": [
    "fechas = [1982, 1980, 1973, 2000]\n",
    "i = 0\n",
    "año =fechas[0]\n",
    "while(año != 1973):    \n",
    "    print(año)\n",
    "    i = i + 1\n",
    "    año = fechas[i]\n",
    "    \n",
    "\n",
    "print(\"Se han necesitado \", i , \"repeticiones para salir del bucle.\")"
   ]
  },
  {
   "cell_type": "markdown",
   "metadata": {},
   "source": [
    "<div class=\"alert alert-success alertsuccess\" style=\"margin-top: 20px\">\n",
    "[Consejo] La principal diferencia entre un bucle while y un bucle for en Python es cómo controlan el flujo de ejecución y manejan las iteraciones.\n",
    "</div>\n",
    "\n"
   ]
  },
  {
   "cell_type": "markdown",
   "metadata": {},
   "source": [
    "### Punto clave del bucle While:\n",
    "\n",
    "1. Un bucle while ejecuta repetidamente un bloque de código mientras una condición dada sea verdadera.\n",
    "2. No tiene un número fijo de iteraciones sino que continúa ejecutándose hasta que la condición sea falsa.\n",
    "3. La condición se comprueba antes de cada iteración, y si es falsa inicialmente, el bloque de código se omite por completo.\n",
    "4. La condición se basa típicamente en una variable o expresión que puede cambiar durante la ejecución del bucle.\n",
    "5. Proporciona más flexibilidad a la hora de controlar la ejecución del bucle basándose en condiciones dinámicas."
   ]
  },
  {
   "cell_type": "markdown",
   "metadata": {},
   "source": [
    "### Punto clave del bucle For:\n",
    "\n",
    "1. Un bucle for itera sobre una secuencia (como una lista, cadena o rango) o cualquier objeto que admita iteración.\n",
    "2. Tiene un número predefinido de iteraciones basado en la longitud de la secuencia o el número de elementos sobre los que iterar.\n",
    "3. Maneja automáticamente la iteración y no requiere mantener una variable separada para el seguimiento del recuento de iteraciones.\n",
    "4. Simplifica el código encapsulando la lógica de iteración dentro del propio bucle.\n",
    "5. Se suele utilizar cuando se conoce el número exacto de iteraciones o se necesita iterar sobre cada elemento de una colección.\n",
    "\n"
   ]
  },
  {
   "cell_type": "markdown",
   "metadata": {},
   "source": [
    "<hr>\n"
   ]
  },
  {
   "cell_type": "markdown",
   "metadata": {},
   "source": [
    "<h2>Ejercicios sobre bucles</h2>."
   ]
  },
  {
   "cell_type": "markdown",
   "metadata": {},
   "source": [
    "Escribe un bucle <code>for</code> que imprime todo el elemento entre <b>-5</b> y <b>5</b> (no incluido) utilizando la función rango."
   ]
  },
  {
   "cell_type": "code",
   "execution_count": 22,
   "metadata": {},
   "outputs": [],
   "source": [
    "# Escribe tu código y pulsa Shift+Enter para ejecutar"
   ]
  },
  {
   "cell_type": "markdown",
   "metadata": {},
   "source": [
    "<details><summary>Haz doble clic <b>aquí</b> para la solución.</summary>\n",
    "<b>\n",
    "\n",
    "```python\n",
    "for i in range(-4, 5):\n",
    "    print(i)\n",
    "    \n",
    "```\n",
    "\n",
    "</b>\n",
    "</details>"
   ]
  },
  {
   "cell_type": "markdown",
   "metadata": {},
   "source": [
    "Imprime los elementos de la siguiente lista:\n",
    "<code>alumnos=[ 'Felipe', 'Juan', 'Sonia', 'Paloma', 'Katia', 'Jorge']</code><br>\n",
    "Asegúrate de seguir las convenciones de Python.\n",
    "\n"
   ]
  },
  {
   "cell_type": "code",
   "execution_count": 24,
   "metadata": {},
   "outputs": [],
   "source": [
    "# Escribe tu código y pulsa Shift+Enter para ejecutar"
   ]
  },
  {
   "cell_type": "markdown",
   "metadata": {},
   "source": [
    "<details><summary>Haz doble clic <b>aquí</b> para la solución.</summary>\n",
    "<b>\n",
    "\n",
    "```python\n",
    "alumnos=[ 'Felipe', 'Juan', 'Sonia', 'Paloma', 'Katia', 'Jorge']\n",
    "for alumno in alumnos:\n",
    "    print(alumno)\n",
    "    \n",
    "```\n",
    "\n",
    "</b>\n",
    "</details>\n"
   ]
  },
  {
   "cell_type": "markdown",
   "metadata": {},
   "source": [
    "<hr>\n"
   ]
  },
  {
   "cell_type": "markdown",
   "metadata": {},
   "source": [
    "Escribe un bucle <code>for</code> que imprima la siguiente lista: <code>colores=['rojo', 'amarillo', 'verde', 'morado', 'azul']</code>"
   ]
  },
  {
   "cell_type": "code",
   "execution_count": 25,
   "metadata": {},
   "outputs": [],
   "source": [
    "# Escribe tu código y pulsa Shift+Enter para ejecutar"
   ]
  },
  {
   "cell_type": "markdown",
   "metadata": {},
   "source": [
    "<details><summary>Haz doble clic <b>aquí</b> para la solución.</summary>\n",
    "<b>\n",
    "\n",
    "```python\n",
    "colores=['rojo', 'amarillo', 'verde', 'morado', 'azul']\n",
    "for color in colores:\n",
    "    print(color)\n",
    "    \n",
    "```\n",
    "\n",
    "</b>\n",
    "</details>\n"
   ]
  },
  {
   "cell_type": "markdown",
   "metadata": {},
   "source": [
    "<hr>\n"
   ]
  },
  {
   "cell_type": "markdown",
   "metadata": {},
   "source": [
    "Escribe un bucle <code>while</code> para mostrar los valores de los votos de una clase almacenada en la lista <code>votos_clase</code> <br>\n",
    "Si la puntuación es menor que 6, sale del bucle. <br>\n",
    "La lista <code>votos_clase</code> es la siguiente <code>votos_clase = [10, 9.5, 10, 8, 7,5, 5, 10, 10]</code>"
   ]
  },
  {
   "cell_type": "code",
   "execution_count": 26,
   "metadata": {},
   "outputs": [],
   "source": [
    "# Escribe tu código y pulsa Shift+Enter para ejecutar"
   ]
  },
  {
   "cell_type": "markdown",
   "metadata": {},
   "source": [
    "<details><summary>Haz doble clic <b>aquí</b> para la solución.</summary>\n",
    "<b>\n",
    "\n",
    "```python\n",
    "votos_clase = [10, 9.5, 10, 8, 7.5, 5, 10, 10]\n",
    "i = 0\n",
    "voto = votos_clase[0]\n",
    "while(i < len(votos_clase) and voto >= 6):\n",
    "    print(voto)\n",
    "    i = i + 1 \n",
    "    rating = votos_clase[i]  \n",
    "    \n",
    "```\n",
    "\n",
    "</b>\n",
    "</details>\n"
   ]
  },
  {
   "cell_type": "markdown",
   "metadata": {},
   "source": [
    "Escribe un bucle <code>while</code> para copiar la <code>string</code> <code>'naranja'</code>de la lista <code>colores</code> a la lista <code>nuevo_colores</code><br>\n",
    "Detener y salir del bucle si el valor de la lista no es <code>'naranja'</code>:"
   ]
  },
  {
   "cell_type": "code",
   "execution_count": 27,
   "metadata": {},
   "outputs": [],
   "source": [
    "# Escribe tu código y pulsa Shift+Enter para ejecutar\n",
    "colores = ['naranja', 'naranja', 'purple', 'blue', 'orange']\n",
    "nuevo_colores = []"
   ]
  },
  {
   "cell_type": "markdown",
   "metadata": {},
   "source": [
    "<details><summary>Haga clic <b>aquí</b> para un consejo</summary>\n",
    "\n",
    "\n",
    "Recuerda que para añadir un elemento a una lista se utiliza el método: <code>append()</code>\n",
    "\n",
    "\n",
    "</details>\n",
    "\n"
   ]
  },
  {
   "cell_type": "markdown",
   "metadata": {},
   "source": [
    "<details><summary>Haz doble clic <b>aquí</b> para la solución.</summary>\n",
    "<b>\n",
    "\n",
    "```python\n",
    "colores = ['naranja', 'naranja', 'purple', 'blue', 'orange']\n",
    "nuevo_colores = []\n",
    "i = 0\n",
    "while(i < len(colores) and colores[i] == 'naranja'):\n",
    "    nuevo_colores.append(colores[i])\n",
    "    i = i + 1\n",
    "print (nuevo_colores)\n",
    "    \n",
    "```\n",
    "\n",
    "</b>\n",
    "</details>\n"
   ]
  },
  {
   "cell_type": "markdown",
   "metadata": {},
   "source": [
    "### ¡Algunos problemas de la vida real!"
   ]
  },
  {
   "cell_type": "markdown",
   "metadata": {},
   "source": [
    "Tu hermano pequeño acaba de aprender las tablas de multiplicar en el colegio. <br>\n",
    "Hoy ha aprendido las tablas del 6 y del 7. <br>\n",
    "Ayúdale a memorizar las dos tablas imprimiéndolas con el bucle <code>for</code>"
   ]
  },
  {
   "cell_type": "code",
   "execution_count": null,
   "metadata": {},
   "outputs": [],
   "source": [
    "# Escribe tu código y pulsa Shift+Enter para ejecutar"
   ]
  },
  {
   "cell_type": "markdown",
   "metadata": {},
   "source": [
    "<details><summary>Haz doble clic <b>aquí</b> para la solución.</summary>\n",
    "<b>\n",
    "\n",
    "```python\n",
    "print(\"Tabla de multiplicar del 6:\")\n",
    "for i in range (10):\n",
    "    print(\"6*\",i,\"=\",6*i)\n",
    "print(\"Tabla de multiplicar del 7:\")\n",
    "for i in range (10):\n",
    "    print(\"7*\",i,\"=\",7*i)\n",
    "    \n",
    "```\n",
    "\n",
    "</b>\n",
    "</details>\n"
   ]
  },
  {
   "cell_type": "markdown",
   "metadata": {},
   "source": [
    "<hr>\n"
   ]
  },
  {
   "cell_type": "markdown",
   "metadata": {},
   "source": [
    "La siguiente es una lista de los animales de un Zoo Nacional.\n",
    "<code>animales = [\"león\", \"jirafa\", \"gorila\", \"loros\", \"cocodrilo\", \"ciervo\", \"cisne\"]</code>\n",
    "\n",
    "Tu hermano tiene que escribir una redacción sobre los animales cuyos nombres están formados por 6 letras.<br>\n",
    "Ayúdale a encontrar a esos animales a través de un bucle <code>while</code> y crear una lista separada de dichos animales."
   ]
  },
  {
   "cell_type": "code",
   "execution_count": 28,
   "metadata": {},
   "outputs": [],
   "source": [
    "# Escribe tu código y pulsa Shift+Enter para ejecutar"
   ]
  },
  {
   "cell_type": "markdown",
   "metadata": {},
   "source": [
    "<details><summary>Click here for the solution</summary>\n",
    "\n",
    "```python\n",
    "\n",
    "animales = [\"león\", \"jirafa\", \"gorila\", \"loros\", \"cocodrilo\", \"ciervo\", \"cisne\"]\n",
    "animales_6_letras = []\n",
    "i=0\n",
    "while i<len(animales):\n",
    "    j=animales[i]\n",
    "    if(len(j)==6):\n",
    "        animales_6_letras.append(j)\n",
    "    i=i+1\n",
    "print(animales_6_letras)\n",
    "    \n",
    "```\n",
    "\n",
    "</details>\n"
   ]
  }
 ],
 "metadata": {
  "kernelspec": {
   "display_name": "Python 3 (ipykernel)",
   "language": "python",
   "name": "python3"
  },
  "language_info": {
   "codemirror_mode": {
    "name": "ipython",
    "version": 3
   },
   "file_extension": ".py",
   "mimetype": "text/x-python",
   "name": "python",
   "nbconvert_exporter": "python",
   "pygments_lexer": "ipython3",
   "version": "3.12.4"
  }
 },
 "nbformat": 4,
 "nbformat_minor": 4
}
