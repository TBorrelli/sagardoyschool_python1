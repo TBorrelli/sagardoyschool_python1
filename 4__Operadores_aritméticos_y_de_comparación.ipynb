{
 "cells": [
  {
   "cell_type": "markdown",
   "id": "166bf3ba-1898-4d3d-9edb-d3fc2ae64921",
   "metadata": {},
   "source": [
    "# Operadores aritméticos"
   ]
  },
  {
   "cell_type": "markdown",
   "id": "66a6f537-5d24-4459-a385-e51992db8584",
   "metadata": {},
   "source": [
    "Inicializa dos variables, <code>num1</code> y <code>num2</code>, con los valores <code>10</code> y <code>3</code> respectivamente, que representan dos operandos numéricos."
   ]
  },
  {
   "cell_type": "code",
   "execution_count": 1,
   "id": "deec53ff-ca90-4b26-86ba-6546e1b181f6",
   "metadata": {},
   "outputs": [],
   "source": [
    "num1 = 10 \n",
    "num2 = 3 "
   ]
  },
  {
   "cell_type": "markdown",
   "id": "385d4d8d-3526-421b-b96b-acdbe51daf2b",
   "metadata": {},
   "source": [
    "A continuación, se realizan operaciones aritméticas utilizando estos operandos:<br>\n",
    "<br>\n",
    "<b>add_result</b> almacena el resultado de sumar <code>num1</code> y <code>num2</code><br>\n",
    "<b>sub_resultado</b> almacena el resultado de substracción <code>num1</code> y <code>num2</code><br>\n",
    "<b>mul_result</b> almacena el resultado de multiplicar <code>num1</code> y <code>num2</code><br>\n",
    "<b>div_result</b> almacena el resultado de dividir <code>num1</code> y <code>num2</code><br>\n",
    "<b>mod_result</b> almacena el resultado de dividir <code>num1</code> y <code>num2</code><br>\n",
    "<b>exp_resultado</b> almacena el resultado de elevar <code>num1</code> a la potencia de <code>num2</code>."
   ]
  },
  {
   "cell_type": "code",
   "execution_count": 4,
   "id": "8bbf6536-dec0-47e1-bfee-6f512112d420",
   "metadata": {},
   "outputs": [],
   "source": [
    "suma_resultado = num1 + num2 \n",
    "sub_resultado = num1 - num2 \n",
    "mul_resultado = num1 * num2 \n",
    "div_resultado = num1 / num2 \n",
    "mod_resultado = num1 % num2 \n",
    "exp_resultado = num1 ** num2 "
   ]
  },
  {
   "cell_type": "markdown",
   "id": "dc7b1901-7f02-44f9-bc64-3d46f68de166",
   "metadata": {},
   "source": [
    "Por último, los resultados de estas operaciones aritméticas se imprimen mediante <code>print()</code>, cada una etiquetada adecuadamente, como \"Suma:\", \"Substracción:\", etc., seguidas del resultado correspondiente."
   ]
  },
  {
   "cell_type": "code",
   "execution_count": 5,
   "id": "fab830a6-35dc-49bf-9448-680f86655a56",
   "metadata": {},
   "outputs": [
    {
     "name": "stdout",
     "output_type": "stream",
     "text": [
      "Suma: 13\n",
      "Substracción: 7\n",
      "Multiplicación: 30\n",
      "División: 3.3333333333333335\n",
      "Módulo: 1\n",
      "Exponenciación: 1000\n"
     ]
    }
   ],
   "source": [
    "print(\"Suma:\", suma_resultado) \n",
    "print(\"Substracción:\", sub_resultado)\n",
    "print(\"Multiplicación:\", mul_resultado) \n",
    "print(\"División:\", div_resultado) \n",
    "print(\"Módulo:\", mod_resultado) \n",
    "print(\"Exponenciación:\", exp_resultado)  "
   ]
  },
  {
   "cell_type": "markdown",
   "id": "0e96e345-cbf1-492f-884f-ff99e175116f",
   "metadata": {},
   "source": [
    "<hr>\n",
    "<h2 id=\"index\">Operadores de comparación</h2>"
   ]
  },
  {
   "cell_type": "markdown",
   "id": "f709243b-ecfc-4ad4-9c80-762abb0d6ee4",
   "metadata": {},
   "source": [
    "La variable <code>edad</code> se inicializa con el valor <code>40</code>, que representa la edad de la persona."
   ]
  },
  {
   "cell_type": "code",
   "execution_count": 7,
   "id": "04466df2-16dd-4116-bf97-72dc83267c44",
   "metadata": {},
   "outputs": [],
   "source": [
    "edad = 40"
   ]
  },
  {
   "cell_type": "markdown",
   "id": "e482873a-b19f-4ef6-b7be-ef163a355070",
   "metadata": {},
   "source": [
    "A continuación, se utiliza el operador de comparación <code>>=</code> para evaluar si la edad es mayor o igual que <code>18</code> años.<br>\n",
    "El resultado de esta comparación determina el valor booleano almacenado en la variable <code>es_adulto</code>. <br>\n",
    "Si la edad es igual o superior a <code>18</code> años, <code>es_adulto</code> será <code>True</code>, indicando la mayoría de edad.<br>\n",
    "<br>\n",
    "A continuación se utiliza el operador lógico y para combinar dos operaciones de comparación. <br>\n",
    "La primera comparación, <code>edad >= 13</code>, comprueba si la edad es de  <code>13</code> años o más. <br>\n",
    "La segunda comparación, <code>edad < 18</code>, garantiza que la edad es inferior a <code>18</code> años. <br>\n",
    "Si ambas condiciones son verdaderas,<code>es_adolescente</code> será  <code>True</code>, lo que significa adolescencia.\n",
    "\n"
   ]
  },
  {
   "cell_type": "code",
   "execution_count": 9,
   "id": "5d2a81fd-efae-43e1-9e55-fac9921857ae",
   "metadata": {},
   "outputs": [
    {
     "name": "stdout",
     "output_type": "stream",
     "text": [
      "¿Es adulto? True\n",
      "¿Es adolescente? False\n"
     ]
    }
   ],
   "source": [
    "es_adulto = edad >= 18\n",
    "es_adolescente = edad >= 13 and edad < 18\n",
    "print(\"¿Es adulto?\", es_adulto)\n",
    "print(\"¿Es adolescente?\", es_adolescente)     "
   ]
  },
  {
   "cell_type": "markdown",
   "id": "39ae4a28-f8d8-44cd-8fb3-f3c70a938aba",
   "metadata": {},
   "source": [
    "La variable <code>rol</code> se inicializa con el valor <code>'profesor'</code>, que representa que la persona es un profesor"
   ]
  },
  {
   "cell_type": "code",
   "execution_count": 10,
   "id": "429d73f0-8f84-4b02-8e0f-c6fff37d5afb",
   "metadata": {},
   "outputs": [],
   "source": [
    "rol = 'profesor'"
   ]
  },
  {
   "cell_type": "markdown",
   "id": "6d21117c-7a86-44fc-a19c-fcb1347cc2d8",
   "metadata": {},
   "source": [
    "A continuación comparamos el rol de la persona, en caso de que el <code>rol == 'estudiante'</code>\n",
    "si la condicione es verdadera,<code>es_estudiante</code> será <code>True</code> en caso contrario <code>False</code>"
   ]
  },
  {
   "cell_type": "code",
   "execution_count": 11,
   "id": "a3e6680f-5d49-4e9d-b6b0-e5cecf49cb4e",
   "metadata": {},
   "outputs": [
    {
     "name": "stdout",
     "output_type": "stream",
     "text": [
      "¿Es Estudiante? False\n"
     ]
    }
   ],
   "source": [
    "es_estudiante = rol == 'estudiante'\n",
    "print(\"¿Es Estudiante?\", es_estudiante)"
   ]
  },
  {
   "cell_type": "code",
   "execution_count": null,
   "id": "b8883084-c1c9-463a-9aba-45f1f82f88c2",
   "metadata": {},
   "outputs": [],
   "source": []
  }
 ],
 "metadata": {
  "kernelspec": {
   "display_name": "Python 3 (ipykernel)",
   "language": "python",
   "name": "python3"
  },
  "language_info": {
   "codemirror_mode": {
    "name": "ipython",
    "version": 3
   },
   "file_extension": ".py",
   "mimetype": "text/x-python",
   "name": "python",
   "nbconvert_exporter": "python",
   "pygments_lexer": "ipython3",
   "version": "3.12.4"
  }
 },
 "nbformat": 4,
 "nbformat_minor": 5
}
