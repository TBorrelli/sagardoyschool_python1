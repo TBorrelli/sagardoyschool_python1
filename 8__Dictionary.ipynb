{
 "cells": [
  {
   "cell_type": "markdown",
   "metadata": {},
   "source": [
    "<h1>Dictionaries</h1>\n"
   ]
  },
  {
   "cell_type": "markdown",
   "metadata": {},
   "source": [
    "<h2>¿Qué son los dictionaries (diccionarios)?</h2>"
   ]
  },
  {
   "cell_type": "markdown",
   "metadata": {},
   "source": [
    "Un diccionario consta de claves y valores. <br>\n",
    "Resulta útil comparar un <code>dictionary</code> (diccionario) con una <code>list</code> (lista). <br>\n",
    "En lugar de estar indexados numéricamente como una lista, los diccionarios tienen claves. <br>\n",
    "Estas claves son las que se utilizan para acceder a los valores dentro de un diccionario."
   ]
  },
  {
   "cell_type": "markdown",
   "metadata": {},
   "source": [
    "Un ejemplo de comparación entre lista y diccionario:"
   ]
  },
  {
   "cell_type": "code",
   "execution_count": 4,
   "metadata": {},
   "outputs": [
    {
     "name": "stdout",
     "output_type": "stream",
     "text": [
      "['Tiziano', 'Borrelli', 'Italia']\n",
      "{'nombre': 'Tiziano', 'apellido': 'Borrelli', 'estado': 'Italia'}\n"
     ]
    }
   ],
   "source": [
    "lista_a = [\"Tiziano\", \"Borrelli\",\"Italia\"]\n",
    "diccionario_a = {\"nombre\":\"Tiziano\",\"apellido\":\"Borrelli\",\"estado\":\"Italia\"}\n",
    "print(lista_a)\n",
    "print(diccionario_a)"
   ]
  },
  {
   "cell_type": "markdown",
   "metadata": {},
   "source": [
    "<img src=\"data:image/png;base64, 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\" width=\"600\" align=\"center\" />"
   ]
  },
  {
   "cell_type": "markdown",
   "metadata": {},
   "source": [
    "Así como el <code>set</code>, <code>list</code> y <code>tuple</code>; el <code>dictionary</code> puede almacenar elementos complejos como <code>set</code> de <code>set</code>, <code>list</code>, <code>tuple</code>, <code>tuple</code> de <code>tuple</code> ..."
   ]
  },
  {
   "cell_type": "code",
   "execution_count": 6,
   "metadata": {},
   "outputs": [
    {
     "data": {
      "text/plain": [
       "{'clave1': 1,\n",
       " 'clave2': '2',\n",
       " 'clave3': [3, 3, 3],\n",
       " 'clave4': (4, 4, 4),\n",
       " 'clave5': 5,\n",
       " (0, 1): 6}"
      ]
     },
     "execution_count": 6,
     "metadata": {},
     "output_type": "execute_result"
    }
   ],
   "source": [
    "Dict = {\"clave1\": 1, \"clave2\": \"2\", \"clave3\": [3, 3, 3], \"clave4\": (4, 4, 4), ('clave5'): 5, (0, 1): 6}\n",
    "Dict"
   ]
  },
  {
   "cell_type": "markdown",
   "metadata": {},
   "source": [
    "* <u>\"clave1\": 1</u>- La clave es una <code>string</code> \"clave1\", y su valor correspondiente es el entero 1.\n",
    "\n",
    "* <u>\"clave2\": \"2\"</u> - La clave es una <code>string</code> \"clave2\", y su valor correspondiente es la cadena \"2\".\n",
    "\n",
    "* <u>\"clave3\": [3, 3, 3]</u> - La clave es una <code>string</code> \"clave3\", y su valor correspondiente es una lista [3, 3, 3]. La lista contiene tres elementos, todos ellos enteros 3.\n",
    "\n",
    "* <u>\"clave4\": (4, 4, 4)</u> - La clave es una <code>string</code> \"clave4\", y su valor correspondiente es una tupla (4, 4, 4). La tupla contiene tres elementos, todos los cuales son el entero 4.\n",
    "\n",
    "* <u>('clave5'): 5</u> - La clave es una tupla ('clave5'), y su valor correspondiente es el entero 5. Observe que la clave está encerrada entre paréntesis para indicar que es una tupla. En este caso, la tupla contiene un único elemento: la <code>string</code> \"clave5\".\n",
    "\n",
    "* <u>(0, 1): 6</u> - La clave es una tupla (0, 1), y su valor correspondiente es el entero 6. Esta tupla contiene dos elementos: 0 y 1."
   ]
  },
  {
   "cell_type": "markdown",
   "metadata": {},
   "source": [
    "Las claves pueden ser <code>string</code>:"
   ]
  },
  {
   "cell_type": "code",
   "execution_count": 7,
   "metadata": {},
   "outputs": [
    {
     "data": {
      "text/plain": [
       "1"
      ]
     },
     "execution_count": 7,
     "metadata": {},
     "output_type": "execute_result"
    }
   ],
   "source": [
    "Dict[\"clave1\"]"
   ]
  },
  {
   "cell_type": "markdown",
   "metadata": {},
   "source": [
    "Las claves también pueden ser cualquier objeto inmutable, como una <code>tuple</code> (tupla):"
   ]
  },
  {
   "cell_type": "code",
   "execution_count": 8,
   "metadata": {},
   "outputs": [
    {
     "data": {
      "text/plain": [
       "6"
      ]
     },
     "execution_count": 8,
     "metadata": {},
     "output_type": "execute_result"
    }
   ],
   "source": [
    "Dict[(0, 1)]"
   ]
  },
  {
   "cell_type": "markdown",
   "metadata": {},
   "source": [
    "Cada clave está separada de su valor por dos puntos \"<code>:</code>\". <br>\n",
    "Las comas separan los elementos, y todo el diccionario se encierra entre llaves. <br>\n",
    "Un diccionario vacío sin ningún elemento se escribe con sólo dos llaves, como en este caso \"<code>{}</code>\"."
   ]
  },
  {
   "cell_type": "code",
   "execution_count": 14,
   "metadata": {},
   "outputs": [
    {
     "data": {
      "text/plain": [
       "{'Alicante': 349282,\n",
       " 'Madrid': 3332035,\n",
       " 'Barcelona': 1660122,\n",
       " 'Toledo': 86070,\n",
       " 'Seville': 684025,\n",
       " 'Bilbao': 346096,\n",
       " 'Ibiza': 154210,\n",
       " 'Ibiza2': 154210}"
      ]
     },
     "execution_count": 14,
     "metadata": {},
     "output_type": "execute_result"
    }
   ],
   "source": [
    "diccionario_ciudades = {\n",
    "                        \"Alicante\":    349282, \\\n",
    "                        \"Madrid\"  :   3332035, \\\n",
    "                        \"Barcelona\":  1660122, \\\n",
    "                        \"Toledo\":       86070, \\\n",
    "                        \"Seville\":     684025, \\\n",
    "                        \"Bilbao\":      346096, \\\n",
    "                        \"Ibiza\":       154210, \\\n",
    "                        \"Ibiza2\":      154210\n",
    "                    }\n",
    "diccionario_ciudades"
   ]
  },
  {
   "cell_type": "markdown",
   "metadata": {},
   "source": [
    "En resumen, al igual que una lista, un diccionario contiene una secuencia de elementos. <br>\n",
    "Cada elemento está representado por una clave y su correspondiente elemento. <br>\n",
    "Los diccionarios se crean con dos llaves que contienen claves y valores separados por dos puntos.<br>\n",
    "Para cada clave sólo puede haber un único valor, aunque varias claves pueden contener el mismo valor. (ejemplo: Ibiza y Ibiza2)<br>\n",
    "Las claves sólo pueden ser <code>string</code>, números o <code>tuple</code>, pero los valores pueden ser de cualquier tipo de datos."
   ]
  },
  {
   "cell_type": "markdown",
   "metadata": {},
   "source": [
    "Es útil visualizar el diccionario como una tabla, como en la siguiente imagen. <br>\n",
    "La primera columna representa las claves, la segunda los elemento."
   ]
  },
  {
   "cell_type": "markdown",
   "metadata": {},
   "source": [
    "<img src=\"data:image/png;base64, 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\" align=\"center\" />"
   ]
  },
  {
   "cell_type": "markdown",
   "metadata": {},
   "source": [
    "<h3>Claves</h3>"
   ]
  },
  {
   "cell_type": "markdown",
   "metadata": {},
   "source": [
    "Puede recuperar los valores basándose en las claves:"
   ]
  },
  {
   "cell_type": "code",
   "execution_count": 15,
   "metadata": {},
   "outputs": [
    {
     "data": {
      "text/plain": [
       "154210"
      ]
     },
     "execution_count": 15,
     "metadata": {},
     "output_type": "execute_result"
    }
   ],
   "source": [
    "diccionario_ciudades['Ibiza']"
   ]
  },
  {
   "cell_type": "markdown",
   "metadata": {},
   "source": [
    "Esto corresponde a:"
   ]
  },
  {
   "cell_type": "markdown",
   "metadata": {},
   "source": [
    "<img src=\"data:image/png;base64, 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\" align=\"center\" />"
   ]
  },
  {
   "cell_type": "markdown",
   "metadata": {},
   "source": [
    "Ahora recuperemos las claves del diccionario mediante el método <code>keys()</code>:"
   ]
  },
  {
   "cell_type": "code",
   "execution_count": 16,
   "metadata": {},
   "outputs": [
    {
     "data": {
      "text/plain": [
       "dict_keys(['Alicante', 'Madrid', 'Barcelona', 'Toledo', 'Seville', 'Bilbao', 'Ibiza', 'Ibiza2'])"
      ]
     },
     "execution_count": 16,
     "metadata": {},
     "output_type": "execute_result"
    }
   ],
   "source": [
    "diccionario_ciudades.keys() "
   ]
  },
  {
   "cell_type": "markdown",
   "metadata": {},
   "source": [
    "<h3>Valores</h3>"
   ]
  },
  {
   "cell_type": "markdown",
   "metadata": {},
   "source": [
    "Puede recuperar los valores mediante el método <code>valores()</code>:"
   ]
  },
  {
   "cell_type": "code",
   "execution_count": 17,
   "metadata": {},
   "outputs": [
    {
     "data": {
      "text/plain": [
       "dict_values([349282, 3332035, 1660122, 86070, 684025, 346096, 154210, 154210])"
      ]
     },
     "execution_count": 17,
     "metadata": {},
     "output_type": "execute_result"
    }
   ],
   "source": [
    "diccionario_ciudades.values() "
   ]
  },
  {
   "cell_type": "markdown",
   "metadata": {},
   "source": [
    "<h3>Añadir una entrad</h3>"
   ]
  },
  {
   "cell_type": "markdown",
   "metadata": {},
   "source": [
    "Podemos añadir una entrada:"
   ]
  },
  {
   "cell_type": "code",
   "execution_count": 22,
   "metadata": {},
   "outputs": [
    {
     "data": {
      "text/plain": [
       "{'Alicante': 349282,\n",
       " 'Madrid': 3332035,\n",
       " 'Barcelona': 1660122,\n",
       " 'Toledo': 86070,\n",
       " 'Seville': 684025,\n",
       " 'Bilbao': 346096,\n",
       " 'Ibiza': 154210,\n",
       " 'Ibiza2': 154210,\n",
       " 'Leon': 121281}"
      ]
     },
     "execution_count": 22,
     "metadata": {},
     "output_type": "execute_result"
    }
   ],
   "source": [
    "diccionario_ciudades[\"Leon\"] = 121281\n",
    "diccionario_ciudades"
   ]
  },
  {
   "cell_type": "markdown",
   "metadata": {},
   "source": [
    "<h3>Eliminar una entrada</h3>"
   ]
  },
  {
   "cell_type": "markdown",
   "metadata": {},
   "source": [
    "Podemos eliminar una entrada:"
   ]
  },
  {
   "cell_type": "code",
   "execution_count": 23,
   "metadata": {},
   "outputs": [
    {
     "data": {
      "text/plain": [
       "{'Alicante': 349282,\n",
       " 'Madrid': 3332035,\n",
       " 'Barcelona': 1660122,\n",
       " 'Toledo': 86070,\n",
       " 'Seville': 684025,\n",
       " 'Bilbao': 346096,\n",
       " 'Ibiza': 154210,\n",
       " 'Leon': 121281}"
      ]
     },
     "execution_count": 23,
     "metadata": {},
     "output_type": "execute_result"
    }
   ],
   "source": [
    "del(diccionario_ciudades['Ibiza2'])\n",
    "diccionario_ciudades"
   ]
  },
  {
   "cell_type": "markdown",
   "metadata": {},
   "source": [
    "<gr>Verificar elemento</h3>"
   ]
  },
  {
   "cell_type": "markdown",
   "metadata": {},
   "source": [
    "Podemos verificar si una clave está en el diccionario:"
   ]
  },
  {
   "cell_type": "code",
   "execution_count": 26,
   "metadata": {},
   "outputs": [
    {
     "data": {
      "text/plain": [
       "True"
      ]
     },
     "execution_count": 26,
     "metadata": {},
     "output_type": "execute_result"
    }
   ],
   "source": [
    "'Alicante' in diccionario_ciudades"
   ]
  },
  {
   "cell_type": "code",
   "execution_count": 27,
   "metadata": {},
   "outputs": [
    {
     "data": {
      "text/plain": [
       "False"
      ]
     },
     "execution_count": 27,
     "metadata": {},
     "output_type": "execute_result"
    }
   ],
   "source": [
    "'alicante' in diccionario_ciudades"
   ]
  },
  {
   "cell_type": "markdown",
   "metadata": {},
   "source": [
    "<hr/>\n",
    "<div class=\"alert alert-success alertsuccess\" style=\"margin-top: 20px\">\n",
    "[Consejo] Recuerdas que Python distingue entre mayúsculas y minúsculas (case-sensitive) \"Alicante\" y \"alicante\" son 2 valores diferentes!\n",
    "</div>\n",
    "<hr/>"
   ]
  },
  {
   "cell_type": "markdown",
   "metadata": {},
   "source": [
    "<hr>\n"
   ]
  },
  {
   "cell_type": "markdown",
   "metadata": {},
   "source": [
    "<h2 id=\"quiz\">Cuestionario sobre diccionarios</h2>"
   ]
  },
  {
   "cell_type": "markdown",
   "metadata": {},
   "source": [
    "<b>Necesitarás este diccionario para las dos preguntas siguientes:</b>"
   ]
  },
  {
   "cell_type": "markdown",
   "metadata": {},
   "source": [
    "a) Creas un diccionario de alumnos llamado <b>\"diccionario_alumnos\"</b> <br>\n",
    "con las siguientes <b>claves</b>: <br>\n",
    "Felipe Lopez, Julio Hernandez, Jorge Pepe\n",
    "con los siguientes <b>elementos</b>: <br>\n",
    "1992, 1977, 2000"
   ]
  },
  {
   "cell_type": "code",
   "execution_count": null,
   "metadata": {},
   "outputs": [],
   "source": [
    "# Escribe tu código y pulsa Shift+Enter para ejecutar"
   ]
  },
  {
   "cell_type": "markdown",
   "metadata": {},
   "source": [
    "<details><summary>Haz doble clic <b>aquí</b> para la solución.</summary>\n",
    "<b>\n",
    "    \n",
    "```python\n",
    "diccionario_alumnos = {\"Felipe Lopez\":1992, \"Julio Hernandez\":1977, \"Jorge Pepe\":2000}\n",
    "diccionario_alumnos \n",
    "```\n",
    "\n",
    "</b>\n",
    "</details>"
   ]
  },
  {
   "cell_type": "markdown",
   "metadata": {},
   "source": [
    "b) En el diccionario <code>diccionario_alumnos</code> ¿cuáles son las claves ?"
   ]
  },
  {
   "cell_type": "code",
   "execution_count": 29,
   "metadata": {},
   "outputs": [],
   "source": [
    "# Escribe tu código y pulsa Shift+Enter para ejecutar"
   ]
  },
  {
   "cell_type": "markdown",
   "metadata": {},
   "source": [
    "<details><summary>Haz doble clic <b>aquí</b> para la solución.</summary>\n",
    "<b>\n",
    "    \n",
    "```python\n",
    "diccionario_alumnos.keys() # \"Felipe Lopez\", \"Julio Hernandez\" \n",
    "```\n",
    "\n",
    "</b>\n",
    "</details>"
   ]
  },
  {
   "cell_type": "markdown",
   "metadata": {},
   "source": [
    "c) En el diccionario <code>diccionario_alumnos</code> ¿cuáles son los valores ?"
   ]
  },
  {
   "cell_type": "code",
   "execution_count": 28,
   "metadata": {},
   "outputs": [],
   "source": [
    "# Escribe tu código y pulsa Shift+Enter para ejecutar"
   ]
  },
  {
   "cell_type": "markdown",
   "metadata": {},
   "source": [
    "<details><summary>Haz doble clic <b>aquí</b> para la solución.</summary>\n",
    "<b>\n",
    "    \n",
    "```python\n",
    "diccionario_alumnos.values() # 1992, 1977, 2000\n",
    "```\n",
    "\n",
    "</b>\n",
    "</details>"
   ]
  },
  {
   "cell_type": "markdown",
   "metadata": {},
   "source": [
    "d) Añades un otro item en el diccionario: <br>\n",
    "clave: \"Julio Hector\": <br>\n",
    "elemento: 2010"
   ]
  },
  {
   "cell_type": "code",
   "execution_count": 32,
   "metadata": {},
   "outputs": [],
   "source": [
    "# Escribe tu código y pulsa Shift+Enter para ejecutar"
   ]
  },
  {
   "cell_type": "markdown",
   "metadata": {},
   "source": [
    "<details><summary>Haz doble clic <b>aquí</b> para la solución.</summary>\n",
    "<b>\n",
    "    \n",
    "```python\n",
    "diccionario_alumnos[\"Julio Hector\"] = 2010\n",
    "```\n",
    "\n",
    "</b>\n",
    "</details>"
   ]
  },
  {
   "cell_type": "markdown",
   "metadata": {},
   "source": [
    "e) Eliminas el item en el diccionario con clave \"Felipe Lopez\""
   ]
  },
  {
   "cell_type": "code",
   "execution_count": 33,
   "metadata": {},
   "outputs": [],
   "source": [
    "# Escribe tu código y pulsa Shift+Enter para ejecutar"
   ]
  },
  {
   "cell_type": "markdown",
   "metadata": {},
   "source": [
    "<details><summary>Haz doble clic <b>aquí</b> para la solución.</summary>\n",
    "<b>\n",
    "    \n",
    "```python\n",
    "del(diccionario_alumnos[\"Felipe Lopez\"])\n",
    "```\n",
    "\n",
    "</b>\n",
    "</details>"
   ]
  }
 ],
 "metadata": {
  "kernelspec": {
   "display_name": "Python 3 (ipykernel)",
   "language": "python",
   "name": "python3"
  },
  "language_info": {
   "codemirror_mode": {
    "name": "ipython",
    "version": 3
   },
   "file_extension": ".py",
   "mimetype": "text/x-python",
   "name": "python",
   "nbconvert_exporter": "python",
   "pygments_lexer": "ipython3",
   "version": "3.12.4"
  }
 },
 "nbformat": 4,
 "nbformat_minor": 4
}
