{
 "cells": [
  {
   "cell_type": "markdown",
   "id": "13554804-2dad-40aa-a8bc-1c9df396e098",
   "metadata": {},
   "source": [
    "# Variables y Costantes\n",
    "\n",
    "⚠️ Recuerda que no hay 'constantes' en Python. \n",
    "El hecho de que una variable esté escrita en MAYÚSCULAS indica que es una constante y que no debe modificarse."
   ]
  },
  {
   "cell_type": "code",
   "execution_count": 6,
   "id": "b796ba68-a96b-416e-958e-9be7fa2f0a1b",
   "metadata": {},
   "outputs": [],
   "source": [
    "#estas son constantes utilizadas en mi proyecto\n",
    "HORAS_DE_TRABAJO = 4\n",
    "PRECIO_POR_HORA = 10"
   ]
  },
  {
   "cell_type": "code",
   "execution_count": 7,
   "id": "4e8008b7-ba49-4345-82fa-de8467ec7581",
   "metadata": {},
   "outputs": [],
   "source": [
    "#estas son variables utilizadas en mi proyecto\n",
    "días_trabajados_en_el_mes = 20"
   ]
  },
  {
   "cell_type": "code",
   "execution_count": 8,
   "id": "4438abf5-509c-4349-8155-c9bda41b7aee",
   "metadata": {},
   "outputs": [
    {
     "data": {
      "text/plain": [
       "800"
      ]
     },
     "execution_count": 8,
     "metadata": {},
     "output_type": "execute_result"
    }
   ],
   "source": [
    "HORAS_DE_TRABAJO*PRECIO_POR_HORA*días_trabajados_en_el_mes"
   ]
  },
  {
   "cell_type": "markdown",
   "id": "3f0bc1aa-3757-4adf-9ed5-e0bde92ce05c",
   "metadata": {},
   "source": [
    "ℹ️ Pero si quiero modificar una costante, no tengo ningún problema en hacerlo."
   ]
  },
  {
   "cell_type": "code",
   "execution_count": 12,
   "id": "d7963b53-987c-42d9-b381-08f694949ea4",
   "metadata": {},
   "outputs": [],
   "source": [
    "PRECIO_POR_HORA = 20"
   ]
  },
  {
   "cell_type": "code",
   "execution_count": null,
   "id": "e31740fb-3f00-45aa-aaf5-61d23ac9ba8d",
   "metadata": {},
   "outputs": [],
   "source": [
    "HORAS_DE_TRABAJO*PRECIO_POR_HORA*días_trabajados_en_el_mes"
   ]
  },
  {
   "cell_type": "code",
   "execution_count": null,
   "id": "678a5c59-7672-4a24-a991-c9fb3910996e",
   "metadata": {},
   "outputs": [],
   "source": []
  }
 ],
 "metadata": {
  "kernelspec": {
   "display_name": "Python 3 (ipykernel)",
   "language": "python",
   "name": "python3"
  },
  "language_info": {
   "codemirror_mode": {
    "name": "ipython",
    "version": 3
   },
   "file_extension": ".py",
   "mimetype": "text/x-python",
   "name": "python",
   "nbconvert_exporter": "python",
   "pygments_lexer": "ipython3",
   "version": "3.12.4"
  }
 },
 "nbformat": 4,
 "nbformat_minor": 5
}
