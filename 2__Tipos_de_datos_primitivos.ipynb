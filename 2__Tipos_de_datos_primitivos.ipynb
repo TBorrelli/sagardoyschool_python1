{
 "cells": [
  {
   "cell_type": "markdown",
   "id": "7aeab9ef-0608-42d4-9bc9-4747bba696ea",
   "metadata": {},
   "source": [
    "# Tipos de datos primitivos"
   ]
  },
  {
   "cell_type": "code",
   "execution_count": 1,
   "id": "515e2b63-efeb-4db0-b640-404fa25d1503",
   "metadata": {},
   "outputs": [
    {
     "name": "stdout",
     "output_type": "stream",
     "text": [
      "Nombre: Juan\n",
      "Edad: 25\n",
      "Altura: 1.75\n",
      "¿Es estudiante? True\n"
     ]
    }
   ],
   "source": [
    "# Ejemplo de cadena \n",
    "nombre = \"Juan\"\n",
    "# Ejemplo números entero\n",
    "edad = 25 \n",
    "# Ejemplo números con decimales\n",
    "altura = 1.75 \n",
    "# Ejemplo booleano\n",
    "es_estudiante = True\n",
    "# Imprimir los valores de las variables \n",
    "print(\"Nombre:\", nombre) \n",
    "print(\"Edad:\", edad) \n",
    "print(\"Altura:\", altura)\n",
    "print(\"¿Es estudiante?\", es_estudiante)"
   ]
  }
 ],
 "metadata": {
  "kernelspec": {
   "display_name": "Python 3 (ipykernel)",
   "language": "python",
   "name": "python3"
  },
  "language_info": {
   "codemirror_mode": {
    "name": "ipython",
    "version": 3
   },
   "file_extension": ".py",
   "mimetype": "text/x-python",
   "name": "python",
   "nbconvert_exporter": "python",
   "pygments_lexer": "ipython3",
   "version": "3.12.4"
  }
 },
 "nbformat": 4,
 "nbformat_minor": 5
}
